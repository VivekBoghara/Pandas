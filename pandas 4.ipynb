{
 "cells": [
  {
   "cell_type": "markdown",
   "id": "64ce8802",
   "metadata": {},
   "source": [
    "# Data cleaning & Data manipulation"
   ]
  },
  {
   "cell_type": "code",
   "execution_count": null,
   "id": "ad81587e",
   "metadata": {},
   "outputs": [],
   "source": []
  },
  {
   "cell_type": "code",
   "execution_count": 1,
   "id": "722339b5",
   "metadata": {},
   "outputs": [],
   "source": [
    "import pandas as pd"
   ]
  },
  {
   "cell_type": "code",
   "execution_count": 2,
   "id": "5a333e2b",
   "metadata": {},
   "outputs": [],
   "source": [
    "import numpy as np"
   ]
  },
  {
   "cell_type": "code",
   "execution_count": 3,
   "id": "62ad3dc7",
   "metadata": {},
   "outputs": [],
   "source": [
    "# The numpy.random.randn() function creates an array of specified shape and fills it with random values as per standard normal distribution.\n",
    "data1=np.random.randn(10,3)\n",
    "data2=np.random.randn(7,3)  #<- it will create the array of given shape matrix with the random values"
   ]
  },
  {
   "cell_type": "code",
   "execution_count": 4,
   "id": "2eca4790",
   "metadata": {
    "scrolled": true
   },
   "outputs": [
    {
     "data": {
      "text/plain": [
       "array([[-0.56026409,  1.27128318,  0.98995379],\n",
       "       [-0.44854832, -0.30615307,  1.21116647],\n",
       "       [-0.12423814,  0.47610123,  0.70689164],\n",
       "       [ 0.41903099,  0.19819109,  0.7893961 ],\n",
       "       [-0.18322199, -1.65138207, -1.31454597],\n",
       "       [-1.00540997,  0.87120111,  1.44865251],\n",
       "       [ 1.41596477, -0.77393695, -0.78076566],\n",
       "       [ 0.05361718,  0.32130124,  0.79852835],\n",
       "       [-0.01897162,  0.17526644, -1.63123794],\n",
       "       [-0.21898182,  0.09390823, -0.28318798]])"
      ]
     },
     "execution_count": 4,
     "metadata": {},
     "output_type": "execute_result"
    }
   ],
   "source": [
    "data1"
   ]
  },
  {
   "cell_type": "code",
   "execution_count": 5,
   "id": "2e2aa90e",
   "metadata": {},
   "outputs": [
    {
     "data": {
      "text/plain": [
       "array([[ 0.83989925, -0.30649825,  0.78803585],\n",
       "       [-0.39922345,  0.45387088,  1.40215753],\n",
       "       [-1.14305021, -2.11649495,  0.46060118],\n",
       "       [-1.07360164, -0.94173984,  1.30090294],\n",
       "       [ 0.08628915,  0.06109473, -0.9802052 ],\n",
       "       [-0.44656454,  1.17635665, -1.10716194],\n",
       "       [ 0.82893162, -1.09009756,  0.8071498 ]])"
      ]
     },
     "execution_count": 5,
     "metadata": {},
     "output_type": "execute_result"
    }
   ],
   "source": [
    "data2"
   ]
  },
  {
   "cell_type": "code",
   "execution_count": 6,
   "id": "c23f3a00",
   "metadata": {},
   "outputs": [],
   "source": [
    "df1=pd.DataFrame(data1,columns=[\"Col1\",\"Col2\",\"Col3\"])\n",
    "df2=pd.DataFrame(data2,columns=[\"Col1\",\"Col2\",\"Col3\"])"
   ]
  },
  {
   "cell_type": "code",
   "execution_count": 7,
   "id": "17660f1c",
   "metadata": {
    "scrolled": true
   },
   "outputs": [
    {
     "data": {
      "text/html": [
       "<div>\n",
       "<style scoped>\n",
       "    .dataframe tbody tr th:only-of-type {\n",
       "        vertical-align: middle;\n",
       "    }\n",
       "\n",
       "    .dataframe tbody tr th {\n",
       "        vertical-align: top;\n",
       "    }\n",
       "\n",
       "    .dataframe thead th {\n",
       "        text-align: right;\n",
       "    }\n",
       "</style>\n",
       "<table border=\"1\" class=\"dataframe\">\n",
       "  <thead>\n",
       "    <tr style=\"text-align: right;\">\n",
       "      <th></th>\n",
       "      <th>Col1</th>\n",
       "      <th>Col2</th>\n",
       "      <th>Col3</th>\n",
       "    </tr>\n",
       "  </thead>\n",
       "  <tbody>\n",
       "    <tr>\n",
       "      <th>0</th>\n",
       "      <td>-0.560264</td>\n",
       "      <td>1.271283</td>\n",
       "      <td>0.989954</td>\n",
       "    </tr>\n",
       "    <tr>\n",
       "      <th>1</th>\n",
       "      <td>-0.448548</td>\n",
       "      <td>-0.306153</td>\n",
       "      <td>1.211166</td>\n",
       "    </tr>\n",
       "    <tr>\n",
       "      <th>2</th>\n",
       "      <td>-0.124238</td>\n",
       "      <td>0.476101</td>\n",
       "      <td>0.706892</td>\n",
       "    </tr>\n",
       "    <tr>\n",
       "      <th>3</th>\n",
       "      <td>0.419031</td>\n",
       "      <td>0.198191</td>\n",
       "      <td>0.789396</td>\n",
       "    </tr>\n",
       "    <tr>\n",
       "      <th>4</th>\n",
       "      <td>-0.183222</td>\n",
       "      <td>-1.651382</td>\n",
       "      <td>-1.314546</td>\n",
       "    </tr>\n",
       "    <tr>\n",
       "      <th>5</th>\n",
       "      <td>-1.005410</td>\n",
       "      <td>0.871201</td>\n",
       "      <td>1.448653</td>\n",
       "    </tr>\n",
       "    <tr>\n",
       "      <th>6</th>\n",
       "      <td>1.415965</td>\n",
       "      <td>-0.773937</td>\n",
       "      <td>-0.780766</td>\n",
       "    </tr>\n",
       "    <tr>\n",
       "      <th>7</th>\n",
       "      <td>0.053617</td>\n",
       "      <td>0.321301</td>\n",
       "      <td>0.798528</td>\n",
       "    </tr>\n",
       "    <tr>\n",
       "      <th>8</th>\n",
       "      <td>-0.018972</td>\n",
       "      <td>0.175266</td>\n",
       "      <td>-1.631238</td>\n",
       "    </tr>\n",
       "    <tr>\n",
       "      <th>9</th>\n",
       "      <td>-0.218982</td>\n",
       "      <td>0.093908</td>\n",
       "      <td>-0.283188</td>\n",
       "    </tr>\n",
       "  </tbody>\n",
       "</table>\n",
       "</div>"
      ],
      "text/plain": [
       "       Col1      Col2      Col3\n",
       "0 -0.560264  1.271283  0.989954\n",
       "1 -0.448548 -0.306153  1.211166\n",
       "2 -0.124238  0.476101  0.706892\n",
       "3  0.419031  0.198191  0.789396\n",
       "4 -0.183222 -1.651382 -1.314546\n",
       "5 -1.005410  0.871201  1.448653\n",
       "6  1.415965 -0.773937 -0.780766\n",
       "7  0.053617  0.321301  0.798528\n",
       "8 -0.018972  0.175266 -1.631238\n",
       "9 -0.218982  0.093908 -0.283188"
      ]
     },
     "execution_count": 7,
     "metadata": {},
     "output_type": "execute_result"
    }
   ],
   "source": [
    "df1"
   ]
  },
  {
   "cell_type": "code",
   "execution_count": null,
   "id": "d099c727",
   "metadata": {},
   "outputs": [],
   "source": []
  },
  {
   "cell_type": "code",
   "execution_count": null,
   "id": "fef4f87f",
   "metadata": {},
   "outputs": [],
   "source": []
  },
  {
   "cell_type": "code",
   "execution_count": 8,
   "id": "53899c48",
   "metadata": {
    "scrolled": false
   },
   "outputs": [
    {
     "data": {
      "text/html": [
       "<div>\n",
       "<style scoped>\n",
       "    .dataframe tbody tr th:only-of-type {\n",
       "        vertical-align: middle;\n",
       "    }\n",
       "\n",
       "    .dataframe tbody tr th {\n",
       "        vertical-align: top;\n",
       "    }\n",
       "\n",
       "    .dataframe thead th {\n",
       "        text-align: right;\n",
       "    }\n",
       "</style>\n",
       "<table border=\"1\" class=\"dataframe\">\n",
       "  <thead>\n",
       "    <tr style=\"text-align: right;\">\n",
       "      <th></th>\n",
       "      <th>Col1</th>\n",
       "      <th>Col2</th>\n",
       "      <th>Col3</th>\n",
       "    </tr>\n",
       "  </thead>\n",
       "  <tbody>\n",
       "    <tr>\n",
       "      <th>0</th>\n",
       "      <td>0.839899</td>\n",
       "      <td>-0.306498</td>\n",
       "      <td>0.788036</td>\n",
       "    </tr>\n",
       "    <tr>\n",
       "      <th>1</th>\n",
       "      <td>-0.399223</td>\n",
       "      <td>0.453871</td>\n",
       "      <td>1.402158</td>\n",
       "    </tr>\n",
       "    <tr>\n",
       "      <th>2</th>\n",
       "      <td>-1.143050</td>\n",
       "      <td>-2.116495</td>\n",
       "      <td>0.460601</td>\n",
       "    </tr>\n",
       "    <tr>\n",
       "      <th>3</th>\n",
       "      <td>-1.073602</td>\n",
       "      <td>-0.941740</td>\n",
       "      <td>1.300903</td>\n",
       "    </tr>\n",
       "    <tr>\n",
       "      <th>4</th>\n",
       "      <td>0.086289</td>\n",
       "      <td>0.061095</td>\n",
       "      <td>-0.980205</td>\n",
       "    </tr>\n",
       "    <tr>\n",
       "      <th>5</th>\n",
       "      <td>-0.446565</td>\n",
       "      <td>1.176357</td>\n",
       "      <td>-1.107162</td>\n",
       "    </tr>\n",
       "    <tr>\n",
       "      <th>6</th>\n",
       "      <td>0.828932</td>\n",
       "      <td>-1.090098</td>\n",
       "      <td>0.807150</td>\n",
       "    </tr>\n",
       "  </tbody>\n",
       "</table>\n",
       "</div>"
      ],
      "text/plain": [
       "       Col1      Col2      Col3\n",
       "0  0.839899 -0.306498  0.788036\n",
       "1 -0.399223  0.453871  1.402158\n",
       "2 -1.143050 -2.116495  0.460601\n",
       "3 -1.073602 -0.941740  1.300903\n",
       "4  0.086289  0.061095 -0.980205\n",
       "5 -0.446565  1.176357 -1.107162\n",
       "6  0.828932 -1.090098  0.807150"
      ]
     },
     "execution_count": 8,
     "metadata": {},
     "output_type": "execute_result"
    }
   ],
   "source": [
    "df2"
   ]
  },
  {
   "cell_type": "code",
   "execution_count": 14,
   "id": "0095d6e4",
   "metadata": {},
   "outputs": [],
   "source": [
    "df3=df1.append(df2,ignore_index=True)"
   ]
  },
  {
   "cell_type": "code",
   "execution_count": 15,
   "id": "b635de46",
   "metadata": {
    "scrolled": true
   },
   "outputs": [
    {
     "data": {
      "text/html": [
       "<div>\n",
       "<style scoped>\n",
       "    .dataframe tbody tr th:only-of-type {\n",
       "        vertical-align: middle;\n",
       "    }\n",
       "\n",
       "    .dataframe tbody tr th {\n",
       "        vertical-align: top;\n",
       "    }\n",
       "\n",
       "    .dataframe thead th {\n",
       "        text-align: right;\n",
       "    }\n",
       "</style>\n",
       "<table border=\"1\" class=\"dataframe\">\n",
       "  <thead>\n",
       "    <tr style=\"text-align: right;\">\n",
       "      <th></th>\n",
       "      <th>Col1</th>\n",
       "      <th>Col2</th>\n",
       "      <th>Col3</th>\n",
       "    </tr>\n",
       "  </thead>\n",
       "  <tbody>\n",
       "    <tr>\n",
       "      <th>0</th>\n",
       "      <td>-0.560264</td>\n",
       "      <td>1.271283</td>\n",
       "      <td>0.989954</td>\n",
       "    </tr>\n",
       "    <tr>\n",
       "      <th>1</th>\n",
       "      <td>-0.448548</td>\n",
       "      <td>-0.306153</td>\n",
       "      <td>1.211166</td>\n",
       "    </tr>\n",
       "    <tr>\n",
       "      <th>2</th>\n",
       "      <td>-0.124238</td>\n",
       "      <td>0.476101</td>\n",
       "      <td>0.706892</td>\n",
       "    </tr>\n",
       "    <tr>\n",
       "      <th>3</th>\n",
       "      <td>0.419031</td>\n",
       "      <td>0.198191</td>\n",
       "      <td>0.789396</td>\n",
       "    </tr>\n",
       "    <tr>\n",
       "      <th>4</th>\n",
       "      <td>-0.183222</td>\n",
       "      <td>-1.651382</td>\n",
       "      <td>-1.314546</td>\n",
       "    </tr>\n",
       "    <tr>\n",
       "      <th>5</th>\n",
       "      <td>-1.005410</td>\n",
       "      <td>0.871201</td>\n",
       "      <td>1.448653</td>\n",
       "    </tr>\n",
       "    <tr>\n",
       "      <th>6</th>\n",
       "      <td>1.415965</td>\n",
       "      <td>-0.773937</td>\n",
       "      <td>-0.780766</td>\n",
       "    </tr>\n",
       "    <tr>\n",
       "      <th>7</th>\n",
       "      <td>0.053617</td>\n",
       "      <td>0.321301</td>\n",
       "      <td>0.798528</td>\n",
       "    </tr>\n",
       "    <tr>\n",
       "      <th>8</th>\n",
       "      <td>-0.018972</td>\n",
       "      <td>0.175266</td>\n",
       "      <td>-1.631238</td>\n",
       "    </tr>\n",
       "    <tr>\n",
       "      <th>9</th>\n",
       "      <td>-0.218982</td>\n",
       "      <td>0.093908</td>\n",
       "      <td>-0.283188</td>\n",
       "    </tr>\n",
       "    <tr>\n",
       "      <th>10</th>\n",
       "      <td>0.839899</td>\n",
       "      <td>-0.306498</td>\n",
       "      <td>0.788036</td>\n",
       "    </tr>\n",
       "    <tr>\n",
       "      <th>11</th>\n",
       "      <td>-0.399223</td>\n",
       "      <td>0.453871</td>\n",
       "      <td>1.402158</td>\n",
       "    </tr>\n",
       "    <tr>\n",
       "      <th>12</th>\n",
       "      <td>-1.143050</td>\n",
       "      <td>-2.116495</td>\n",
       "      <td>0.460601</td>\n",
       "    </tr>\n",
       "    <tr>\n",
       "      <th>13</th>\n",
       "      <td>-1.073602</td>\n",
       "      <td>-0.941740</td>\n",
       "      <td>1.300903</td>\n",
       "    </tr>\n",
       "    <tr>\n",
       "      <th>14</th>\n",
       "      <td>0.086289</td>\n",
       "      <td>0.061095</td>\n",
       "      <td>-0.980205</td>\n",
       "    </tr>\n",
       "    <tr>\n",
       "      <th>15</th>\n",
       "      <td>-0.446565</td>\n",
       "      <td>1.176357</td>\n",
       "      <td>-1.107162</td>\n",
       "    </tr>\n",
       "    <tr>\n",
       "      <th>16</th>\n",
       "      <td>0.828932</td>\n",
       "      <td>-1.090098</td>\n",
       "      <td>0.807150</td>\n",
       "    </tr>\n",
       "  </tbody>\n",
       "</table>\n",
       "</div>"
      ],
      "text/plain": [
       "        Col1      Col2      Col3\n",
       "0  -0.560264  1.271283  0.989954\n",
       "1  -0.448548 -0.306153  1.211166\n",
       "2  -0.124238  0.476101  0.706892\n",
       "3   0.419031  0.198191  0.789396\n",
       "4  -0.183222 -1.651382 -1.314546\n",
       "5  -1.005410  0.871201  1.448653\n",
       "6   1.415965 -0.773937 -0.780766\n",
       "7   0.053617  0.321301  0.798528\n",
       "8  -0.018972  0.175266 -1.631238\n",
       "9  -0.218982  0.093908 -0.283188\n",
       "10  0.839899 -0.306498  0.788036\n",
       "11 -0.399223  0.453871  1.402158\n",
       "12 -1.143050 -2.116495  0.460601\n",
       "13 -1.073602 -0.941740  1.300903\n",
       "14  0.086289  0.061095 -0.980205\n",
       "15 -0.446565  1.176357 -1.107162\n",
       "16  0.828932 -1.090098  0.807150"
      ]
     },
     "execution_count": 15,
     "metadata": {},
     "output_type": "execute_result"
    }
   ],
   "source": [
    "df3"
   ]
  },
  {
   "cell_type": "code",
   "execution_count": 18,
   "id": "96bc4f49",
   "metadata": {},
   "outputs": [
    {
     "name": "stdout",
     "output_type": "stream",
     "text": [
      "Col1\n",
      "Col2\n",
      "Col3\n"
     ]
    }
   ],
   "source": [
    "for i in df3:\n",
    "    print(i)"
   ]
  },
  {
   "cell_type": "code",
   "execution_count": 16,
   "id": "d1040e79",
   "metadata": {
    "scrolled": true
   },
   "outputs": [
    {
     "name": "stdout",
     "output_type": "stream",
     "text": [
      "0.9899537898305119\n",
      "1.211166471312162\n",
      "0.7068916352467892\n",
      "0.7893960964072294\n",
      "-1.3145459656829737\n",
      "1.4486525092669014\n",
      "-0.7807656553157393\n",
      "0.7985283478575084\n",
      "-1.6312379365711307\n",
      "-0.2831879775316719\n",
      "0.7880358489363444\n",
      "1.4021575291695487\n",
      "0.4606011845223971\n",
      "1.3009029425194167\n",
      "-0.9802052007768589\n",
      "-1.1071619427126964\n",
      "0.8071498034783227\n"
     ]
    }
   ],
   "source": [
    "for i in df3[\"Col3\"]:\n",
    "    print(i)"
   ]
  },
  {
   "cell_type": "code",
   "execution_count": 20,
   "id": "b5ebefb9",
   "metadata": {},
   "outputs": [
    {
     "name": "stdout",
     "output_type": "stream",
     "text": [
      "0.9899537898305119\n",
      "1.211166471312162\n",
      "0.7068916352467892\n",
      "0.7893960964072294\n",
      "-1.3145459656829737\n",
      "1.4486525092669014\n",
      "-0.7807656553157393\n",
      "0.7985283478575084\n",
      "-1.6312379365711307\n",
      "-0.2831879775316719\n",
      "0.7880358489363444\n",
      "1.4021575291695487\n",
      "0.4606011845223971\n",
      "1.3009029425194167\n",
      "-0.9802052007768589\n",
      "-1.1071619427126964\n",
      "0.8071498034783227\n"
     ]
    }
   ],
   "source": [
    "#OR \n",
    "for i in df3.Col3:\n",
    "    print(i)"
   ]
  },
  {
   "cell_type": "code",
   "execution_count": null,
   "id": "5fdf4b4d",
   "metadata": {},
   "outputs": [],
   "source": []
  },
  {
   "cell_type": "markdown",
   "id": "13c51ac6",
   "metadata": {},
   "source": [
    "# iteritems   \n",
    "It will convert the DataFrame into dictionary.\n",
    "The column name into keys and the data into values\n",
    "and it will print the values column by column. First it will takethe values of column1 and then it will take the values of columne2"
   ]
  },
  {
   "cell_type": "code",
   "execution_count": 23,
   "id": "d76c45b8",
   "metadata": {
    "scrolled": true
   },
   "outputs": [
    {
     "name": "stdout",
     "output_type": "stream",
     "text": [
      "Col1\n",
      "Col2\n",
      "Col3\n"
     ]
    }
   ],
   "source": [
    "for key,values in df3.iteritems():\n",
    "    print(key)"
   ]
  },
  {
   "cell_type": "code",
   "execution_count": 21,
   "id": "b863e9e6",
   "metadata": {
    "scrolled": true
   },
   "outputs": [
    {
     "name": "stdout",
     "output_type": "stream",
     "text": [
      "Col1 0     0.710888\n",
      "1    -0.328806\n",
      "2    -1.846169\n",
      "3    -0.626361\n",
      "4    -0.510165\n",
      "5    -0.481509\n",
      "6     0.858866\n",
      "7    -0.214969\n",
      "8     0.039997\n",
      "9     1.235591\n",
      "10    2.000624\n",
      "11   -0.821978\n",
      "12    0.166105\n",
      "13   -1.039821\n",
      "14   -1.510310\n",
      "15   -1.109665\n",
      "16   -0.990257\n",
      "Name: Col1, dtype: float64\n",
      "Col2 0     0.464342\n",
      "1     1.000314\n",
      "2    -1.013042\n",
      "3     0.488084\n",
      "4     1.579486\n",
      "5     1.353039\n",
      "6     0.215175\n",
      "7     0.977767\n",
      "8    -0.441051\n",
      "9     0.163279\n",
      "10    0.332342\n",
      "11    0.846747\n",
      "12   -1.531537\n",
      "13   -0.290395\n",
      "14    0.481265\n",
      "15    0.313711\n",
      "16    1.736707\n",
      "Name: Col2, dtype: float64\n",
      "Col3 0    -0.121852\n",
      "1    -1.824880\n",
      "2    -0.525336\n",
      "3    -1.196827\n",
      "4     1.815609\n",
      "5     0.207638\n",
      "6    -0.050412\n",
      "7     0.620320\n",
      "8    -0.761193\n",
      "9     0.260510\n",
      "10   -0.298518\n",
      "11    0.023442\n",
      "12    0.558691\n",
      "13    1.221144\n",
      "14    0.458812\n",
      "15    0.171217\n",
      "16   -0.248473\n",
      "Name: Col3, dtype: float64\n"
     ]
    }
   ],
   "source": [
    "#for columns\n",
    "for key,value in df3.iteritems():\n",
    "    print(key,value)"
   ]
  },
  {
   "cell_type": "code",
   "execution_count": null,
   "id": "b3ff1fa9",
   "metadata": {},
   "outputs": [],
   "source": []
  },
  {
   "cell_type": "markdown",
   "id": "c508fecf",
   "metadata": {},
   "source": [
    "# iterrows\n",
    "This will print the elements row by row"
   ]
  },
  {
   "cell_type": "code",
   "execution_count": 23,
   "id": "b6ed23ea",
   "metadata": {
    "scrolled": true
   },
   "outputs": [
    {
     "data": {
      "text/html": [
       "<div>\n",
       "<style scoped>\n",
       "    .dataframe tbody tr th:only-of-type {\n",
       "        vertical-align: middle;\n",
       "    }\n",
       "\n",
       "    .dataframe tbody tr th {\n",
       "        vertical-align: top;\n",
       "    }\n",
       "\n",
       "    .dataframe thead th {\n",
       "        text-align: right;\n",
       "    }\n",
       "</style>\n",
       "<table border=\"1\" class=\"dataframe\">\n",
       "  <thead>\n",
       "    <tr style=\"text-align: right;\">\n",
       "      <th></th>\n",
       "      <th>Col1</th>\n",
       "      <th>Col2</th>\n",
       "      <th>Col3</th>\n",
       "    </tr>\n",
       "  </thead>\n",
       "  <tbody>\n",
       "    <tr>\n",
       "      <th>0</th>\n",
       "      <td>0.710888</td>\n",
       "      <td>0.464342</td>\n",
       "      <td>-0.121852</td>\n",
       "    </tr>\n",
       "    <tr>\n",
       "      <th>1</th>\n",
       "      <td>-0.328806</td>\n",
       "      <td>1.000314</td>\n",
       "      <td>-1.824880</td>\n",
       "    </tr>\n",
       "    <tr>\n",
       "      <th>2</th>\n",
       "      <td>-1.846169</td>\n",
       "      <td>-1.013042</td>\n",
       "      <td>-0.525336</td>\n",
       "    </tr>\n",
       "    <tr>\n",
       "      <th>3</th>\n",
       "      <td>-0.626361</td>\n",
       "      <td>0.488084</td>\n",
       "      <td>-1.196827</td>\n",
       "    </tr>\n",
       "    <tr>\n",
       "      <th>4</th>\n",
       "      <td>-0.510165</td>\n",
       "      <td>1.579486</td>\n",
       "      <td>1.815609</td>\n",
       "    </tr>\n",
       "    <tr>\n",
       "      <th>5</th>\n",
       "      <td>-0.481509</td>\n",
       "      <td>1.353039</td>\n",
       "      <td>0.207638</td>\n",
       "    </tr>\n",
       "    <tr>\n",
       "      <th>6</th>\n",
       "      <td>0.858866</td>\n",
       "      <td>0.215175</td>\n",
       "      <td>-0.050412</td>\n",
       "    </tr>\n",
       "    <tr>\n",
       "      <th>7</th>\n",
       "      <td>-0.214969</td>\n",
       "      <td>0.977767</td>\n",
       "      <td>0.620320</td>\n",
       "    </tr>\n",
       "    <tr>\n",
       "      <th>8</th>\n",
       "      <td>0.039997</td>\n",
       "      <td>-0.441051</td>\n",
       "      <td>-0.761193</td>\n",
       "    </tr>\n",
       "    <tr>\n",
       "      <th>9</th>\n",
       "      <td>1.235591</td>\n",
       "      <td>0.163279</td>\n",
       "      <td>0.260510</td>\n",
       "    </tr>\n",
       "    <tr>\n",
       "      <th>10</th>\n",
       "      <td>2.000624</td>\n",
       "      <td>0.332342</td>\n",
       "      <td>-0.298518</td>\n",
       "    </tr>\n",
       "    <tr>\n",
       "      <th>11</th>\n",
       "      <td>-0.821978</td>\n",
       "      <td>0.846747</td>\n",
       "      <td>0.023442</td>\n",
       "    </tr>\n",
       "    <tr>\n",
       "      <th>12</th>\n",
       "      <td>0.166105</td>\n",
       "      <td>-1.531537</td>\n",
       "      <td>0.558691</td>\n",
       "    </tr>\n",
       "    <tr>\n",
       "      <th>13</th>\n",
       "      <td>-1.039821</td>\n",
       "      <td>-0.290395</td>\n",
       "      <td>1.221144</td>\n",
       "    </tr>\n",
       "    <tr>\n",
       "      <th>14</th>\n",
       "      <td>-1.510310</td>\n",
       "      <td>0.481265</td>\n",
       "      <td>0.458812</td>\n",
       "    </tr>\n",
       "    <tr>\n",
       "      <th>15</th>\n",
       "      <td>-1.109665</td>\n",
       "      <td>0.313711</td>\n",
       "      <td>0.171217</td>\n",
       "    </tr>\n",
       "    <tr>\n",
       "      <th>16</th>\n",
       "      <td>-0.990257</td>\n",
       "      <td>1.736707</td>\n",
       "      <td>-0.248473</td>\n",
       "    </tr>\n",
       "  </tbody>\n",
       "</table>\n",
       "</div>"
      ],
      "text/plain": [
       "        Col1      Col2      Col3\n",
       "0   0.710888  0.464342 -0.121852\n",
       "1  -0.328806  1.000314 -1.824880\n",
       "2  -1.846169 -1.013042 -0.525336\n",
       "3  -0.626361  0.488084 -1.196827\n",
       "4  -0.510165  1.579486  1.815609\n",
       "5  -0.481509  1.353039  0.207638\n",
       "6   0.858866  0.215175 -0.050412\n",
       "7  -0.214969  0.977767  0.620320\n",
       "8   0.039997 -0.441051 -0.761193\n",
       "9   1.235591  0.163279  0.260510\n",
       "10  2.000624  0.332342 -0.298518\n",
       "11 -0.821978  0.846747  0.023442\n",
       "12  0.166105 -1.531537  0.558691\n",
       "13 -1.039821 -0.290395  1.221144\n",
       "14 -1.510310  0.481265  0.458812\n",
       "15 -1.109665  0.313711  0.171217\n",
       "16 -0.990257  1.736707 -0.248473"
      ]
     },
     "execution_count": 23,
     "metadata": {},
     "output_type": "execute_result"
    }
   ],
   "source": [
    "df3"
   ]
  },
  {
   "cell_type": "code",
   "execution_count": 32,
   "id": "6ec6630a",
   "metadata": {
    "scrolled": true
   },
   "outputs": [
    {
     "name": "stdout",
     "output_type": "stream",
     "text": [
      "0 Col1   -0.560264\n",
      "Col2    1.271283\n",
      "Col3    0.989954\n",
      "Name: 0, dtype: float64\n",
      "1 Col1   -0.448548\n",
      "Col2   -0.306153\n",
      "Col3    1.211166\n",
      "Name: 1, dtype: float64\n",
      "2 Col1   -0.124238\n",
      "Col2    0.476101\n",
      "Col3    0.706892\n",
      "Name: 2, dtype: float64\n",
      "3 Col1    0.419031\n",
      "Col2    0.198191\n",
      "Col3    0.789396\n",
      "Name: 3, dtype: float64\n",
      "4 Col1   -0.183222\n",
      "Col2   -1.651382\n",
      "Col3   -1.314546\n",
      "Name: 4, dtype: float64\n",
      "5 Col1   -1.005410\n",
      "Col2    0.871201\n",
      "Col3    1.448653\n",
      "Name: 5, dtype: float64\n",
      "6 Col1    1.415965\n",
      "Col2   -0.773937\n",
      "Col3   -0.780766\n",
      "Name: 6, dtype: float64\n",
      "7 Col1    0.053617\n",
      "Col2    0.321301\n",
      "Col3    0.798528\n",
      "Name: 7, dtype: float64\n",
      "8 Col1   -0.018972\n",
      "Col2    0.175266\n",
      "Col3   -1.631238\n",
      "Name: 8, dtype: float64\n",
      "9 Col1   -0.218982\n",
      "Col2    0.093908\n",
      "Col3   -0.283188\n",
      "Name: 9, dtype: float64\n",
      "10 Col1    0.839899\n",
      "Col2   -0.306498\n",
      "Col3    0.788036\n",
      "Name: 10, dtype: float64\n",
      "11 Col1   -0.399223\n",
      "Col2    0.453871\n",
      "Col3    1.402158\n",
      "Name: 11, dtype: float64\n",
      "12 Col1   -1.143050\n",
      "Col2   -2.116495\n",
      "Col3    0.460601\n",
      "Name: 12, dtype: float64\n",
      "13 Col1   -1.073602\n",
      "Col2   -0.941740\n",
      "Col3    1.300903\n",
      "Name: 13, dtype: float64\n",
      "14 Col1    0.086289\n",
      "Col2    0.061095\n",
      "Col3   -0.980205\n",
      "Name: 14, dtype: float64\n",
      "15 Col1   -0.446565\n",
      "Col2    1.176357\n",
      "Col3   -1.107162\n",
      "Name: 15, dtype: float64\n",
      "16 Col1    0.828932\n",
      "Col2   -1.090098\n",
      "Col3    0.807150\n",
      "Name: 16, dtype: float64\n"
     ]
    }
   ],
   "source": [
    "#for printing as per rows\n",
    "for index,rows in df3.iterrows():\n",
    "    print(index,rows)"
   ]
  },
  {
   "cell_type": "code",
   "execution_count": null,
   "id": "36e83cb1",
   "metadata": {},
   "outputs": [],
   "source": []
  },
  {
   "cell_type": "markdown",
   "id": "b76c366c",
   "metadata": {},
   "source": [
    "# Sort - sort_index()"
   ]
  },
  {
   "cell_type": "code",
   "execution_count": 28,
   "id": "46690308",
   "metadata": {},
   "outputs": [],
   "source": [
    "unsorted_df=pd.DataFrame(np.random.randn(10,3),index=[5,7,3,9,1,4,8,2,4,0],columns=[\"Col1\",\"Col2\",\"Col3\"])"
   ]
  },
  {
   "cell_type": "code",
   "execution_count": 30,
   "id": "af910ecd",
   "metadata": {
    "scrolled": true
   },
   "outputs": [
    {
     "data": {
      "text/html": [
       "<div>\n",
       "<style scoped>\n",
       "    .dataframe tbody tr th:only-of-type {\n",
       "        vertical-align: middle;\n",
       "    }\n",
       "\n",
       "    .dataframe tbody tr th {\n",
       "        vertical-align: top;\n",
       "    }\n",
       "\n",
       "    .dataframe thead th {\n",
       "        text-align: right;\n",
       "    }\n",
       "</style>\n",
       "<table border=\"1\" class=\"dataframe\">\n",
       "  <thead>\n",
       "    <tr style=\"text-align: right;\">\n",
       "      <th></th>\n",
       "      <th>Col1</th>\n",
       "      <th>Col2</th>\n",
       "      <th>Col3</th>\n",
       "    </tr>\n",
       "  </thead>\n",
       "  <tbody>\n",
       "    <tr>\n",
       "      <th>5</th>\n",
       "      <td>-0.806212</td>\n",
       "      <td>0.555897</td>\n",
       "      <td>0.666997</td>\n",
       "    </tr>\n",
       "    <tr>\n",
       "      <th>7</th>\n",
       "      <td>-0.545670</td>\n",
       "      <td>0.629230</td>\n",
       "      <td>0.634687</td>\n",
       "    </tr>\n",
       "    <tr>\n",
       "      <th>3</th>\n",
       "      <td>-0.928229</td>\n",
       "      <td>0.006153</td>\n",
       "      <td>-0.243867</td>\n",
       "    </tr>\n",
       "    <tr>\n",
       "      <th>9</th>\n",
       "      <td>-0.072745</td>\n",
       "      <td>3.162730</td>\n",
       "      <td>0.411977</td>\n",
       "    </tr>\n",
       "    <tr>\n",
       "      <th>1</th>\n",
       "      <td>0.610179</td>\n",
       "      <td>-1.214624</td>\n",
       "      <td>-0.298270</td>\n",
       "    </tr>\n",
       "    <tr>\n",
       "      <th>4</th>\n",
       "      <td>1.088966</td>\n",
       "      <td>-1.505250</td>\n",
       "      <td>-0.739583</td>\n",
       "    </tr>\n",
       "    <tr>\n",
       "      <th>8</th>\n",
       "      <td>-1.941404</td>\n",
       "      <td>-0.031457</td>\n",
       "      <td>0.321785</td>\n",
       "    </tr>\n",
       "    <tr>\n",
       "      <th>2</th>\n",
       "      <td>-0.205306</td>\n",
       "      <td>0.766976</td>\n",
       "      <td>-0.293787</td>\n",
       "    </tr>\n",
       "    <tr>\n",
       "      <th>4</th>\n",
       "      <td>-1.148104</td>\n",
       "      <td>0.599141</td>\n",
       "      <td>1.273319</td>\n",
       "    </tr>\n",
       "    <tr>\n",
       "      <th>0</th>\n",
       "      <td>-0.369266</td>\n",
       "      <td>-0.384153</td>\n",
       "      <td>1.433893</td>\n",
       "    </tr>\n",
       "  </tbody>\n",
       "</table>\n",
       "</div>"
      ],
      "text/plain": [
       "       Col1      Col2      Col3\n",
       "5 -0.806212  0.555897  0.666997\n",
       "7 -0.545670  0.629230  0.634687\n",
       "3 -0.928229  0.006153 -0.243867\n",
       "9 -0.072745  3.162730  0.411977\n",
       "1  0.610179 -1.214624 -0.298270\n",
       "4  1.088966 -1.505250 -0.739583\n",
       "8 -1.941404 -0.031457  0.321785\n",
       "2 -0.205306  0.766976 -0.293787\n",
       "4 -1.148104  0.599141  1.273319\n",
       "0 -0.369266 -0.384153  1.433893"
      ]
     },
     "execution_count": 30,
     "metadata": {},
     "output_type": "execute_result"
    }
   ],
   "source": [
    "unsorted_df"
   ]
  },
  {
   "cell_type": "code",
   "execution_count": 31,
   "id": "0ed09fe4",
   "metadata": {},
   "outputs": [
    {
     "data": {
      "text/plain": [
       "Col1   -0.369266\n",
       "Col2   -0.384153\n",
       "Col3    1.433893\n",
       "Name: 0, dtype: float64"
      ]
     },
     "execution_count": 31,
     "metadata": {},
     "output_type": "execute_result"
    }
   ],
   "source": [
    "unsorted_df.loc[0]"
   ]
  },
  {
   "cell_type": "code",
   "execution_count": 27,
   "id": "6d9d4284",
   "metadata": {},
   "outputs": [
    {
     "data": {
      "text/html": [
       "<div>\n",
       "<style scoped>\n",
       "    .dataframe tbody tr th:only-of-type {\n",
       "        vertical-align: middle;\n",
       "    }\n",
       "\n",
       "    .dataframe tbody tr th {\n",
       "        vertical-align: top;\n",
       "    }\n",
       "\n",
       "    .dataframe thead th {\n",
       "        text-align: right;\n",
       "    }\n",
       "</style>\n",
       "<table border=\"1\" class=\"dataframe\">\n",
       "  <thead>\n",
       "    <tr style=\"text-align: right;\">\n",
       "      <th></th>\n",
       "      <th>Col1</th>\n",
       "      <th>Col2</th>\n",
       "      <th>Col3</th>\n",
       "    </tr>\n",
       "  </thead>\n",
       "  <tbody>\n",
       "    <tr>\n",
       "      <th>0</th>\n",
       "      <td>0.435873</td>\n",
       "      <td>1.248088</td>\n",
       "      <td>-0.342256</td>\n",
       "    </tr>\n",
       "    <tr>\n",
       "      <th>1</th>\n",
       "      <td>0.492165</td>\n",
       "      <td>-0.682894</td>\n",
       "      <td>0.244321</td>\n",
       "    </tr>\n",
       "    <tr>\n",
       "      <th>2</th>\n",
       "      <td>0.873741</td>\n",
       "      <td>-1.238436</td>\n",
       "      <td>-1.640348</td>\n",
       "    </tr>\n",
       "    <tr>\n",
       "      <th>3</th>\n",
       "      <td>-1.188751</td>\n",
       "      <td>-0.765384</td>\n",
       "      <td>0.213024</td>\n",
       "    </tr>\n",
       "    <tr>\n",
       "      <th>4</th>\n",
       "      <td>0.534608</td>\n",
       "      <td>-0.038164</td>\n",
       "      <td>1.148619</td>\n",
       "    </tr>\n",
       "    <tr>\n",
       "      <th>4</th>\n",
       "      <td>-0.550969</td>\n",
       "      <td>-0.634921</td>\n",
       "      <td>1.869324</td>\n",
       "    </tr>\n",
       "    <tr>\n",
       "      <th>5</th>\n",
       "      <td>-2.154146</td>\n",
       "      <td>-2.369057</td>\n",
       "      <td>-2.190608</td>\n",
       "    </tr>\n",
       "    <tr>\n",
       "      <th>7</th>\n",
       "      <td>-0.242005</td>\n",
       "      <td>-0.689785</td>\n",
       "      <td>-0.974856</td>\n",
       "    </tr>\n",
       "    <tr>\n",
       "      <th>8</th>\n",
       "      <td>0.344321</td>\n",
       "      <td>-0.793717</td>\n",
       "      <td>0.565502</td>\n",
       "    </tr>\n",
       "    <tr>\n",
       "      <th>9</th>\n",
       "      <td>1.202970</td>\n",
       "      <td>-0.778932</td>\n",
       "      <td>0.810111</td>\n",
       "    </tr>\n",
       "  </tbody>\n",
       "</table>\n",
       "</div>"
      ],
      "text/plain": [
       "       Col1      Col2      Col3\n",
       "0  0.435873  1.248088 -0.342256\n",
       "1  0.492165 -0.682894  0.244321\n",
       "2  0.873741 -1.238436 -1.640348\n",
       "3 -1.188751 -0.765384  0.213024\n",
       "4  0.534608 -0.038164  1.148619\n",
       "4 -0.550969 -0.634921  1.869324\n",
       "5 -2.154146 -2.369057 -2.190608\n",
       "7 -0.242005 -0.689785 -0.974856\n",
       "8  0.344321 -0.793717  0.565502\n",
       "9  1.202970 -0.778932  0.810111"
      ]
     },
     "execution_count": 27,
     "metadata": {},
     "output_type": "execute_result"
    }
   ],
   "source": [
    "unsorted_df.sort_index()  #<- it will sort the index with its own row values"
   ]
  },
  {
   "cell_type": "code",
   "execution_count": 29,
   "id": "75f05f3e",
   "metadata": {
    "scrolled": true
   },
   "outputs": [
    {
     "data": {
      "text/html": [
       "<div>\n",
       "<style scoped>\n",
       "    .dataframe tbody tr th:only-of-type {\n",
       "        vertical-align: middle;\n",
       "    }\n",
       "\n",
       "    .dataframe tbody tr th {\n",
       "        vertical-align: top;\n",
       "    }\n",
       "\n",
       "    .dataframe thead th {\n",
       "        text-align: right;\n",
       "    }\n",
       "</style>\n",
       "<table border=\"1\" class=\"dataframe\">\n",
       "  <thead>\n",
       "    <tr style=\"text-align: right;\">\n",
       "      <th></th>\n",
       "      <th>Col1</th>\n",
       "      <th>Col2</th>\n",
       "      <th>Col3</th>\n",
       "    </tr>\n",
       "  </thead>\n",
       "  <tbody>\n",
       "    <tr>\n",
       "      <th>9</th>\n",
       "      <td>1.202970</td>\n",
       "      <td>-0.778932</td>\n",
       "      <td>0.810111</td>\n",
       "    </tr>\n",
       "    <tr>\n",
       "      <th>8</th>\n",
       "      <td>0.344321</td>\n",
       "      <td>-0.793717</td>\n",
       "      <td>0.565502</td>\n",
       "    </tr>\n",
       "    <tr>\n",
       "      <th>7</th>\n",
       "      <td>-0.242005</td>\n",
       "      <td>-0.689785</td>\n",
       "      <td>-0.974856</td>\n",
       "    </tr>\n",
       "    <tr>\n",
       "      <th>5</th>\n",
       "      <td>-2.154146</td>\n",
       "      <td>-2.369057</td>\n",
       "      <td>-2.190608</td>\n",
       "    </tr>\n",
       "    <tr>\n",
       "      <th>4</th>\n",
       "      <td>0.534608</td>\n",
       "      <td>-0.038164</td>\n",
       "      <td>1.148619</td>\n",
       "    </tr>\n",
       "    <tr>\n",
       "      <th>4</th>\n",
       "      <td>-0.550969</td>\n",
       "      <td>-0.634921</td>\n",
       "      <td>1.869324</td>\n",
       "    </tr>\n",
       "    <tr>\n",
       "      <th>3</th>\n",
       "      <td>-1.188751</td>\n",
       "      <td>-0.765384</td>\n",
       "      <td>0.213024</td>\n",
       "    </tr>\n",
       "    <tr>\n",
       "      <th>2</th>\n",
       "      <td>0.873741</td>\n",
       "      <td>-1.238436</td>\n",
       "      <td>-1.640348</td>\n",
       "    </tr>\n",
       "    <tr>\n",
       "      <th>1</th>\n",
       "      <td>0.492165</td>\n",
       "      <td>-0.682894</td>\n",
       "      <td>0.244321</td>\n",
       "    </tr>\n",
       "    <tr>\n",
       "      <th>0</th>\n",
       "      <td>0.435873</td>\n",
       "      <td>1.248088</td>\n",
       "      <td>-0.342256</td>\n",
       "    </tr>\n",
       "  </tbody>\n",
       "</table>\n",
       "</div>"
      ],
      "text/plain": [
       "       Col1      Col2      Col3\n",
       "9  1.202970 -0.778932  0.810111\n",
       "8  0.344321 -0.793717  0.565502\n",
       "7 -0.242005 -0.689785 -0.974856\n",
       "5 -2.154146 -2.369057 -2.190608\n",
       "4  0.534608 -0.038164  1.148619\n",
       "4 -0.550969 -0.634921  1.869324\n",
       "3 -1.188751 -0.765384  0.213024\n",
       "2  0.873741 -1.238436 -1.640348\n",
       "1  0.492165 -0.682894  0.244321\n",
       "0  0.435873  1.248088 -0.342256"
      ]
     },
     "execution_count": 29,
     "metadata": {},
     "output_type": "execute_result"
    }
   ],
   "source": [
    "unsorted_df.sort_index(ascending=False) #This will print the row in descending order"
   ]
  },
  {
   "cell_type": "code",
   "execution_count": 31,
   "id": "b9567bba",
   "metadata": {
    "scrolled": false
   },
   "outputs": [
    {
     "data": {
      "text/html": [
       "<div>\n",
       "<style scoped>\n",
       "    .dataframe tbody tr th:only-of-type {\n",
       "        vertical-align: middle;\n",
       "    }\n",
       "\n",
       "    .dataframe tbody tr th {\n",
       "        vertical-align: top;\n",
       "    }\n",
       "\n",
       "    .dataframe thead th {\n",
       "        text-align: right;\n",
       "    }\n",
       "</style>\n",
       "<table border=\"1\" class=\"dataframe\">\n",
       "  <thead>\n",
       "    <tr style=\"text-align: right;\">\n",
       "      <th></th>\n",
       "      <th>Col1</th>\n",
       "      <th>Col2</th>\n",
       "      <th>Col3</th>\n",
       "    </tr>\n",
       "  </thead>\n",
       "  <tbody>\n",
       "    <tr>\n",
       "      <th>5</th>\n",
       "      <td>-2.154146</td>\n",
       "      <td>-2.369057</td>\n",
       "      <td>-2.190608</td>\n",
       "    </tr>\n",
       "    <tr>\n",
       "      <th>7</th>\n",
       "      <td>-0.242005</td>\n",
       "      <td>-0.689785</td>\n",
       "      <td>-0.974856</td>\n",
       "    </tr>\n",
       "    <tr>\n",
       "      <th>3</th>\n",
       "      <td>-1.188751</td>\n",
       "      <td>-0.765384</td>\n",
       "      <td>0.213024</td>\n",
       "    </tr>\n",
       "    <tr>\n",
       "      <th>9</th>\n",
       "      <td>1.202970</td>\n",
       "      <td>-0.778932</td>\n",
       "      <td>0.810111</td>\n",
       "    </tr>\n",
       "    <tr>\n",
       "      <th>1</th>\n",
       "      <td>0.492165</td>\n",
       "      <td>-0.682894</td>\n",
       "      <td>0.244321</td>\n",
       "    </tr>\n",
       "    <tr>\n",
       "      <th>4</th>\n",
       "      <td>0.534608</td>\n",
       "      <td>-0.038164</td>\n",
       "      <td>1.148619</td>\n",
       "    </tr>\n",
       "    <tr>\n",
       "      <th>8</th>\n",
       "      <td>0.344321</td>\n",
       "      <td>-0.793717</td>\n",
       "      <td>0.565502</td>\n",
       "    </tr>\n",
       "    <tr>\n",
       "      <th>2</th>\n",
       "      <td>0.873741</td>\n",
       "      <td>-1.238436</td>\n",
       "      <td>-1.640348</td>\n",
       "    </tr>\n",
       "    <tr>\n",
       "      <th>4</th>\n",
       "      <td>-0.550969</td>\n",
       "      <td>-0.634921</td>\n",
       "      <td>1.869324</td>\n",
       "    </tr>\n",
       "    <tr>\n",
       "      <th>0</th>\n",
       "      <td>0.435873</td>\n",
       "      <td>1.248088</td>\n",
       "      <td>-0.342256</td>\n",
       "    </tr>\n",
       "  </tbody>\n",
       "</table>\n",
       "</div>"
      ],
      "text/plain": [
       "       Col1      Col2      Col3\n",
       "5 -2.154146 -2.369057 -2.190608\n",
       "7 -0.242005 -0.689785 -0.974856\n",
       "3 -1.188751 -0.765384  0.213024\n",
       "9  1.202970 -0.778932  0.810111\n",
       "1  0.492165 -0.682894  0.244321\n",
       "4  0.534608 -0.038164  1.148619\n",
       "8  0.344321 -0.793717  0.565502\n",
       "2  0.873741 -1.238436 -1.640348\n",
       "4 -0.550969 -0.634921  1.869324\n",
       "0  0.435873  1.248088 -0.342256"
      ]
     },
     "execution_count": 31,
     "metadata": {},
     "output_type": "execute_result"
    }
   ],
   "source": [
    "unsorted_df.sort_index(axis=1)  #This will sort the columns by its name in ascending order. Means first Col1, then Col2 and Col3 will come \n",
    "# and also it will not change the values by rows. The value in every rows will be same"
   ]
  },
  {
   "cell_type": "code",
   "execution_count": 34,
   "id": "9ed2dc36",
   "metadata": {},
   "outputs": [
    {
     "data": {
      "text/html": [
       "<div>\n",
       "<style scoped>\n",
       "    .dataframe tbody tr th:only-of-type {\n",
       "        vertical-align: middle;\n",
       "    }\n",
       "\n",
       "    .dataframe tbody tr th {\n",
       "        vertical-align: top;\n",
       "    }\n",
       "\n",
       "    .dataframe thead th {\n",
       "        text-align: right;\n",
       "    }\n",
       "</style>\n",
       "<table border=\"1\" class=\"dataframe\">\n",
       "  <thead>\n",
       "    <tr style=\"text-align: right;\">\n",
       "      <th></th>\n",
       "      <th>Col3</th>\n",
       "      <th>Col2</th>\n",
       "      <th>Col1</th>\n",
       "    </tr>\n",
       "  </thead>\n",
       "  <tbody>\n",
       "    <tr>\n",
       "      <th>5</th>\n",
       "      <td>-2.190608</td>\n",
       "      <td>-2.369057</td>\n",
       "      <td>-2.154146</td>\n",
       "    </tr>\n",
       "    <tr>\n",
       "      <th>7</th>\n",
       "      <td>-0.974856</td>\n",
       "      <td>-0.689785</td>\n",
       "      <td>-0.242005</td>\n",
       "    </tr>\n",
       "    <tr>\n",
       "      <th>3</th>\n",
       "      <td>0.213024</td>\n",
       "      <td>-0.765384</td>\n",
       "      <td>-1.188751</td>\n",
       "    </tr>\n",
       "    <tr>\n",
       "      <th>9</th>\n",
       "      <td>0.810111</td>\n",
       "      <td>-0.778932</td>\n",
       "      <td>1.202970</td>\n",
       "    </tr>\n",
       "    <tr>\n",
       "      <th>1</th>\n",
       "      <td>0.244321</td>\n",
       "      <td>-0.682894</td>\n",
       "      <td>0.492165</td>\n",
       "    </tr>\n",
       "    <tr>\n",
       "      <th>4</th>\n",
       "      <td>1.148619</td>\n",
       "      <td>-0.038164</td>\n",
       "      <td>0.534608</td>\n",
       "    </tr>\n",
       "    <tr>\n",
       "      <th>8</th>\n",
       "      <td>0.565502</td>\n",
       "      <td>-0.793717</td>\n",
       "      <td>0.344321</td>\n",
       "    </tr>\n",
       "    <tr>\n",
       "      <th>2</th>\n",
       "      <td>-1.640348</td>\n",
       "      <td>-1.238436</td>\n",
       "      <td>0.873741</td>\n",
       "    </tr>\n",
       "    <tr>\n",
       "      <th>4</th>\n",
       "      <td>1.869324</td>\n",
       "      <td>-0.634921</td>\n",
       "      <td>-0.550969</td>\n",
       "    </tr>\n",
       "    <tr>\n",
       "      <th>0</th>\n",
       "      <td>-0.342256</td>\n",
       "      <td>1.248088</td>\n",
       "      <td>0.435873</td>\n",
       "    </tr>\n",
       "  </tbody>\n",
       "</table>\n",
       "</div>"
      ],
      "text/plain": [
       "       Col3      Col2      Col1\n",
       "5 -2.190608 -2.369057 -2.154146\n",
       "7 -0.974856 -0.689785 -0.242005\n",
       "3  0.213024 -0.765384 -1.188751\n",
       "9  0.810111 -0.778932  1.202970\n",
       "1  0.244321 -0.682894  0.492165\n",
       "4  1.148619 -0.038164  0.534608\n",
       "8  0.565502 -0.793717  0.344321\n",
       "2 -1.640348 -1.238436  0.873741\n",
       "4  1.869324 -0.634921 -0.550969\n",
       "0 -0.342256  1.248088  0.435873"
      ]
     },
     "execution_count": 34,
     "metadata": {},
     "output_type": "execute_result"
    }
   ],
   "source": [
    "unsorted_df.sort_index(axis=1,ascending=False)  #<- first it will print Col3,then Col2 and after that Col1 will be printed\\\n",
    "# It will print the columns in descending order"
   ]
  },
  {
   "cell_type": "raw",
   "id": "01f0932e",
   "metadata": {},
   "source": []
  },
  {
   "cell_type": "code",
   "execution_count": null,
   "id": "90e7df9c",
   "metadata": {},
   "outputs": [],
   "source": [
    "sort_values()"
   ]
  },
  {
   "cell_type": "code",
   "execution_count": 42,
   "id": "cfcb8076",
   "metadata": {},
   "outputs": [],
   "source": [
    "df=pd.DataFrame({\"Apples\":[50,95,105,75],\"Grapes\":[110,45,99,0]})"
   ]
  },
  {
   "cell_type": "code",
   "execution_count": 43,
   "id": "34c4f5e8",
   "metadata": {},
   "outputs": [
    {
     "data": {
      "text/html": [
       "<div>\n",
       "<style scoped>\n",
       "    .dataframe tbody tr th:only-of-type {\n",
       "        vertical-align: middle;\n",
       "    }\n",
       "\n",
       "    .dataframe tbody tr th {\n",
       "        vertical-align: top;\n",
       "    }\n",
       "\n",
       "    .dataframe thead th {\n",
       "        text-align: right;\n",
       "    }\n",
       "</style>\n",
       "<table border=\"1\" class=\"dataframe\">\n",
       "  <thead>\n",
       "    <tr style=\"text-align: right;\">\n",
       "      <th></th>\n",
       "      <th>Apples</th>\n",
       "      <th>Grapes</th>\n",
       "    </tr>\n",
       "  </thead>\n",
       "  <tbody>\n",
       "    <tr>\n",
       "      <th>0</th>\n",
       "      <td>50</td>\n",
       "      <td>110</td>\n",
       "    </tr>\n",
       "    <tr>\n",
       "      <th>1</th>\n",
       "      <td>95</td>\n",
       "      <td>45</td>\n",
       "    </tr>\n",
       "    <tr>\n",
       "      <th>2</th>\n",
       "      <td>105</td>\n",
       "      <td>99</td>\n",
       "    </tr>\n",
       "    <tr>\n",
       "      <th>3</th>\n",
       "      <td>75</td>\n",
       "      <td>0</td>\n",
       "    </tr>\n",
       "  </tbody>\n",
       "</table>\n",
       "</div>"
      ],
      "text/plain": [
       "   Apples  Grapes\n",
       "0      50     110\n",
       "1      95      45\n",
       "2     105      99\n",
       "3      75       0"
      ]
     },
     "execution_count": 43,
     "metadata": {},
     "output_type": "execute_result"
    }
   ],
   "source": [
    "df"
   ]
  },
  {
   "cell_type": "code",
   "execution_count": 45,
   "id": "672410cb",
   "metadata": {},
   "outputs": [
    {
     "data": {
      "text/html": [
       "<div>\n",
       "<style scoped>\n",
       "    .dataframe tbody tr th:only-of-type {\n",
       "        vertical-align: middle;\n",
       "    }\n",
       "\n",
       "    .dataframe tbody tr th {\n",
       "        vertical-align: top;\n",
       "    }\n",
       "\n",
       "    .dataframe thead th {\n",
       "        text-align: right;\n",
       "    }\n",
       "</style>\n",
       "<table border=\"1\" class=\"dataframe\">\n",
       "  <thead>\n",
       "    <tr style=\"text-align: right;\">\n",
       "      <th></th>\n",
       "      <th>Apples</th>\n",
       "      <th>Grapes</th>\n",
       "    </tr>\n",
       "  </thead>\n",
       "  <tbody>\n",
       "    <tr>\n",
       "      <th>0</th>\n",
       "      <td>50</td>\n",
       "      <td>110</td>\n",
       "    </tr>\n",
       "    <tr>\n",
       "      <th>3</th>\n",
       "      <td>75</td>\n",
       "      <td>0</td>\n",
       "    </tr>\n",
       "    <tr>\n",
       "      <th>1</th>\n",
       "      <td>95</td>\n",
       "      <td>45</td>\n",
       "    </tr>\n",
       "    <tr>\n",
       "      <th>2</th>\n",
       "      <td>105</td>\n",
       "      <td>99</td>\n",
       "    </tr>\n",
       "  </tbody>\n",
       "</table>\n",
       "</div>"
      ],
      "text/plain": [
       "   Apples  Grapes\n",
       "0      50     110\n",
       "3      75       0\n",
       "1      95      45\n",
       "2     105      99"
      ]
     },
     "execution_count": 45,
     "metadata": {},
     "output_type": "execute_result"
    }
   ],
   "source": [
    "df.sort_values(by=[\"Apples\"])"
   ]
  },
  {
   "cell_type": "code",
   "execution_count": 44,
   "id": "872707da",
   "metadata": {},
   "outputs": [
    {
     "data": {
      "text/html": [
       "<div>\n",
       "<style scoped>\n",
       "    .dataframe tbody tr th:only-of-type {\n",
       "        vertical-align: middle;\n",
       "    }\n",
       "\n",
       "    .dataframe tbody tr th {\n",
       "        vertical-align: top;\n",
       "    }\n",
       "\n",
       "    .dataframe thead th {\n",
       "        text-align: right;\n",
       "    }\n",
       "</style>\n",
       "<table border=\"1\" class=\"dataframe\">\n",
       "  <thead>\n",
       "    <tr style=\"text-align: right;\">\n",
       "      <th></th>\n",
       "      <th>Apples</th>\n",
       "      <th>Grapes</th>\n",
       "    </tr>\n",
       "  </thead>\n",
       "  <tbody>\n",
       "    <tr>\n",
       "      <th>0</th>\n",
       "      <td>50</td>\n",
       "      <td>110</td>\n",
       "    </tr>\n",
       "    <tr>\n",
       "      <th>3</th>\n",
       "      <td>75</td>\n",
       "      <td>0</td>\n",
       "    </tr>\n",
       "    <tr>\n",
       "      <th>1</th>\n",
       "      <td>95</td>\n",
       "      <td>45</td>\n",
       "    </tr>\n",
       "    <tr>\n",
       "      <th>2</th>\n",
       "      <td>105</td>\n",
       "      <td>99</td>\n",
       "    </tr>\n",
       "  </tbody>\n",
       "</table>\n",
       "</div>"
      ],
      "text/plain": [
       "   Apples  Grapes\n",
       "0      50     110\n",
       "3      75       0\n",
       "1      95      45\n",
       "2     105      99"
      ]
     },
     "execution_count": 44,
     "metadata": {},
     "output_type": "execute_result"
    }
   ],
   "source": [
    "df.sort_values(by=[\"Apples\"]) # by means by which columns, you want to sort the value\n",
    "# This will sort the Apples column and also as per that the Grapes column will be also changed, not sorted"
   ]
  },
  {
   "cell_type": "code",
   "execution_count": 46,
   "id": "b5026faf",
   "metadata": {},
   "outputs": [
    {
     "data": {
      "text/html": [
       "<div>\n",
       "<style scoped>\n",
       "    .dataframe tbody tr th:only-of-type {\n",
       "        vertical-align: middle;\n",
       "    }\n",
       "\n",
       "    .dataframe tbody tr th {\n",
       "        vertical-align: top;\n",
       "    }\n",
       "\n",
       "    .dataframe thead th {\n",
       "        text-align: right;\n",
       "    }\n",
       "</style>\n",
       "<table border=\"1\" class=\"dataframe\">\n",
       "  <thead>\n",
       "    <tr style=\"text-align: right;\">\n",
       "      <th></th>\n",
       "      <th>Apples</th>\n",
       "      <th>Grapes</th>\n",
       "    </tr>\n",
       "  </thead>\n",
       "  <tbody>\n",
       "    <tr>\n",
       "      <th>0</th>\n",
       "      <td>50</td>\n",
       "      <td>110</td>\n",
       "    </tr>\n",
       "    <tr>\n",
       "      <th>3</th>\n",
       "      <td>75</td>\n",
       "      <td>0</td>\n",
       "    </tr>\n",
       "    <tr>\n",
       "      <th>1</th>\n",
       "      <td>95</td>\n",
       "      <td>45</td>\n",
       "    </tr>\n",
       "    <tr>\n",
       "      <th>2</th>\n",
       "      <td>105</td>\n",
       "      <td>99</td>\n",
       "    </tr>\n",
       "  </tbody>\n",
       "</table>\n",
       "</div>"
      ],
      "text/plain": [
       "   Apples  Grapes\n",
       "0      50     110\n",
       "3      75       0\n",
       "1      95      45\n",
       "2     105      99"
      ]
     },
     "execution_count": 46,
     "metadata": {},
     "output_type": "execute_result"
    }
   ],
   "source": [
    "df.sort_values(by=[\"Apples\",\"Grapes\"])   #<- It will sort tha data by the first column only, because it can't change the row of dataframe"
   ]
  },
  {
   "cell_type": "code",
   "execution_count": null,
   "id": "a420e6f8",
   "metadata": {},
   "outputs": [],
   "source": []
  },
  {
   "cell_type": "code",
   "execution_count": null,
   "id": "b47db068",
   "metadata": {},
   "outputs": [],
   "source": [
    "Pandas uses 3 sorting algorithm for sorting and by default Quicksort is used\n",
    "1. Quicksort\n",
    "2. Mergesort  - very stable sorting algorithm for big datas\n",
    "3. Heapsort"
   ]
  },
  {
   "cell_type": "code",
   "execution_count": 46,
   "id": "cdb5a0db",
   "metadata": {},
   "outputs": [
    {
     "data": {
      "text/html": [
       "<div>\n",
       "<style scoped>\n",
       "    .dataframe tbody tr th:only-of-type {\n",
       "        vertical-align: middle;\n",
       "    }\n",
       "\n",
       "    .dataframe tbody tr th {\n",
       "        vertical-align: top;\n",
       "    }\n",
       "\n",
       "    .dataframe thead th {\n",
       "        text-align: right;\n",
       "    }\n",
       "</style>\n",
       "<table border=\"1\" class=\"dataframe\">\n",
       "  <thead>\n",
       "    <tr style=\"text-align: right;\">\n",
       "      <th></th>\n",
       "      <th>Apples</th>\n",
       "      <th>Grapes</th>\n",
       "    </tr>\n",
       "  </thead>\n",
       "  <tbody>\n",
       "    <tr>\n",
       "      <th>0</th>\n",
       "      <td>50</td>\n",
       "      <td>110</td>\n",
       "    </tr>\n",
       "    <tr>\n",
       "      <th>3</th>\n",
       "      <td>75</td>\n",
       "      <td>0</td>\n",
       "    </tr>\n",
       "    <tr>\n",
       "      <th>1</th>\n",
       "      <td>95</td>\n",
       "      <td>45</td>\n",
       "    </tr>\n",
       "    <tr>\n",
       "      <th>2</th>\n",
       "      <td>105</td>\n",
       "      <td>99</td>\n",
       "    </tr>\n",
       "  </tbody>\n",
       "</table>\n",
       "</div>"
      ],
      "text/plain": [
       "   Apples  Grapes\n",
       "0      50     110\n",
       "3      75       0\n",
       "1      95      45\n",
       "2     105      99"
      ]
     },
     "execution_count": 46,
     "metadata": {},
     "output_type": "execute_result"
    }
   ],
   "source": [
    "This kind method is used for choose the algorithm of sorting\n",
    "df.sort_values(by=[\"Apples\",\"Grapes\"],kind=\"mergesort\")"
   ]
  },
  {
   "cell_type": "code",
   "execution_count": null,
   "id": "0422f155",
   "metadata": {},
   "outputs": [],
   "source": [
    "[6,5,7,2,8,4,9,0].sort()  -> Timsort\n",
    "python use Timsort method for sorting the list"
   ]
  },
  {
   "cell_type": "code",
   "execution_count": null,
   "id": "efb1e06c",
   "metadata": {},
   "outputs": [],
   "source": []
  },
  {
   "cell_type": "markdown",
   "id": "98dac150",
   "metadata": {},
   "source": [
    "# Stats - Advanced"
   ]
  },
  {
   "cell_type": "code",
   "execution_count": 47,
   "id": "01c16d8c",
   "metadata": {
    "scrolled": true
   },
   "outputs": [
    {
     "data": {
      "text/html": [
       "<div>\n",
       "<style scoped>\n",
       "    .dataframe tbody tr th:only-of-type {\n",
       "        vertical-align: middle;\n",
       "    }\n",
       "\n",
       "    .dataframe tbody tr th {\n",
       "        vertical-align: top;\n",
       "    }\n",
       "\n",
       "    .dataframe thead th {\n",
       "        text-align: right;\n",
       "    }\n",
       "</style>\n",
       "<table border=\"1\" class=\"dataframe\">\n",
       "  <thead>\n",
       "    <tr style=\"text-align: right;\">\n",
       "      <th></th>\n",
       "      <th>Col1</th>\n",
       "      <th>Col2</th>\n",
       "      <th>Col3</th>\n",
       "    </tr>\n",
       "  </thead>\n",
       "  <tbody>\n",
       "    <tr>\n",
       "      <th>0</th>\n",
       "      <td>0.710888</td>\n",
       "      <td>0.464342</td>\n",
       "      <td>-0.121852</td>\n",
       "    </tr>\n",
       "    <tr>\n",
       "      <th>1</th>\n",
       "      <td>-0.328806</td>\n",
       "      <td>1.000314</td>\n",
       "      <td>-1.824880</td>\n",
       "    </tr>\n",
       "    <tr>\n",
       "      <th>2</th>\n",
       "      <td>-1.846169</td>\n",
       "      <td>-1.013042</td>\n",
       "      <td>-0.525336</td>\n",
       "    </tr>\n",
       "    <tr>\n",
       "      <th>3</th>\n",
       "      <td>-0.626361</td>\n",
       "      <td>0.488084</td>\n",
       "      <td>-1.196827</td>\n",
       "    </tr>\n",
       "    <tr>\n",
       "      <th>4</th>\n",
       "      <td>-0.510165</td>\n",
       "      <td>1.579486</td>\n",
       "      <td>1.815609</td>\n",
       "    </tr>\n",
       "    <tr>\n",
       "      <th>5</th>\n",
       "      <td>-0.481509</td>\n",
       "      <td>1.353039</td>\n",
       "      <td>0.207638</td>\n",
       "    </tr>\n",
       "    <tr>\n",
       "      <th>6</th>\n",
       "      <td>0.858866</td>\n",
       "      <td>0.215175</td>\n",
       "      <td>-0.050412</td>\n",
       "    </tr>\n",
       "    <tr>\n",
       "      <th>7</th>\n",
       "      <td>-0.214969</td>\n",
       "      <td>0.977767</td>\n",
       "      <td>0.620320</td>\n",
       "    </tr>\n",
       "    <tr>\n",
       "      <th>8</th>\n",
       "      <td>0.039997</td>\n",
       "      <td>-0.441051</td>\n",
       "      <td>-0.761193</td>\n",
       "    </tr>\n",
       "    <tr>\n",
       "      <th>9</th>\n",
       "      <td>1.235591</td>\n",
       "      <td>0.163279</td>\n",
       "      <td>0.260510</td>\n",
       "    </tr>\n",
       "    <tr>\n",
       "      <th>10</th>\n",
       "      <td>2.000624</td>\n",
       "      <td>0.332342</td>\n",
       "      <td>-0.298518</td>\n",
       "    </tr>\n",
       "    <tr>\n",
       "      <th>11</th>\n",
       "      <td>-0.821978</td>\n",
       "      <td>0.846747</td>\n",
       "      <td>0.023442</td>\n",
       "    </tr>\n",
       "    <tr>\n",
       "      <th>12</th>\n",
       "      <td>0.166105</td>\n",
       "      <td>-1.531537</td>\n",
       "      <td>0.558691</td>\n",
       "    </tr>\n",
       "    <tr>\n",
       "      <th>13</th>\n",
       "      <td>-1.039821</td>\n",
       "      <td>-0.290395</td>\n",
       "      <td>1.221144</td>\n",
       "    </tr>\n",
       "    <tr>\n",
       "      <th>14</th>\n",
       "      <td>-1.510310</td>\n",
       "      <td>0.481265</td>\n",
       "      <td>0.458812</td>\n",
       "    </tr>\n",
       "    <tr>\n",
       "      <th>15</th>\n",
       "      <td>-1.109665</td>\n",
       "      <td>0.313711</td>\n",
       "      <td>0.171217</td>\n",
       "    </tr>\n",
       "    <tr>\n",
       "      <th>16</th>\n",
       "      <td>-0.990257</td>\n",
       "      <td>1.736707</td>\n",
       "      <td>-0.248473</td>\n",
       "    </tr>\n",
       "  </tbody>\n",
       "</table>\n",
       "</div>"
      ],
      "text/plain": [
       "        Col1      Col2      Col3\n",
       "0   0.710888  0.464342 -0.121852\n",
       "1  -0.328806  1.000314 -1.824880\n",
       "2  -1.846169 -1.013042 -0.525336\n",
       "3  -0.626361  0.488084 -1.196827\n",
       "4  -0.510165  1.579486  1.815609\n",
       "5  -0.481509  1.353039  0.207638\n",
       "6   0.858866  0.215175 -0.050412\n",
       "7  -0.214969  0.977767  0.620320\n",
       "8   0.039997 -0.441051 -0.761193\n",
       "9   1.235591  0.163279  0.260510\n",
       "10  2.000624  0.332342 -0.298518\n",
       "11 -0.821978  0.846747  0.023442\n",
       "12  0.166105 -1.531537  0.558691\n",
       "13 -1.039821 -0.290395  1.221144\n",
       "14 -1.510310  0.481265  0.458812\n",
       "15 -1.109665  0.313711  0.171217\n",
       "16 -0.990257  1.736707 -0.248473"
      ]
     },
     "execution_count": 47,
     "metadata": {},
     "output_type": "execute_result"
    }
   ],
   "source": [
    "df3"
   ]
  },
  {
   "cell_type": "code",
   "execution_count": 48,
   "id": "b3858d78",
   "metadata": {},
   "outputs": [
    {
     "data": {
      "text/html": [
       "<div>\n",
       "<style scoped>\n",
       "    .dataframe tbody tr th:only-of-type {\n",
       "        vertical-align: middle;\n",
       "    }\n",
       "\n",
       "    .dataframe tbody tr th {\n",
       "        vertical-align: top;\n",
       "    }\n",
       "\n",
       "    .dataframe thead th {\n",
       "        text-align: right;\n",
       "    }\n",
       "</style>\n",
       "<table border=\"1\" class=\"dataframe\">\n",
       "  <thead>\n",
       "    <tr style=\"text-align: right;\">\n",
       "      <th></th>\n",
       "      <th>Col1</th>\n",
       "      <th>Col2</th>\n",
       "      <th>Col3</th>\n",
       "    </tr>\n",
       "  </thead>\n",
       "  <tbody>\n",
       "    <tr>\n",
       "      <th>0</th>\n",
       "      <td>-0.560264</td>\n",
       "      <td>1.271283</td>\n",
       "      <td>0.989954</td>\n",
       "    </tr>\n",
       "    <tr>\n",
       "      <th>1</th>\n",
       "      <td>-0.448548</td>\n",
       "      <td>-0.306153</td>\n",
       "      <td>1.211166</td>\n",
       "    </tr>\n",
       "    <tr>\n",
       "      <th>2</th>\n",
       "      <td>-0.124238</td>\n",
       "      <td>0.476101</td>\n",
       "      <td>0.706892</td>\n",
       "    </tr>\n",
       "    <tr>\n",
       "      <th>3</th>\n",
       "      <td>0.419031</td>\n",
       "      <td>0.198191</td>\n",
       "      <td>0.789396</td>\n",
       "    </tr>\n",
       "    <tr>\n",
       "      <th>4</th>\n",
       "      <td>-0.183222</td>\n",
       "      <td>-1.651382</td>\n",
       "      <td>-1.314546</td>\n",
       "    </tr>\n",
       "    <tr>\n",
       "      <th>5</th>\n",
       "      <td>-1.005410</td>\n",
       "      <td>0.871201</td>\n",
       "      <td>1.448653</td>\n",
       "    </tr>\n",
       "    <tr>\n",
       "      <th>6</th>\n",
       "      <td>1.415965</td>\n",
       "      <td>-0.773937</td>\n",
       "      <td>-0.780766</td>\n",
       "    </tr>\n",
       "  </tbody>\n",
       "</table>\n",
       "</div>"
      ],
      "text/plain": [
       "       Col1      Col2      Col3\n",
       "0 -0.560264  1.271283  0.989954\n",
       "1 -0.448548 -0.306153  1.211166\n",
       "2 -0.124238  0.476101  0.706892\n",
       "3  0.419031  0.198191  0.789396\n",
       "4 -0.183222 -1.651382 -1.314546\n",
       "5 -1.005410  0.871201  1.448653\n",
       "6  1.415965 -0.773937 -0.780766"
      ]
     },
     "execution_count": 48,
     "metadata": {},
     "output_type": "execute_result"
    }
   ],
   "source": [
    "df3[0:7]  "
   ]
  },
  {
   "cell_type": "code",
   "execution_count": 49,
   "id": "bcd0ff70",
   "metadata": {},
   "outputs": [],
   "source": [
    "df4= df3[0:7]  #<- it will help to make DataFrame from index 0 to 6\n",
    "# or you can use drop method"
   ]
  },
  {
   "cell_type": "code",
   "execution_count": 55,
   "id": "bce38bc0",
   "metadata": {},
   "outputs": [
    {
     "data": {
      "text/html": [
       "<div>\n",
       "<style scoped>\n",
       "    .dataframe tbody tr th:only-of-type {\n",
       "        vertical-align: middle;\n",
       "    }\n",
       "\n",
       "    .dataframe tbody tr th {\n",
       "        vertical-align: top;\n",
       "    }\n",
       "\n",
       "    .dataframe thead th {\n",
       "        text-align: right;\n",
       "    }\n",
       "</style>\n",
       "<table border=\"1\" class=\"dataframe\">\n",
       "  <thead>\n",
       "    <tr style=\"text-align: right;\">\n",
       "      <th></th>\n",
       "      <th>Col1</th>\n",
       "      <th>Col2</th>\n",
       "      <th>Col3</th>\n",
       "    </tr>\n",
       "  </thead>\n",
       "  <tbody>\n",
       "    <tr>\n",
       "      <th>0</th>\n",
       "      <td>0.710888</td>\n",
       "      <td>0.464342</td>\n",
       "      <td>-0.121852</td>\n",
       "    </tr>\n",
       "    <tr>\n",
       "      <th>1</th>\n",
       "      <td>-0.328806</td>\n",
       "      <td>1.000314</td>\n",
       "      <td>-1.824880</td>\n",
       "    </tr>\n",
       "    <tr>\n",
       "      <th>2</th>\n",
       "      <td>-1.846169</td>\n",
       "      <td>-1.013042</td>\n",
       "      <td>-0.525336</td>\n",
       "    </tr>\n",
       "    <tr>\n",
       "      <th>3</th>\n",
       "      <td>-0.626361</td>\n",
       "      <td>0.488084</td>\n",
       "      <td>-1.196827</td>\n",
       "    </tr>\n",
       "    <tr>\n",
       "      <th>4</th>\n",
       "      <td>-0.510165</td>\n",
       "      <td>1.579486</td>\n",
       "      <td>1.815609</td>\n",
       "    </tr>\n",
       "    <tr>\n",
       "      <th>5</th>\n",
       "      <td>-0.481509</td>\n",
       "      <td>1.353039</td>\n",
       "      <td>0.207638</td>\n",
       "    </tr>\n",
       "    <tr>\n",
       "      <th>6</th>\n",
       "      <td>0.858866</td>\n",
       "      <td>0.215175</td>\n",
       "      <td>-0.050412</td>\n",
       "    </tr>\n",
       "  </tbody>\n",
       "</table>\n",
       "</div>"
      ],
      "text/plain": [
       "       Col1      Col2      Col3\n",
       "0  0.710888  0.464342 -0.121852\n",
       "1 -0.328806  1.000314 -1.824880\n",
       "2 -1.846169 -1.013042 -0.525336\n",
       "3 -0.626361  0.488084 -1.196827\n",
       "4 -0.510165  1.579486  1.815609\n",
       "5 -0.481509  1.353039  0.207638\n",
       "6  0.858866  0.215175 -0.050412"
      ]
     },
     "execution_count": 55,
     "metadata": {},
     "output_type": "execute_result"
    }
   ],
   "source": [
    "df4"
   ]
  },
  {
   "cell_type": "code",
   "execution_count": null,
   "id": "c5bd0c83",
   "metadata": {},
   "outputs": [],
   "source": []
  },
  {
   "cell_type": "code",
   "execution_count": 50,
   "id": "a78831ec",
   "metadata": {},
   "outputs": [],
   "source": [
    "df4=df3.drop([7,8,9,10,11,12,13,14,15,16])"
   ]
  },
  {
   "cell_type": "code",
   "execution_count": 52,
   "id": "e88e366d",
   "metadata": {},
   "outputs": [
    {
     "data": {
      "text/html": [
       "<div>\n",
       "<style scoped>\n",
       "    .dataframe tbody tr th:only-of-type {\n",
       "        vertical-align: middle;\n",
       "    }\n",
       "\n",
       "    .dataframe tbody tr th {\n",
       "        vertical-align: top;\n",
       "    }\n",
       "\n",
       "    .dataframe thead th {\n",
       "        text-align: right;\n",
       "    }\n",
       "</style>\n",
       "<table border=\"1\" class=\"dataframe\">\n",
       "  <thead>\n",
       "    <tr style=\"text-align: right;\">\n",
       "      <th></th>\n",
       "      <th>Col1</th>\n",
       "      <th>Col2</th>\n",
       "      <th>Col3</th>\n",
       "    </tr>\n",
       "  </thead>\n",
       "  <tbody>\n",
       "    <tr>\n",
       "      <th>0</th>\n",
       "      <td>-0.560264</td>\n",
       "      <td>1.271283</td>\n",
       "      <td>0.989954</td>\n",
       "    </tr>\n",
       "    <tr>\n",
       "      <th>2</th>\n",
       "      <td>-0.124238</td>\n",
       "      <td>0.476101</td>\n",
       "      <td>0.706892</td>\n",
       "    </tr>\n",
       "    <tr>\n",
       "      <th>3</th>\n",
       "      <td>0.419031</td>\n",
       "      <td>0.198191</td>\n",
       "      <td>0.789396</td>\n",
       "    </tr>\n",
       "    <tr>\n",
       "      <th>4</th>\n",
       "      <td>-0.183222</td>\n",
       "      <td>-1.651382</td>\n",
       "      <td>-1.314546</td>\n",
       "    </tr>\n",
       "    <tr>\n",
       "      <th>5</th>\n",
       "      <td>-1.005410</td>\n",
       "      <td>0.871201</td>\n",
       "      <td>1.448653</td>\n",
       "    </tr>\n",
       "    <tr>\n",
       "      <th>6</th>\n",
       "      <td>1.415965</td>\n",
       "      <td>-0.773937</td>\n",
       "      <td>-0.780766</td>\n",
       "    </tr>\n",
       "    <tr>\n",
       "      <th>11</th>\n",
       "      <td>-0.399223</td>\n",
       "      <td>0.453871</td>\n",
       "      <td>1.402158</td>\n",
       "    </tr>\n",
       "  </tbody>\n",
       "</table>\n",
       "</div>"
      ],
      "text/plain": [
       "        Col1      Col2      Col3\n",
       "0  -0.560264  1.271283  0.989954\n",
       "2  -0.124238  0.476101  0.706892\n",
       "3   0.419031  0.198191  0.789396\n",
       "4  -0.183222 -1.651382 -1.314546\n",
       "5  -1.005410  0.871201  1.448653\n",
       "6   1.415965 -0.773937 -0.780766\n",
       "11 -0.399223  0.453871  1.402158"
      ]
     },
     "execution_count": 52,
     "metadata": {},
     "output_type": "execute_result"
    }
   ],
   "source": [
    "df4"
   ]
  },
  {
   "cell_type": "code",
   "execution_count": null,
   "id": "2a481f1b",
   "metadata": {},
   "outputs": [],
   "source": []
  },
  {
   "cell_type": "markdown",
   "id": "f9c88f62",
   "metadata": {},
   "source": [
    "# Covariance -> cov()"
   ]
  },
  {
   "cell_type": "code",
   "execution_count": 54,
   "id": "769bc3ad",
   "metadata": {},
   "outputs": [
    {
     "data": {
      "text/plain": [
       "0     1.271283\n",
       "2     0.476101\n",
       "3     0.198191\n",
       "4    -1.651382\n",
       "5     0.871201\n",
       "6    -0.773937\n",
       "11    0.453871\n",
       "Name: Col2, dtype: float64"
      ]
     },
     "execution_count": 54,
     "metadata": {},
     "output_type": "execute_result"
    }
   ],
   "source": [
    "df4.Col2   #<- This is not possible in series. But in DataFrame, it is possible"
   ]
  },
  {
   "cell_type": "code",
   "execution_count": 55,
   "id": "971deb8e",
   "metadata": {},
   "outputs": [
    {
     "data": {
      "text/plain": [
       "0     1.271283\n",
       "2     0.476101\n",
       "3     0.198191\n",
       "4    -1.651382\n",
       "5     0.871201\n",
       "6    -0.773937\n",
       "11    0.453871\n",
       "Name: Col2, dtype: float64"
      ]
     },
     "execution_count": 55,
     "metadata": {},
     "output_type": "execute_result"
    }
   ],
   "source": [
    "df4[\"Col2\"]"
   ]
  },
  {
   "cell_type": "code",
   "execution_count": 57,
   "id": "0e948ee8",
   "metadata": {},
   "outputs": [
    {
     "data": {
      "text/plain": [
       "0     0.989954\n",
       "2     0.706892\n",
       "3     0.789396\n",
       "4    -1.314546\n",
       "5     1.448653\n",
       "6    -0.780766\n",
       "11    1.402158\n",
       "Name: Col3, dtype: float64"
      ]
     },
     "execution_count": 57,
     "metadata": {},
     "output_type": "execute_result"
    }
   ],
   "source": [
    "df4.Col3"
   ]
  },
  {
   "cell_type": "code",
   "execution_count": 56,
   "id": "11421c35",
   "metadata": {},
   "outputs": [
    {
     "data": {
      "text/plain": [
       "1.0055975987982149"
      ]
     },
     "execution_count": 56,
     "metadata": {},
     "output_type": "execute_result"
    }
   ],
   "source": [
    "df4[\"Col2\"].cov(df4[\"Col3\"])  #<- it will print the covariance between two column \n",
    "# we will learn about what is covariance in the upcoming lectures"
   ]
  },
  {
   "cell_type": "code",
   "execution_count": 66,
   "id": "82becb7f",
   "metadata": {
    "scrolled": true
   },
   "outputs": [
    {
     "data": {
      "text/plain": [
       "0.36569640108860685"
      ]
     },
     "execution_count": 66,
     "metadata": {},
     "output_type": "execute_result"
    }
   ],
   "source": [
    "df4.Col2.cov(df4.Col3) #<- You can also use cov method like this "
   ]
  },
  {
   "cell_type": "code",
   "execution_count": 67,
   "id": "277764f7",
   "metadata": {},
   "outputs": [
    {
     "data": {
      "text/plain": [
       "<bound method DataFrame.cov of        Col1      Col2      Col3\n",
       "0  0.710888  0.464342 -0.121852\n",
       "1 -0.328806  1.000314 -1.824880\n",
       "2 -1.846169 -1.013042 -0.525336\n",
       "3 -0.626361  0.488084 -1.196827\n",
       "4 -0.510165  1.579486  1.815609\n",
       "5 -0.481509  1.353039  0.207638\n",
       "6  0.858866  0.215175 -0.050412>"
      ]
     },
     "execution_count": 67,
     "metadata": {},
     "output_type": "execute_result"
    }
   ],
   "source": [
    "df4.cov  #<- this will print the covariance of entire dataset"
   ]
  },
  {
   "cell_type": "code",
   "execution_count": null,
   "id": "d1d09d13",
   "metadata": {},
   "outputs": [],
   "source": []
  },
  {
   "cell_type": "markdown",
   "id": "7279091e",
   "metadata": {},
   "source": [
    "# Correlation\n",
    "The relation between two variables"
   ]
  },
  {
   "cell_type": "code",
   "execution_count": null,
   "id": "f3c7c8a7",
   "metadata": {},
   "outputs": [],
   "source": [
    "1 or >1 -> Strong or high correlation\n",
    "0 or <0 -> bed correlation"
   ]
  },
  {
   "cell_type": "code",
   "execution_count": 61,
   "id": "4c0c258d",
   "metadata": {
    "scrolled": true
   },
   "outputs": [
    {
     "data": {
      "text/html": [
       "<div>\n",
       "<style scoped>\n",
       "    .dataframe tbody tr th:only-of-type {\n",
       "        vertical-align: middle;\n",
       "    }\n",
       "\n",
       "    .dataframe tbody tr th {\n",
       "        vertical-align: top;\n",
       "    }\n",
       "\n",
       "    .dataframe thead th {\n",
       "        text-align: right;\n",
       "    }\n",
       "</style>\n",
       "<table border=\"1\" class=\"dataframe\">\n",
       "  <thead>\n",
       "    <tr style=\"text-align: right;\">\n",
       "      <th></th>\n",
       "      <th>Col1</th>\n",
       "      <th>Col2</th>\n",
       "      <th>Col3</th>\n",
       "    </tr>\n",
       "  </thead>\n",
       "  <tbody>\n",
       "    <tr>\n",
       "      <th>0</th>\n",
       "      <td>-0.560264</td>\n",
       "      <td>1.271283</td>\n",
       "      <td>0.989954</td>\n",
       "    </tr>\n",
       "    <tr>\n",
       "      <th>2</th>\n",
       "      <td>-0.124238</td>\n",
       "      <td>0.476101</td>\n",
       "      <td>0.706892</td>\n",
       "    </tr>\n",
       "    <tr>\n",
       "      <th>3</th>\n",
       "      <td>0.419031</td>\n",
       "      <td>0.198191</td>\n",
       "      <td>0.789396</td>\n",
       "    </tr>\n",
       "    <tr>\n",
       "      <th>4</th>\n",
       "      <td>-0.183222</td>\n",
       "      <td>-1.651382</td>\n",
       "      <td>-1.314546</td>\n",
       "    </tr>\n",
       "    <tr>\n",
       "      <th>5</th>\n",
       "      <td>-1.005410</td>\n",
       "      <td>0.871201</td>\n",
       "      <td>1.448653</td>\n",
       "    </tr>\n",
       "    <tr>\n",
       "      <th>6</th>\n",
       "      <td>1.415965</td>\n",
       "      <td>-0.773937</td>\n",
       "      <td>-0.780766</td>\n",
       "    </tr>\n",
       "    <tr>\n",
       "      <th>11</th>\n",
       "      <td>-0.399223</td>\n",
       "      <td>0.453871</td>\n",
       "      <td>1.402158</td>\n",
       "    </tr>\n",
       "  </tbody>\n",
       "</table>\n",
       "</div>"
      ],
      "text/plain": [
       "        Col1      Col2      Col3\n",
       "0  -0.560264  1.271283  0.989954\n",
       "2  -0.124238  0.476101  0.706892\n",
       "3   0.419031  0.198191  0.789396\n",
       "4  -0.183222 -1.651382 -1.314546\n",
       "5  -1.005410  0.871201  1.448653\n",
       "6   1.415965 -0.773937 -0.780766\n",
       "11 -0.399223  0.453871  1.402158"
      ]
     },
     "execution_count": 61,
     "metadata": {},
     "output_type": "execute_result"
    }
   ],
   "source": [
    "df4"
   ]
  },
  {
   "cell_type": "code",
   "execution_count": 62,
   "id": "7fb44a5f",
   "metadata": {},
   "outputs": [
    {
     "data": {
      "text/plain": [
       "0.9252834692250894"
      ]
     },
     "execution_count": 62,
     "metadata": {},
     "output_type": "execute_result"
    }
   ],
   "source": [
    "df4[\"Col2\"].corr(df4[\"Col3\"])  #<- it will print the correlation between column2 and column3"
   ]
  },
  {
   "cell_type": "code",
   "execution_count": 71,
   "id": "9e179666",
   "metadata": {},
   "outputs": [
    {
     "data": {
      "text/plain": [
       "<bound method DataFrame.corr of        Col1      Col2      Col3\n",
       "0  0.710888  0.464342 -0.121852\n",
       "1 -0.328806  1.000314 -1.824880\n",
       "2 -1.846169 -1.013042 -0.525336\n",
       "3 -0.626361  0.488084 -1.196827\n",
       "4 -0.510165  1.579486  1.815609\n",
       "5 -0.481509  1.353039  0.207638\n",
       "6  0.858866  0.215175 -0.050412>"
      ]
     },
     "execution_count": 71,
     "metadata": {},
     "output_type": "execute_result"
    }
   ],
   "source": [
    "df4.corr"
   ]
  },
  {
   "cell_type": "code",
   "execution_count": null,
   "id": "49193f2b",
   "metadata": {},
   "outputs": [],
   "source": []
  },
  {
   "cell_type": "markdown",
   "id": "78040120",
   "metadata": {},
   "source": [
    "# Data Cleaning"
   ]
  },
  {
   "cell_type": "code",
   "execution_count": 68,
   "id": "5818da7c",
   "metadata": {},
   "outputs": [],
   "source": [
    "df=pd.DataFrame(np.random.randn(5,3),\n",
    "               index=[\"A\",\"C\",\"E\",\"B\",\"D\"],\n",
    "               columns=[\"Col1\",\"Col2\",\"Col3\"])"
   ]
  },
  {
   "cell_type": "code",
   "execution_count": 71,
   "id": "32a3f1fc",
   "metadata": {},
   "outputs": [
    {
     "data": {
      "text/html": [
       "<div>\n",
       "<style scoped>\n",
       "    .dataframe tbody tr th:only-of-type {\n",
       "        vertical-align: middle;\n",
       "    }\n",
       "\n",
       "    .dataframe tbody tr th {\n",
       "        vertical-align: top;\n",
       "    }\n",
       "\n",
       "    .dataframe thead th {\n",
       "        text-align: right;\n",
       "    }\n",
       "</style>\n",
       "<table border=\"1\" class=\"dataframe\">\n",
       "  <thead>\n",
       "    <tr style=\"text-align: right;\">\n",
       "      <th></th>\n",
       "      <th>Col1</th>\n",
       "      <th>Col2</th>\n",
       "      <th>Col3</th>\n",
       "    </tr>\n",
       "  </thead>\n",
       "  <tbody>\n",
       "    <tr>\n",
       "      <th>A</th>\n",
       "      <td>-1.216449</td>\n",
       "      <td>-0.074915</td>\n",
       "      <td>-1.755774</td>\n",
       "    </tr>\n",
       "    <tr>\n",
       "      <th>C</th>\n",
       "      <td>0.284556</td>\n",
       "      <td>1.167029</td>\n",
       "      <td>-0.785234</td>\n",
       "    </tr>\n",
       "    <tr>\n",
       "      <th>E</th>\n",
       "      <td>-0.283898</td>\n",
       "      <td>1.172413</td>\n",
       "      <td>-0.292304</td>\n",
       "    </tr>\n",
       "    <tr>\n",
       "      <th>B</th>\n",
       "      <td>1.721905</td>\n",
       "      <td>0.912500</td>\n",
       "      <td>-0.534465</td>\n",
       "    </tr>\n",
       "    <tr>\n",
       "      <th>D</th>\n",
       "      <td>0.100855</td>\n",
       "      <td>-2.165115</td>\n",
       "      <td>0.251858</td>\n",
       "    </tr>\n",
       "  </tbody>\n",
       "</table>\n",
       "</div>"
      ],
      "text/plain": [
       "       Col1      Col2      Col3\n",
       "A -1.216449 -0.074915 -1.755774\n",
       "C  0.284556  1.167029 -0.785234\n",
       "E -0.283898  1.172413 -0.292304\n",
       "B  1.721905  0.912500 -0.534465\n",
       "D  0.100855 -2.165115  0.251858"
      ]
     },
     "execution_count": 71,
     "metadata": {},
     "output_type": "execute_result"
    }
   ],
   "source": [
    "df"
   ]
  },
  {
   "cell_type": "code",
   "execution_count": 67,
   "id": "4dfa3c45",
   "metadata": {},
   "outputs": [],
   "source": [
    "df=df.reindex([\"A\",\"B\",\"C\",\"D\",\"E\"])  #<- This will rearrange the index as per you want"
   ]
  },
  {
   "cell_type": "code",
   "execution_count": 73,
   "id": "483f22b3",
   "metadata": {},
   "outputs": [
    {
     "data": {
      "text/html": [
       "<div>\n",
       "<style scoped>\n",
       "    .dataframe tbody tr th:only-of-type {\n",
       "        vertical-align: middle;\n",
       "    }\n",
       "\n",
       "    .dataframe tbody tr th {\n",
       "        vertical-align: top;\n",
       "    }\n",
       "\n",
       "    .dataframe thead th {\n",
       "        text-align: right;\n",
       "    }\n",
       "</style>\n",
       "<table border=\"1\" class=\"dataframe\">\n",
       "  <thead>\n",
       "    <tr style=\"text-align: right;\">\n",
       "      <th></th>\n",
       "      <th>Col1</th>\n",
       "      <th>Col2</th>\n",
       "      <th>Col3</th>\n",
       "    </tr>\n",
       "  </thead>\n",
       "  <tbody>\n",
       "    <tr>\n",
       "      <th>A</th>\n",
       "      <td>-1.216449</td>\n",
       "      <td>-0.074915</td>\n",
       "      <td>-1.755774</td>\n",
       "    </tr>\n",
       "    <tr>\n",
       "      <th>B</th>\n",
       "      <td>1.721905</td>\n",
       "      <td>0.912500</td>\n",
       "      <td>-0.534465</td>\n",
       "    </tr>\n",
       "    <tr>\n",
       "      <th>C</th>\n",
       "      <td>0.284556</td>\n",
       "      <td>1.167029</td>\n",
       "      <td>-0.785234</td>\n",
       "    </tr>\n",
       "    <tr>\n",
       "      <th>D</th>\n",
       "      <td>0.100855</td>\n",
       "      <td>-2.165115</td>\n",
       "      <td>0.251858</td>\n",
       "    </tr>\n",
       "    <tr>\n",
       "      <th>E</th>\n",
       "      <td>-0.283898</td>\n",
       "      <td>1.172413</td>\n",
       "      <td>-0.292304</td>\n",
       "    </tr>\n",
       "  </tbody>\n",
       "</table>\n",
       "</div>"
      ],
      "text/plain": [
       "       Col1      Col2      Col3\n",
       "A -1.216449 -0.074915 -1.755774\n",
       "B  1.721905  0.912500 -0.534465\n",
       "C  0.284556  1.167029 -0.785234\n",
       "D  0.100855 -2.165115  0.251858\n",
       "E -0.283898  1.172413 -0.292304"
      ]
     },
     "execution_count": 73,
     "metadata": {},
     "output_type": "execute_result"
    }
   ],
   "source": [
    "df  "
   ]
  },
  {
   "cell_type": "code",
   "execution_count": null,
   "id": "e63eac12",
   "metadata": {},
   "outputs": [],
   "source": []
  },
  {
   "cell_type": "code",
   "execution_count": 86,
   "id": "243991e3",
   "metadata": {},
   "outputs": [],
   "source": [
    "df=pd.DataFrame(np.random.randn(5,3),\n",
    "               index=[\"A\",\"E\",\"F\",\"G\",\"H\"],\n",
    "               columns=[\"Col1\",\"Col2\",\"Col3\"])"
   ]
  },
  {
   "cell_type": "code",
   "execution_count": 87,
   "id": "6d3a5a59",
   "metadata": {},
   "outputs": [
    {
     "data": {
      "text/html": [
       "<div>\n",
       "<style scoped>\n",
       "    .dataframe tbody tr th:only-of-type {\n",
       "        vertical-align: middle;\n",
       "    }\n",
       "\n",
       "    .dataframe tbody tr th {\n",
       "        vertical-align: top;\n",
       "    }\n",
       "\n",
       "    .dataframe thead th {\n",
       "        text-align: right;\n",
       "    }\n",
       "</style>\n",
       "<table border=\"1\" class=\"dataframe\">\n",
       "  <thead>\n",
       "    <tr style=\"text-align: right;\">\n",
       "      <th></th>\n",
       "      <th>Col1</th>\n",
       "      <th>Col2</th>\n",
       "      <th>Col3</th>\n",
       "    </tr>\n",
       "  </thead>\n",
       "  <tbody>\n",
       "    <tr>\n",
       "      <th>A</th>\n",
       "      <td>0.653927</td>\n",
       "      <td>-0.088211</td>\n",
       "      <td>-0.737081</td>\n",
       "    </tr>\n",
       "    <tr>\n",
       "      <th>E</th>\n",
       "      <td>-1.396726</td>\n",
       "      <td>0.619634</td>\n",
       "      <td>-1.635182</td>\n",
       "    </tr>\n",
       "    <tr>\n",
       "      <th>F</th>\n",
       "      <td>-1.743105</td>\n",
       "      <td>-0.055153</td>\n",
       "      <td>0.461088</td>\n",
       "    </tr>\n",
       "    <tr>\n",
       "      <th>G</th>\n",
       "      <td>-1.879650</td>\n",
       "      <td>-0.450106</td>\n",
       "      <td>-0.096780</td>\n",
       "    </tr>\n",
       "    <tr>\n",
       "      <th>H</th>\n",
       "      <td>-0.500005</td>\n",
       "      <td>0.349774</td>\n",
       "      <td>-0.438815</td>\n",
       "    </tr>\n",
       "  </tbody>\n",
       "</table>\n",
       "</div>"
      ],
      "text/plain": [
       "       Col1      Col2      Col3\n",
       "A  0.653927 -0.088211 -0.737081\n",
       "E -1.396726  0.619634 -1.635182\n",
       "F -1.743105 -0.055153  0.461088\n",
       "G -1.879650 -0.450106 -0.096780\n",
       "H -0.500005  0.349774 -0.438815"
      ]
     },
     "execution_count": 87,
     "metadata": {},
     "output_type": "execute_result"
    }
   ],
   "source": [
    "df"
   ]
  },
  {
   "cell_type": "code",
   "execution_count": 88,
   "id": "81e55610",
   "metadata": {},
   "outputs": [],
   "source": [
    "df=df.reindex([\"A\",\"B\",\"C\",\"D\",\"E\",\"F\",\"G\",\"H\"])  #<- it will not give an error but it will print the index values NaN where it is not defined\n",
    "# And it will print NaN where you don't have rows with that index "
   ]
  },
  {
   "cell_type": "code",
   "execution_count": 89,
   "id": "26ef6782",
   "metadata": {},
   "outputs": [
    {
     "data": {
      "text/html": [
       "<div>\n",
       "<style scoped>\n",
       "    .dataframe tbody tr th:only-of-type {\n",
       "        vertical-align: middle;\n",
       "    }\n",
       "\n",
       "    .dataframe tbody tr th {\n",
       "        vertical-align: top;\n",
       "    }\n",
       "\n",
       "    .dataframe thead th {\n",
       "        text-align: right;\n",
       "    }\n",
       "</style>\n",
       "<table border=\"1\" class=\"dataframe\">\n",
       "  <thead>\n",
       "    <tr style=\"text-align: right;\">\n",
       "      <th></th>\n",
       "      <th>Col1</th>\n",
       "      <th>Col2</th>\n",
       "      <th>Col3</th>\n",
       "    </tr>\n",
       "  </thead>\n",
       "  <tbody>\n",
       "    <tr>\n",
       "      <th>A</th>\n",
       "      <td>0.653927</td>\n",
       "      <td>-0.088211</td>\n",
       "      <td>-0.737081</td>\n",
       "    </tr>\n",
       "    <tr>\n",
       "      <th>B</th>\n",
       "      <td>NaN</td>\n",
       "      <td>NaN</td>\n",
       "      <td>NaN</td>\n",
       "    </tr>\n",
       "    <tr>\n",
       "      <th>C</th>\n",
       "      <td>NaN</td>\n",
       "      <td>NaN</td>\n",
       "      <td>NaN</td>\n",
       "    </tr>\n",
       "    <tr>\n",
       "      <th>D</th>\n",
       "      <td>NaN</td>\n",
       "      <td>NaN</td>\n",
       "      <td>NaN</td>\n",
       "    </tr>\n",
       "    <tr>\n",
       "      <th>E</th>\n",
       "      <td>-1.396726</td>\n",
       "      <td>0.619634</td>\n",
       "      <td>-1.635182</td>\n",
       "    </tr>\n",
       "    <tr>\n",
       "      <th>F</th>\n",
       "      <td>-1.743105</td>\n",
       "      <td>-0.055153</td>\n",
       "      <td>0.461088</td>\n",
       "    </tr>\n",
       "    <tr>\n",
       "      <th>G</th>\n",
       "      <td>-1.879650</td>\n",
       "      <td>-0.450106</td>\n",
       "      <td>-0.096780</td>\n",
       "    </tr>\n",
       "    <tr>\n",
       "      <th>H</th>\n",
       "      <td>-0.500005</td>\n",
       "      <td>0.349774</td>\n",
       "      <td>-0.438815</td>\n",
       "    </tr>\n",
       "  </tbody>\n",
       "</table>\n",
       "</div>"
      ],
      "text/plain": [
       "       Col1      Col2      Col3\n",
       "A  0.653927 -0.088211 -0.737081\n",
       "B       NaN       NaN       NaN\n",
       "C       NaN       NaN       NaN\n",
       "D       NaN       NaN       NaN\n",
       "E -1.396726  0.619634 -1.635182\n",
       "F -1.743105 -0.055153  0.461088\n",
       "G -1.879650 -0.450106 -0.096780\n",
       "H -0.500005  0.349774 -0.438815"
      ]
     },
     "execution_count": 89,
     "metadata": {},
     "output_type": "execute_result"
    }
   ],
   "source": [
    "df"
   ]
  },
  {
   "cell_type": "code",
   "execution_count": null,
   "id": "a9dc38a7",
   "metadata": {},
   "outputs": [],
   "source": []
  },
  {
   "cell_type": "markdown",
   "id": "3d5f8614",
   "metadata": {},
   "source": [
    "# isnull()    or   isna()\n",
    "It will print true where there is NaN and it will print false where there is no NaN"
   ]
  },
  {
   "cell_type": "code",
   "execution_count": null,
   "id": "8c2b263f",
   "metadata": {},
   "outputs": [],
   "source": []
  },
  {
   "cell_type": "code",
   "execution_count": 90,
   "id": "0165748c",
   "metadata": {},
   "outputs": [
    {
     "data": {
      "text/html": [
       "<div>\n",
       "<style scoped>\n",
       "    .dataframe tbody tr th:only-of-type {\n",
       "        vertical-align: middle;\n",
       "    }\n",
       "\n",
       "    .dataframe tbody tr th {\n",
       "        vertical-align: top;\n",
       "    }\n",
       "\n",
       "    .dataframe thead th {\n",
       "        text-align: right;\n",
       "    }\n",
       "</style>\n",
       "<table border=\"1\" class=\"dataframe\">\n",
       "  <thead>\n",
       "    <tr style=\"text-align: right;\">\n",
       "      <th></th>\n",
       "      <th>Col1</th>\n",
       "      <th>Col2</th>\n",
       "      <th>Col3</th>\n",
       "    </tr>\n",
       "  </thead>\n",
       "  <tbody>\n",
       "    <tr>\n",
       "      <th>A</th>\n",
       "      <td>0.653927</td>\n",
       "      <td>-0.088211</td>\n",
       "      <td>-0.737081</td>\n",
       "    </tr>\n",
       "    <tr>\n",
       "      <th>B</th>\n",
       "      <td>NaN</td>\n",
       "      <td>NaN</td>\n",
       "      <td>NaN</td>\n",
       "    </tr>\n",
       "    <tr>\n",
       "      <th>C</th>\n",
       "      <td>NaN</td>\n",
       "      <td>NaN</td>\n",
       "      <td>NaN</td>\n",
       "    </tr>\n",
       "    <tr>\n",
       "      <th>D</th>\n",
       "      <td>NaN</td>\n",
       "      <td>NaN</td>\n",
       "      <td>NaN</td>\n",
       "    </tr>\n",
       "    <tr>\n",
       "      <th>E</th>\n",
       "      <td>-1.396726</td>\n",
       "      <td>0.619634</td>\n",
       "      <td>-1.635182</td>\n",
       "    </tr>\n",
       "    <tr>\n",
       "      <th>F</th>\n",
       "      <td>-1.743105</td>\n",
       "      <td>-0.055153</td>\n",
       "      <td>0.461088</td>\n",
       "    </tr>\n",
       "    <tr>\n",
       "      <th>G</th>\n",
       "      <td>-1.879650</td>\n",
       "      <td>-0.450106</td>\n",
       "      <td>-0.096780</td>\n",
       "    </tr>\n",
       "    <tr>\n",
       "      <th>H</th>\n",
       "      <td>-0.500005</td>\n",
       "      <td>0.349774</td>\n",
       "      <td>-0.438815</td>\n",
       "    </tr>\n",
       "  </tbody>\n",
       "</table>\n",
       "</div>"
      ],
      "text/plain": [
       "       Col1      Col2      Col3\n",
       "A  0.653927 -0.088211 -0.737081\n",
       "B       NaN       NaN       NaN\n",
       "C       NaN       NaN       NaN\n",
       "D       NaN       NaN       NaN\n",
       "E -1.396726  0.619634 -1.635182\n",
       "F -1.743105 -0.055153  0.461088\n",
       "G -1.879650 -0.450106 -0.096780\n",
       "H -0.500005  0.349774 -0.438815"
      ]
     },
     "execution_count": 90,
     "metadata": {},
     "output_type": "execute_result"
    }
   ],
   "source": [
    "df"
   ]
  },
  {
   "cell_type": "code",
   "execution_count": 91,
   "id": "cec89a93",
   "metadata": {
    "scrolled": true
   },
   "outputs": [
    {
     "data": {
      "text/html": [
       "<div>\n",
       "<style scoped>\n",
       "    .dataframe tbody tr th:only-of-type {\n",
       "        vertical-align: middle;\n",
       "    }\n",
       "\n",
       "    .dataframe tbody tr th {\n",
       "        vertical-align: top;\n",
       "    }\n",
       "\n",
       "    .dataframe thead th {\n",
       "        text-align: right;\n",
       "    }\n",
       "</style>\n",
       "<table border=\"1\" class=\"dataframe\">\n",
       "  <thead>\n",
       "    <tr style=\"text-align: right;\">\n",
       "      <th></th>\n",
       "      <th>Col1</th>\n",
       "      <th>Col2</th>\n",
       "      <th>Col3</th>\n",
       "    </tr>\n",
       "  </thead>\n",
       "  <tbody>\n",
       "    <tr>\n",
       "      <th>A</th>\n",
       "      <td>False</td>\n",
       "      <td>False</td>\n",
       "      <td>False</td>\n",
       "    </tr>\n",
       "    <tr>\n",
       "      <th>B</th>\n",
       "      <td>True</td>\n",
       "      <td>True</td>\n",
       "      <td>True</td>\n",
       "    </tr>\n",
       "    <tr>\n",
       "      <th>C</th>\n",
       "      <td>True</td>\n",
       "      <td>True</td>\n",
       "      <td>True</td>\n",
       "    </tr>\n",
       "    <tr>\n",
       "      <th>D</th>\n",
       "      <td>True</td>\n",
       "      <td>True</td>\n",
       "      <td>True</td>\n",
       "    </tr>\n",
       "    <tr>\n",
       "      <th>E</th>\n",
       "      <td>False</td>\n",
       "      <td>False</td>\n",
       "      <td>False</td>\n",
       "    </tr>\n",
       "    <tr>\n",
       "      <th>F</th>\n",
       "      <td>False</td>\n",
       "      <td>False</td>\n",
       "      <td>False</td>\n",
       "    </tr>\n",
       "    <tr>\n",
       "      <th>G</th>\n",
       "      <td>False</td>\n",
       "      <td>False</td>\n",
       "      <td>False</td>\n",
       "    </tr>\n",
       "    <tr>\n",
       "      <th>H</th>\n",
       "      <td>False</td>\n",
       "      <td>False</td>\n",
       "      <td>False</td>\n",
       "    </tr>\n",
       "  </tbody>\n",
       "</table>\n",
       "</div>"
      ],
      "text/plain": [
       "    Col1   Col2   Col3\n",
       "A  False  False  False\n",
       "B   True   True   True\n",
       "C   True   True   True\n",
       "D   True   True   True\n",
       "E  False  False  False\n",
       "F  False  False  False\n",
       "G  False  False  False\n",
       "H  False  False  False"
      ]
     },
     "execution_count": 91,
     "metadata": {},
     "output_type": "execute_result"
    }
   ],
   "source": [
    "df.isnull()  #<- this will give true where NaN values"
   ]
  },
  {
   "cell_type": "code",
   "execution_count": 83,
   "id": "d0565ee7",
   "metadata": {
    "scrolled": true
   },
   "outputs": [
    {
     "data": {
      "text/html": [
       "<div>\n",
       "<style scoped>\n",
       "    .dataframe tbody tr th:only-of-type {\n",
       "        vertical-align: middle;\n",
       "    }\n",
       "\n",
       "    .dataframe tbody tr th {\n",
       "        vertical-align: top;\n",
       "    }\n",
       "\n",
       "    .dataframe thead th {\n",
       "        text-align: right;\n",
       "    }\n",
       "</style>\n",
       "<table border=\"1\" class=\"dataframe\">\n",
       "  <thead>\n",
       "    <tr style=\"text-align: right;\">\n",
       "      <th></th>\n",
       "      <th>Col1</th>\n",
       "      <th>Col2</th>\n",
       "      <th>Col3</th>\n",
       "    </tr>\n",
       "  </thead>\n",
       "  <tbody>\n",
       "    <tr>\n",
       "      <th>A</th>\n",
       "      <td>False</td>\n",
       "      <td>False</td>\n",
       "      <td>False</td>\n",
       "    </tr>\n",
       "    <tr>\n",
       "      <th>B</th>\n",
       "      <td>True</td>\n",
       "      <td>True</td>\n",
       "      <td>True</td>\n",
       "    </tr>\n",
       "    <tr>\n",
       "      <th>C</th>\n",
       "      <td>True</td>\n",
       "      <td>True</td>\n",
       "      <td>True</td>\n",
       "    </tr>\n",
       "    <tr>\n",
       "      <th>D</th>\n",
       "      <td>True</td>\n",
       "      <td>True</td>\n",
       "      <td>True</td>\n",
       "    </tr>\n",
       "    <tr>\n",
       "      <th>E</th>\n",
       "      <td>False</td>\n",
       "      <td>False</td>\n",
       "      <td>False</td>\n",
       "    </tr>\n",
       "    <tr>\n",
       "      <th>F</th>\n",
       "      <td>False</td>\n",
       "      <td>False</td>\n",
       "      <td>False</td>\n",
       "    </tr>\n",
       "    <tr>\n",
       "      <th>G</th>\n",
       "      <td>False</td>\n",
       "      <td>False</td>\n",
       "      <td>False</td>\n",
       "    </tr>\n",
       "    <tr>\n",
       "      <th>H</th>\n",
       "      <td>False</td>\n",
       "      <td>False</td>\n",
       "      <td>False</td>\n",
       "    </tr>\n",
       "  </tbody>\n",
       "</table>\n",
       "</div>"
      ],
      "text/plain": [
       "    Col1   Col2   Col3\n",
       "A  False  False  False\n",
       "B   True   True   True\n",
       "C   True   True   True\n",
       "D   True   True   True\n",
       "E  False  False  False\n",
       "F  False  False  False\n",
       "G  False  False  False\n",
       "H  False  False  False"
      ]
     },
     "execution_count": 83,
     "metadata": {},
     "output_type": "execute_result"
    }
   ],
   "source": [
    "df.isna()   #<- it is as same as isnull"
   ]
  },
  {
   "cell_type": "code",
   "execution_count": 97,
   "id": "3bab2808",
   "metadata": {},
   "outputs": [
    {
     "data": {
      "text/plain": [
       "<bound method DataFrame.items of        Col1      Col2      Col3\n",
       "A  0.653927 -0.088211 -0.737081\n",
       "B       NaN       NaN       NaN\n",
       "C       NaN       NaN       NaN\n",
       "D       NaN       NaN       NaN\n",
       "E -1.396726  0.619634 -1.635182\n",
       "F -1.743105 -0.055153  0.461088\n",
       "G -1.879650 -0.450106 -0.096780\n",
       "H -0.500005  0.349774 -0.438815>"
      ]
     },
     "execution_count": 97,
     "metadata": {},
     "output_type": "execute_result"
    }
   ],
   "source": [
    "df.items"
   ]
  },
  {
   "cell_type": "code",
   "execution_count": null,
   "id": "d41defc3",
   "metadata": {},
   "outputs": [],
   "source": []
  },
  {
   "cell_type": "markdown",
   "id": "d9763920",
   "metadata": {},
   "source": [
    "# notnull()"
   ]
  },
  {
   "cell_type": "code",
   "execution_count": 98,
   "id": "3722dcff",
   "metadata": {},
   "outputs": [
    {
     "data": {
      "text/html": [
       "<div>\n",
       "<style scoped>\n",
       "    .dataframe tbody tr th:only-of-type {\n",
       "        vertical-align: middle;\n",
       "    }\n",
       "\n",
       "    .dataframe tbody tr th {\n",
       "        vertical-align: top;\n",
       "    }\n",
       "\n",
       "    .dataframe thead th {\n",
       "        text-align: right;\n",
       "    }\n",
       "</style>\n",
       "<table border=\"1\" class=\"dataframe\">\n",
       "  <thead>\n",
       "    <tr style=\"text-align: right;\">\n",
       "      <th></th>\n",
       "      <th>Col1</th>\n",
       "      <th>Col2</th>\n",
       "      <th>Col3</th>\n",
       "    </tr>\n",
       "  </thead>\n",
       "  <tbody>\n",
       "    <tr>\n",
       "      <th>A</th>\n",
       "      <td>0.653927</td>\n",
       "      <td>-0.088211</td>\n",
       "      <td>-0.737081</td>\n",
       "    </tr>\n",
       "    <tr>\n",
       "      <th>B</th>\n",
       "      <td>NaN</td>\n",
       "      <td>NaN</td>\n",
       "      <td>NaN</td>\n",
       "    </tr>\n",
       "    <tr>\n",
       "      <th>C</th>\n",
       "      <td>NaN</td>\n",
       "      <td>NaN</td>\n",
       "      <td>NaN</td>\n",
       "    </tr>\n",
       "    <tr>\n",
       "      <th>D</th>\n",
       "      <td>NaN</td>\n",
       "      <td>NaN</td>\n",
       "      <td>NaN</td>\n",
       "    </tr>\n",
       "    <tr>\n",
       "      <th>E</th>\n",
       "      <td>-1.396726</td>\n",
       "      <td>0.619634</td>\n",
       "      <td>-1.635182</td>\n",
       "    </tr>\n",
       "    <tr>\n",
       "      <th>F</th>\n",
       "      <td>-1.743105</td>\n",
       "      <td>-0.055153</td>\n",
       "      <td>0.461088</td>\n",
       "    </tr>\n",
       "    <tr>\n",
       "      <th>G</th>\n",
       "      <td>-1.879650</td>\n",
       "      <td>-0.450106</td>\n",
       "      <td>-0.096780</td>\n",
       "    </tr>\n",
       "    <tr>\n",
       "      <th>H</th>\n",
       "      <td>-0.500005</td>\n",
       "      <td>0.349774</td>\n",
       "      <td>-0.438815</td>\n",
       "    </tr>\n",
       "  </tbody>\n",
       "</table>\n",
       "</div>"
      ],
      "text/plain": [
       "       Col1      Col2      Col3\n",
       "A  0.653927 -0.088211 -0.737081\n",
       "B       NaN       NaN       NaN\n",
       "C       NaN       NaN       NaN\n",
       "D       NaN       NaN       NaN\n",
       "E -1.396726  0.619634 -1.635182\n",
       "F -1.743105 -0.055153  0.461088\n",
       "G -1.879650 -0.450106 -0.096780\n",
       "H -0.500005  0.349774 -0.438815"
      ]
     },
     "execution_count": 98,
     "metadata": {},
     "output_type": "execute_result"
    }
   ],
   "source": [
    "df"
   ]
  },
  {
   "cell_type": "code",
   "execution_count": 99,
   "id": "1941c20d",
   "metadata": {},
   "outputs": [
    {
     "data": {
      "text/html": [
       "<div>\n",
       "<style scoped>\n",
       "    .dataframe tbody tr th:only-of-type {\n",
       "        vertical-align: middle;\n",
       "    }\n",
       "\n",
       "    .dataframe tbody tr th {\n",
       "        vertical-align: top;\n",
       "    }\n",
       "\n",
       "    .dataframe thead th {\n",
       "        text-align: right;\n",
       "    }\n",
       "</style>\n",
       "<table border=\"1\" class=\"dataframe\">\n",
       "  <thead>\n",
       "    <tr style=\"text-align: right;\">\n",
       "      <th></th>\n",
       "      <th>Col1</th>\n",
       "      <th>Col2</th>\n",
       "      <th>Col3</th>\n",
       "    </tr>\n",
       "  </thead>\n",
       "  <tbody>\n",
       "    <tr>\n",
       "      <th>A</th>\n",
       "      <td>True</td>\n",
       "      <td>True</td>\n",
       "      <td>True</td>\n",
       "    </tr>\n",
       "    <tr>\n",
       "      <th>B</th>\n",
       "      <td>False</td>\n",
       "      <td>False</td>\n",
       "      <td>False</td>\n",
       "    </tr>\n",
       "    <tr>\n",
       "      <th>C</th>\n",
       "      <td>False</td>\n",
       "      <td>False</td>\n",
       "      <td>False</td>\n",
       "    </tr>\n",
       "    <tr>\n",
       "      <th>D</th>\n",
       "      <td>False</td>\n",
       "      <td>False</td>\n",
       "      <td>False</td>\n",
       "    </tr>\n",
       "    <tr>\n",
       "      <th>E</th>\n",
       "      <td>True</td>\n",
       "      <td>True</td>\n",
       "      <td>True</td>\n",
       "    </tr>\n",
       "    <tr>\n",
       "      <th>F</th>\n",
       "      <td>True</td>\n",
       "      <td>True</td>\n",
       "      <td>True</td>\n",
       "    </tr>\n",
       "    <tr>\n",
       "      <th>G</th>\n",
       "      <td>True</td>\n",
       "      <td>True</td>\n",
       "      <td>True</td>\n",
       "    </tr>\n",
       "    <tr>\n",
       "      <th>H</th>\n",
       "      <td>True</td>\n",
       "      <td>True</td>\n",
       "      <td>True</td>\n",
       "    </tr>\n",
       "  </tbody>\n",
       "</table>\n",
       "</div>"
      ],
      "text/plain": [
       "    Col1   Col2   Col3\n",
       "A   True   True   True\n",
       "B  False  False  False\n",
       "C  False  False  False\n",
       "D  False  False  False\n",
       "E   True   True   True\n",
       "F   True   True   True\n",
       "G   True   True   True\n",
       "H   True   True   True"
      ]
     },
     "execution_count": 99,
     "metadata": {},
     "output_type": "execute_result"
    }
   ],
   "source": [
    "df.notnull()"
   ]
  },
  {
   "cell_type": "code",
   "execution_count": 84,
   "id": "0a56cf01",
   "metadata": {},
   "outputs": [
    {
     "data": {
      "text/html": [
       "<div>\n",
       "<style scoped>\n",
       "    .dataframe tbody tr th:only-of-type {\n",
       "        vertical-align: middle;\n",
       "    }\n",
       "\n",
       "    .dataframe tbody tr th {\n",
       "        vertical-align: top;\n",
       "    }\n",
       "\n",
       "    .dataframe thead th {\n",
       "        text-align: right;\n",
       "    }\n",
       "</style>\n",
       "<table border=\"1\" class=\"dataframe\">\n",
       "  <thead>\n",
       "    <tr style=\"text-align: right;\">\n",
       "      <th></th>\n",
       "      <th>Col1</th>\n",
       "      <th>Col2</th>\n",
       "      <th>Col3</th>\n",
       "    </tr>\n",
       "  </thead>\n",
       "  <tbody>\n",
       "    <tr>\n",
       "      <th>A</th>\n",
       "      <td>True</td>\n",
       "      <td>True</td>\n",
       "      <td>True</td>\n",
       "    </tr>\n",
       "    <tr>\n",
       "      <th>B</th>\n",
       "      <td>False</td>\n",
       "      <td>False</td>\n",
       "      <td>False</td>\n",
       "    </tr>\n",
       "    <tr>\n",
       "      <th>C</th>\n",
       "      <td>False</td>\n",
       "      <td>False</td>\n",
       "      <td>False</td>\n",
       "    </tr>\n",
       "    <tr>\n",
       "      <th>D</th>\n",
       "      <td>False</td>\n",
       "      <td>False</td>\n",
       "      <td>False</td>\n",
       "    </tr>\n",
       "    <tr>\n",
       "      <th>E</th>\n",
       "      <td>True</td>\n",
       "      <td>True</td>\n",
       "      <td>True</td>\n",
       "    </tr>\n",
       "    <tr>\n",
       "      <th>F</th>\n",
       "      <td>True</td>\n",
       "      <td>True</td>\n",
       "      <td>True</td>\n",
       "    </tr>\n",
       "    <tr>\n",
       "      <th>G</th>\n",
       "      <td>True</td>\n",
       "      <td>True</td>\n",
       "      <td>True</td>\n",
       "    </tr>\n",
       "    <tr>\n",
       "      <th>H</th>\n",
       "      <td>True</td>\n",
       "      <td>True</td>\n",
       "      <td>True</td>\n",
       "    </tr>\n",
       "  </tbody>\n",
       "</table>\n",
       "</div>"
      ],
      "text/plain": [
       "    Col1   Col2   Col3\n",
       "A   True   True   True\n",
       "B  False  False  False\n",
       "C  False  False  False\n",
       "D  False  False  False\n",
       "E   True   True   True\n",
       "F   True   True   True\n",
       "G   True   True   True\n",
       "H   True   True   True"
      ]
     },
     "execution_count": 84,
     "metadata": {},
     "output_type": "execute_result"
    }
   ],
   "source": [
    "df.notnull()  #<- It will print True if the values will not NaN and it will print False if the values will be NaN"
   ]
  },
  {
   "cell_type": "code",
   "execution_count": 101,
   "id": "24ae0051",
   "metadata": {},
   "outputs": [
    {
     "data": {
      "text/plain": [
       "Col1    5\n",
       "Col2    5\n",
       "Col3    5\n",
       "dtype: int64"
      ]
     },
     "execution_count": 101,
     "metadata": {},
     "output_type": "execute_result"
    }
   ],
   "source": [
    "df.notnull().sum()"
   ]
  },
  {
   "cell_type": "code",
   "execution_count": 86,
   "id": "ff3820f1",
   "metadata": {},
   "outputs": [
    {
     "data": {
      "text/plain": [
       "Col1    3\n",
       "Col2    3\n",
       "Col3    3\n",
       "dtype: int64"
      ]
     },
     "execution_count": 86,
     "metadata": {},
     "output_type": "execute_result"
    }
   ],
   "source": [
    "df.isnull().sum()  #<- It will return the total number of null values in every column"
   ]
  },
  {
   "cell_type": "code",
   "execution_count": 102,
   "id": "81306ba9",
   "metadata": {},
   "outputs": [
    {
     "data": {
      "text/plain": [
       "9"
      ]
     },
     "execution_count": 102,
     "metadata": {},
     "output_type": "execute_result"
    }
   ],
   "source": [
    "df.isnull().sum().sum()  #<- it will return total number of null values in the dataset"
   ]
  },
  {
   "cell_type": "code",
   "execution_count": 106,
   "id": "bd5b8fc6",
   "metadata": {},
   "outputs": [
    {
     "data": {
      "text/plain": [
       "9"
      ]
     },
     "execution_count": 106,
     "metadata": {},
     "output_type": "execute_result"
    }
   ],
   "source": [
    "df.isnull().sum(1).sum()"
   ]
  },
  {
   "cell_type": "code",
   "execution_count": 103,
   "id": "31121763",
   "metadata": {},
   "outputs": [
    {
     "data": {
      "text/plain": [
       "A    0\n",
       "B    3\n",
       "C    3\n",
       "D    3\n",
       "E    0\n",
       "F    0\n",
       "G    0\n",
       "H    0\n",
       "dtype: int64"
      ]
     },
     "execution_count": 103,
     "metadata": {},
     "output_type": "execute_result"
    }
   ],
   "source": [
    "df.isnull().sum(1)   #<- it will return the total number of null values in every row "
   ]
  },
  {
   "cell_type": "code",
   "execution_count": 93,
   "id": "8d398fe5",
   "metadata": {},
   "outputs": [
    {
     "data": {
      "text/plain": [
       "A    False\n",
       "B     True\n",
       "C     True\n",
       "D     True\n",
       "E    False\n",
       "F    False\n",
       "G    False\n",
       "H    False\n",
       "Name: Col1, dtype: bool"
      ]
     },
     "execution_count": 93,
     "metadata": {},
     "output_type": "execute_result"
    }
   ],
   "source": [
    "df[\"Col1\"].isnull()  #<- It will give the values of is null or not from Col1 column"
   ]
  },
  {
   "cell_type": "code",
   "execution_count": 108,
   "id": "4ae93a3e",
   "metadata": {},
   "outputs": [
    {
     "data": {
      "text/plain": [
       "Col1    False\n",
       "Col2    False\n",
       "Col3    False\n",
       "Name: G, dtype: bool"
      ]
     },
     "execution_count": 108,
     "metadata": {},
     "output_type": "execute_result"
    }
   ],
   "source": [
    "df.loc[\"G\"].isnull()   #<- it will give the values of is null or not null from the row \"G\""
   ]
  },
  {
   "cell_type": "code",
   "execution_count": null,
   "id": "1b0651b6",
   "metadata": {},
   "outputs": [],
   "source": []
  },
  {
   "cell_type": "code",
   "execution_count": 109,
   "id": "c09e14dd",
   "metadata": {},
   "outputs": [
    {
     "data": {
      "text/plain": [
       "Col1    5\n",
       "Col2    5\n",
       "Col3    5\n",
       "dtype: int64"
      ]
     },
     "execution_count": 109,
     "metadata": {},
     "output_type": "execute_result"
    }
   ],
   "source": [
    "df.notnull().sum()  #<- it will return the total number of not null values"
   ]
  },
  {
   "cell_type": "code",
   "execution_count": null,
   "id": "d20627cd",
   "metadata": {},
   "outputs": [],
   "source": []
  },
  {
   "cell_type": "markdown",
   "id": "800f124f",
   "metadata": {},
   "source": [
    "# count()"
   ]
  },
  {
   "cell_type": "code",
   "execution_count": 111,
   "id": "08671b80",
   "metadata": {},
   "outputs": [
    {
     "data": {
      "text/plain": [
       "Col1    5\n",
       "Col2    5\n",
       "Col3    5\n",
       "dtype: int64"
      ]
     },
     "execution_count": 111,
     "metadata": {},
     "output_type": "execute_result"
    }
   ],
   "source": [
    "df.count()"
   ]
  },
  {
   "cell_type": "code",
   "execution_count": 110,
   "id": "2cdddfe4",
   "metadata": {},
   "outputs": [
    {
     "data": {
      "text/plain": [
       "Col1    5\n",
       "Col2    5\n",
       "Col3    5\n",
       "dtype: int64"
      ]
     },
     "execution_count": 110,
     "metadata": {},
     "output_type": "execute_result"
    }
   ],
   "source": [
    "df.count()  #<- it will give the total number of not null values inside the column"
   ]
  },
  {
   "cell_type": "code",
   "execution_count": 91,
   "id": "10ab1f92",
   "metadata": {},
   "outputs": [
    {
     "data": {
      "text/plain": [
       "A    3\n",
       "B    0\n",
       "C    0\n",
       "D    0\n",
       "E    3\n",
       "F    3\n",
       "G    3\n",
       "H    3\n",
       "dtype: int64"
      ]
     },
     "execution_count": 91,
     "metadata": {},
     "output_type": "execute_result"
    }
   ],
   "source": [
    "df.count(1)  #<- it will give the total number of not null values inside every row"
   ]
  },
  {
   "cell_type": "code",
   "execution_count": null,
   "id": "8130fc31",
   "metadata": {},
   "outputs": [],
   "source": [
    "df.count() will take only not null values into consideration"
   ]
  },
  {
   "cell_type": "code",
   "execution_count": null,
   "id": "fe7fb1d1",
   "metadata": {},
   "outputs": [],
   "source": []
  },
  {
   "cell_type": "markdown",
   "id": "b4151e7a",
   "metadata": {},
   "source": [
    "# Clean missing (NaN) values"
   ]
  },
  {
   "cell_type": "code",
   "execution_count": 113,
   "id": "7989c74d",
   "metadata": {
    "scrolled": false
   },
   "outputs": [
    {
     "data": {
      "text/html": [
       "<div>\n",
       "<style scoped>\n",
       "    .dataframe tbody tr th:only-of-type {\n",
       "        vertical-align: middle;\n",
       "    }\n",
       "\n",
       "    .dataframe tbody tr th {\n",
       "        vertical-align: top;\n",
       "    }\n",
       "\n",
       "    .dataframe thead th {\n",
       "        text-align: right;\n",
       "    }\n",
       "</style>\n",
       "<table border=\"1\" class=\"dataframe\">\n",
       "  <thead>\n",
       "    <tr style=\"text-align: right;\">\n",
       "      <th></th>\n",
       "      <th>Col1</th>\n",
       "      <th>Col2</th>\n",
       "      <th>Col3</th>\n",
       "    </tr>\n",
       "  </thead>\n",
       "  <tbody>\n",
       "    <tr>\n",
       "      <th>A</th>\n",
       "      <td>0.653927</td>\n",
       "      <td>-0.088211</td>\n",
       "      <td>-0.737081</td>\n",
       "    </tr>\n",
       "    <tr>\n",
       "      <th>B</th>\n",
       "      <td>NaN</td>\n",
       "      <td>NaN</td>\n",
       "      <td>NaN</td>\n",
       "    </tr>\n",
       "    <tr>\n",
       "      <th>C</th>\n",
       "      <td>NaN</td>\n",
       "      <td>NaN</td>\n",
       "      <td>NaN</td>\n",
       "    </tr>\n",
       "    <tr>\n",
       "      <th>D</th>\n",
       "      <td>NaN</td>\n",
       "      <td>NaN</td>\n",
       "      <td>NaN</td>\n",
       "    </tr>\n",
       "    <tr>\n",
       "      <th>E</th>\n",
       "      <td>-1.396726</td>\n",
       "      <td>0.619634</td>\n",
       "      <td>-1.635182</td>\n",
       "    </tr>\n",
       "    <tr>\n",
       "      <th>F</th>\n",
       "      <td>-1.743105</td>\n",
       "      <td>-0.055153</td>\n",
       "      <td>0.461088</td>\n",
       "    </tr>\n",
       "    <tr>\n",
       "      <th>G</th>\n",
       "      <td>-1.879650</td>\n",
       "      <td>-0.450106</td>\n",
       "      <td>-0.096780</td>\n",
       "    </tr>\n",
       "    <tr>\n",
       "      <th>H</th>\n",
       "      <td>-0.500005</td>\n",
       "      <td>0.349774</td>\n",
       "      <td>-0.438815</td>\n",
       "    </tr>\n",
       "  </tbody>\n",
       "</table>\n",
       "</div>"
      ],
      "text/plain": [
       "       Col1      Col2      Col3\n",
       "A  0.653927 -0.088211 -0.737081\n",
       "B       NaN       NaN       NaN\n",
       "C       NaN       NaN       NaN\n",
       "D       NaN       NaN       NaN\n",
       "E -1.396726  0.619634 -1.635182\n",
       "F -1.743105 -0.055153  0.461088\n",
       "G -1.879650 -0.450106 -0.096780\n",
       "H -0.500005  0.349774 -0.438815"
      ]
     },
     "execution_count": 113,
     "metadata": {},
     "output_type": "execute_result"
    }
   ],
   "source": [
    "df"
   ]
  },
  {
   "cell_type": "markdown",
   "id": "76fc877b",
   "metadata": {},
   "source": [
    "# fillna()   \n",
    "It will fill all the NaN values"
   ]
  },
  {
   "cell_type": "code",
   "execution_count": 115,
   "id": "4c949b9c",
   "metadata": {},
   "outputs": [
    {
     "data": {
      "text/html": [
       "<div>\n",
       "<style scoped>\n",
       "    .dataframe tbody tr th:only-of-type {\n",
       "        vertical-align: middle;\n",
       "    }\n",
       "\n",
       "    .dataframe tbody tr th {\n",
       "        vertical-align: top;\n",
       "    }\n",
       "\n",
       "    .dataframe thead th {\n",
       "        text-align: right;\n",
       "    }\n",
       "</style>\n",
       "<table border=\"1\" class=\"dataframe\">\n",
       "  <thead>\n",
       "    <tr style=\"text-align: right;\">\n",
       "      <th></th>\n",
       "      <th>Col1</th>\n",
       "      <th>Col2</th>\n",
       "      <th>Col3</th>\n",
       "    </tr>\n",
       "  </thead>\n",
       "  <tbody>\n",
       "    <tr>\n",
       "      <th>A</th>\n",
       "      <td>0.653927</td>\n",
       "      <td>-0.088211</td>\n",
       "      <td>-0.737081</td>\n",
       "    </tr>\n",
       "    <tr>\n",
       "      <th>B</th>\n",
       "      <td>0.000000</td>\n",
       "      <td>0.000000</td>\n",
       "      <td>0.000000</td>\n",
       "    </tr>\n",
       "    <tr>\n",
       "      <th>C</th>\n",
       "      <td>0.000000</td>\n",
       "      <td>0.000000</td>\n",
       "      <td>0.000000</td>\n",
       "    </tr>\n",
       "    <tr>\n",
       "      <th>D</th>\n",
       "      <td>0.000000</td>\n",
       "      <td>0.000000</td>\n",
       "      <td>0.000000</td>\n",
       "    </tr>\n",
       "    <tr>\n",
       "      <th>E</th>\n",
       "      <td>-1.396726</td>\n",
       "      <td>0.619634</td>\n",
       "      <td>-1.635182</td>\n",
       "    </tr>\n",
       "    <tr>\n",
       "      <th>F</th>\n",
       "      <td>-1.743105</td>\n",
       "      <td>-0.055153</td>\n",
       "      <td>0.461088</td>\n",
       "    </tr>\n",
       "    <tr>\n",
       "      <th>G</th>\n",
       "      <td>-1.879650</td>\n",
       "      <td>-0.450106</td>\n",
       "      <td>-0.096780</td>\n",
       "    </tr>\n",
       "    <tr>\n",
       "      <th>H</th>\n",
       "      <td>-0.500005</td>\n",
       "      <td>0.349774</td>\n",
       "      <td>-0.438815</td>\n",
       "    </tr>\n",
       "  </tbody>\n",
       "</table>\n",
       "</div>"
      ],
      "text/plain": [
       "       Col1      Col2      Col3\n",
       "A  0.653927 -0.088211 -0.737081\n",
       "B  0.000000  0.000000  0.000000\n",
       "C  0.000000  0.000000  0.000000\n",
       "D  0.000000  0.000000  0.000000\n",
       "E -1.396726  0.619634 -1.635182\n",
       "F -1.743105 -0.055153  0.461088\n",
       "G -1.879650 -0.450106 -0.096780\n",
       "H -0.500005  0.349774 -0.438815"
      ]
     },
     "execution_count": 115,
     "metadata": {},
     "output_type": "execute_result"
    }
   ],
   "source": [
    "df.fillna(0)"
   ]
  },
  {
   "cell_type": "code",
   "execution_count": 116,
   "id": "3b611735",
   "metadata": {},
   "outputs": [
    {
     "data": {
      "text/html": [
       "<div>\n",
       "<style scoped>\n",
       "    .dataframe tbody tr th:only-of-type {\n",
       "        vertical-align: middle;\n",
       "    }\n",
       "\n",
       "    .dataframe tbody tr th {\n",
       "        vertical-align: top;\n",
       "    }\n",
       "\n",
       "    .dataframe thead th {\n",
       "        text-align: right;\n",
       "    }\n",
       "</style>\n",
       "<table border=\"1\" class=\"dataframe\">\n",
       "  <thead>\n",
       "    <tr style=\"text-align: right;\">\n",
       "      <th></th>\n",
       "      <th>Col1</th>\n",
       "      <th>Col2</th>\n",
       "      <th>Col3</th>\n",
       "    </tr>\n",
       "  </thead>\n",
       "  <tbody>\n",
       "    <tr>\n",
       "      <th>A</th>\n",
       "      <td>0.653927</td>\n",
       "      <td>-0.088211</td>\n",
       "      <td>-0.737081</td>\n",
       "    </tr>\n",
       "    <tr>\n",
       "      <th>B</th>\n",
       "      <td>0.000000</td>\n",
       "      <td>0.000000</td>\n",
       "      <td>0.000000</td>\n",
       "    </tr>\n",
       "    <tr>\n",
       "      <th>C</th>\n",
       "      <td>0.000000</td>\n",
       "      <td>0.000000</td>\n",
       "      <td>0.000000</td>\n",
       "    </tr>\n",
       "    <tr>\n",
       "      <th>D</th>\n",
       "      <td>0.000000</td>\n",
       "      <td>0.000000</td>\n",
       "      <td>0.000000</td>\n",
       "    </tr>\n",
       "    <tr>\n",
       "      <th>E</th>\n",
       "      <td>-1.396726</td>\n",
       "      <td>0.619634</td>\n",
       "      <td>-1.635182</td>\n",
       "    </tr>\n",
       "    <tr>\n",
       "      <th>F</th>\n",
       "      <td>-1.743105</td>\n",
       "      <td>-0.055153</td>\n",
       "      <td>0.461088</td>\n",
       "    </tr>\n",
       "    <tr>\n",
       "      <th>G</th>\n",
       "      <td>-1.879650</td>\n",
       "      <td>-0.450106</td>\n",
       "      <td>-0.096780</td>\n",
       "    </tr>\n",
       "    <tr>\n",
       "      <th>H</th>\n",
       "      <td>-0.500005</td>\n",
       "      <td>0.349774</td>\n",
       "      <td>-0.438815</td>\n",
       "    </tr>\n",
       "  </tbody>\n",
       "</table>\n",
       "</div>"
      ],
      "text/plain": [
       "       Col1      Col2      Col3\n",
       "A  0.653927 -0.088211 -0.737081\n",
       "B  0.000000  0.000000  0.000000\n",
       "C  0.000000  0.000000  0.000000\n",
       "D  0.000000  0.000000  0.000000\n",
       "E -1.396726  0.619634 -1.635182\n",
       "F -1.743105 -0.055153  0.461088\n",
       "G -1.879650 -0.450106 -0.096780\n",
       "H -0.500005  0.349774 -0.438815"
      ]
     },
     "execution_count": 116,
     "metadata": {},
     "output_type": "execute_result"
    }
   ],
   "source": [
    "df.fillna(0)  #<- It will fill all the NaN values with 0\n",
    "# It is just temporary change"
   ]
  },
  {
   "cell_type": "code",
   "execution_count": 117,
   "id": "a7993f5f",
   "metadata": {},
   "outputs": [
    {
     "data": {
      "text/html": [
       "<div>\n",
       "<style scoped>\n",
       "    .dataframe tbody tr th:only-of-type {\n",
       "        vertical-align: middle;\n",
       "    }\n",
       "\n",
       "    .dataframe tbody tr th {\n",
       "        vertical-align: top;\n",
       "    }\n",
       "\n",
       "    .dataframe thead th {\n",
       "        text-align: right;\n",
       "    }\n",
       "</style>\n",
       "<table border=\"1\" class=\"dataframe\">\n",
       "  <thead>\n",
       "    <tr style=\"text-align: right;\">\n",
       "      <th></th>\n",
       "      <th>Col1</th>\n",
       "      <th>Col2</th>\n",
       "      <th>Col3</th>\n",
       "    </tr>\n",
       "  </thead>\n",
       "  <tbody>\n",
       "    <tr>\n",
       "      <th>A</th>\n",
       "      <td>0.653927</td>\n",
       "      <td>-0.088211</td>\n",
       "      <td>-0.737081</td>\n",
       "    </tr>\n",
       "    <tr>\n",
       "      <th>B</th>\n",
       "      <td>10.000000</td>\n",
       "      <td>10.000000</td>\n",
       "      <td>10.000000</td>\n",
       "    </tr>\n",
       "    <tr>\n",
       "      <th>C</th>\n",
       "      <td>10.000000</td>\n",
       "      <td>10.000000</td>\n",
       "      <td>10.000000</td>\n",
       "    </tr>\n",
       "    <tr>\n",
       "      <th>D</th>\n",
       "      <td>10.000000</td>\n",
       "      <td>10.000000</td>\n",
       "      <td>10.000000</td>\n",
       "    </tr>\n",
       "    <tr>\n",
       "      <th>E</th>\n",
       "      <td>-1.396726</td>\n",
       "      <td>0.619634</td>\n",
       "      <td>-1.635182</td>\n",
       "    </tr>\n",
       "    <tr>\n",
       "      <th>F</th>\n",
       "      <td>-1.743105</td>\n",
       "      <td>-0.055153</td>\n",
       "      <td>0.461088</td>\n",
       "    </tr>\n",
       "    <tr>\n",
       "      <th>G</th>\n",
       "      <td>-1.879650</td>\n",
       "      <td>-0.450106</td>\n",
       "      <td>-0.096780</td>\n",
       "    </tr>\n",
       "    <tr>\n",
       "      <th>H</th>\n",
       "      <td>-0.500005</td>\n",
       "      <td>0.349774</td>\n",
       "      <td>-0.438815</td>\n",
       "    </tr>\n",
       "  </tbody>\n",
       "</table>\n",
       "</div>"
      ],
      "text/plain": [
       "        Col1       Col2       Col3\n",
       "A   0.653927  -0.088211  -0.737081\n",
       "B  10.000000  10.000000  10.000000\n",
       "C  10.000000  10.000000  10.000000\n",
       "D  10.000000  10.000000  10.000000\n",
       "E  -1.396726   0.619634  -1.635182\n",
       "F  -1.743105  -0.055153   0.461088\n",
       "G  -1.879650  -0.450106  -0.096780\n",
       "H  -0.500005   0.349774  -0.438815"
      ]
     },
     "execution_count": 117,
     "metadata": {},
     "output_type": "execute_result"
    }
   ],
   "source": [
    "df.fillna(10)"
   ]
  },
  {
   "cell_type": "code",
   "execution_count": 119,
   "id": "793ed01b",
   "metadata": {},
   "outputs": [],
   "source": [
    "df.fillna(\"Hii\",inplace=True)   #<- you can also insert string using fillna method\n",
    "#this inplace=Tru method will permanently add the value at NAN place"
   ]
  },
  {
   "cell_type": "code",
   "execution_count": 121,
   "id": "82be9a8a",
   "metadata": {},
   "outputs": [
    {
     "data": {
      "text/html": [
       "<div>\n",
       "<style scoped>\n",
       "    .dataframe tbody tr th:only-of-type {\n",
       "        vertical-align: middle;\n",
       "    }\n",
       "\n",
       "    .dataframe tbody tr th {\n",
       "        vertical-align: top;\n",
       "    }\n",
       "\n",
       "    .dataframe thead th {\n",
       "        text-align: right;\n",
       "    }\n",
       "</style>\n",
       "<table border=\"1\" class=\"dataframe\">\n",
       "  <thead>\n",
       "    <tr style=\"text-align: right;\">\n",
       "      <th></th>\n",
       "      <th>Col1</th>\n",
       "      <th>Col2</th>\n",
       "      <th>Col3</th>\n",
       "    </tr>\n",
       "  </thead>\n",
       "  <tbody>\n",
       "    <tr>\n",
       "      <th>A</th>\n",
       "      <td>0.653927</td>\n",
       "      <td>-0.088211</td>\n",
       "      <td>-0.737081</td>\n",
       "    </tr>\n",
       "    <tr>\n",
       "      <th>B</th>\n",
       "      <td>Hii</td>\n",
       "      <td>Hii</td>\n",
       "      <td>Hii</td>\n",
       "    </tr>\n",
       "    <tr>\n",
       "      <th>C</th>\n",
       "      <td>Hii</td>\n",
       "      <td>Hii</td>\n",
       "      <td>Hii</td>\n",
       "    </tr>\n",
       "    <tr>\n",
       "      <th>D</th>\n",
       "      <td>Hii</td>\n",
       "      <td>Hii</td>\n",
       "      <td>Hii</td>\n",
       "    </tr>\n",
       "    <tr>\n",
       "      <th>E</th>\n",
       "      <td>-1.396726</td>\n",
       "      <td>0.619634</td>\n",
       "      <td>-1.635182</td>\n",
       "    </tr>\n",
       "    <tr>\n",
       "      <th>F</th>\n",
       "      <td>-1.743105</td>\n",
       "      <td>-0.055153</td>\n",
       "      <td>0.461088</td>\n",
       "    </tr>\n",
       "    <tr>\n",
       "      <th>G</th>\n",
       "      <td>-1.87965</td>\n",
       "      <td>-0.450106</td>\n",
       "      <td>-0.09678</td>\n",
       "    </tr>\n",
       "    <tr>\n",
       "      <th>H</th>\n",
       "      <td>-0.500005</td>\n",
       "      <td>0.349774</td>\n",
       "      <td>-0.438815</td>\n",
       "    </tr>\n",
       "  </tbody>\n",
       "</table>\n",
       "</div>"
      ],
      "text/plain": [
       "       Col1      Col2      Col3\n",
       "A  0.653927 -0.088211 -0.737081\n",
       "B       Hii       Hii       Hii\n",
       "C       Hii       Hii       Hii\n",
       "D       Hii       Hii       Hii\n",
       "E -1.396726  0.619634 -1.635182\n",
       "F -1.743105 -0.055153  0.461088\n",
       "G  -1.87965 -0.450106  -0.09678\n",
       "H -0.500005  0.349774 -0.438815"
      ]
     },
     "execution_count": 121,
     "metadata": {},
     "output_type": "execute_result"
    }
   ],
   "source": [
    "df"
   ]
  },
  {
   "cell_type": "code",
   "execution_count": 122,
   "id": "f1b3bf5d",
   "metadata": {},
   "outputs": [],
   "source": [
    "df=pd.DataFrame(np.random.randn(6,3),index=[\"A\",\"B\",\"E\",\"F\",\"G\",\"H\"],columns=[\"col1\",\"col2\",\"col3\"])"
   ]
  },
  {
   "cell_type": "code",
   "execution_count": 123,
   "id": "4eed8e2b",
   "metadata": {},
   "outputs": [
    {
     "data": {
      "text/html": [
       "<div>\n",
       "<style scoped>\n",
       "    .dataframe tbody tr th:only-of-type {\n",
       "        vertical-align: middle;\n",
       "    }\n",
       "\n",
       "    .dataframe tbody tr th {\n",
       "        vertical-align: top;\n",
       "    }\n",
       "\n",
       "    .dataframe thead th {\n",
       "        text-align: right;\n",
       "    }\n",
       "</style>\n",
       "<table border=\"1\" class=\"dataframe\">\n",
       "  <thead>\n",
       "    <tr style=\"text-align: right;\">\n",
       "      <th></th>\n",
       "      <th>col1</th>\n",
       "      <th>col2</th>\n",
       "      <th>col3</th>\n",
       "    </tr>\n",
       "  </thead>\n",
       "  <tbody>\n",
       "    <tr>\n",
       "      <th>A</th>\n",
       "      <td>1.281079</td>\n",
       "      <td>0.367448</td>\n",
       "      <td>-1.281153</td>\n",
       "    </tr>\n",
       "    <tr>\n",
       "      <th>B</th>\n",
       "      <td>0.846867</td>\n",
       "      <td>-0.405940</td>\n",
       "      <td>-1.168294</td>\n",
       "    </tr>\n",
       "    <tr>\n",
       "      <th>E</th>\n",
       "      <td>-1.159418</td>\n",
       "      <td>0.444864</td>\n",
       "      <td>0.181723</td>\n",
       "    </tr>\n",
       "    <tr>\n",
       "      <th>F</th>\n",
       "      <td>0.544106</td>\n",
       "      <td>-0.838843</td>\n",
       "      <td>-0.558220</td>\n",
       "    </tr>\n",
       "    <tr>\n",
       "      <th>G</th>\n",
       "      <td>0.811257</td>\n",
       "      <td>0.756369</td>\n",
       "      <td>-0.108973</td>\n",
       "    </tr>\n",
       "    <tr>\n",
       "      <th>H</th>\n",
       "      <td>0.844488</td>\n",
       "      <td>-0.234484</td>\n",
       "      <td>0.987277</td>\n",
       "    </tr>\n",
       "  </tbody>\n",
       "</table>\n",
       "</div>"
      ],
      "text/plain": [
       "       col1      col2      col3\n",
       "A  1.281079  0.367448 -1.281153\n",
       "B  0.846867 -0.405940 -1.168294\n",
       "E -1.159418  0.444864  0.181723\n",
       "F  0.544106 -0.838843 -0.558220\n",
       "G  0.811257  0.756369 -0.108973\n",
       "H  0.844488 -0.234484  0.987277"
      ]
     },
     "execution_count": 123,
     "metadata": {},
     "output_type": "execute_result"
    }
   ],
   "source": [
    "df"
   ]
  },
  {
   "cell_type": "code",
   "execution_count": 128,
   "id": "1c8c7079",
   "metadata": {},
   "outputs": [],
   "source": [
    "df=df.reindex([\"A\",\"B\",\"C\",\"D\",\"E\",\"F\",\"G\",\"H\",\"I\"])"
   ]
  },
  {
   "cell_type": "code",
   "execution_count": 129,
   "id": "ea0b8edb",
   "metadata": {},
   "outputs": [
    {
     "data": {
      "text/html": [
       "<div>\n",
       "<style scoped>\n",
       "    .dataframe tbody tr th:only-of-type {\n",
       "        vertical-align: middle;\n",
       "    }\n",
       "\n",
       "    .dataframe tbody tr th {\n",
       "        vertical-align: top;\n",
       "    }\n",
       "\n",
       "    .dataframe thead th {\n",
       "        text-align: right;\n",
       "    }\n",
       "</style>\n",
       "<table border=\"1\" class=\"dataframe\">\n",
       "  <thead>\n",
       "    <tr style=\"text-align: right;\">\n",
       "      <th></th>\n",
       "      <th>col1</th>\n",
       "      <th>col2</th>\n",
       "      <th>col3</th>\n",
       "    </tr>\n",
       "  </thead>\n",
       "  <tbody>\n",
       "    <tr>\n",
       "      <th>A</th>\n",
       "      <td>1.281079</td>\n",
       "      <td>0.367448</td>\n",
       "      <td>-1.281153</td>\n",
       "    </tr>\n",
       "    <tr>\n",
       "      <th>B</th>\n",
       "      <td>0.846867</td>\n",
       "      <td>-0.405940</td>\n",
       "      <td>-1.168294</td>\n",
       "    </tr>\n",
       "    <tr>\n",
       "      <th>C</th>\n",
       "      <td>NaN</td>\n",
       "      <td>NaN</td>\n",
       "      <td>NaN</td>\n",
       "    </tr>\n",
       "    <tr>\n",
       "      <th>D</th>\n",
       "      <td>NaN</td>\n",
       "      <td>NaN</td>\n",
       "      <td>NaN</td>\n",
       "    </tr>\n",
       "    <tr>\n",
       "      <th>E</th>\n",
       "      <td>-1.159418</td>\n",
       "      <td>0.444864</td>\n",
       "      <td>0.181723</td>\n",
       "    </tr>\n",
       "    <tr>\n",
       "      <th>F</th>\n",
       "      <td>0.544106</td>\n",
       "      <td>-0.838843</td>\n",
       "      <td>-0.558220</td>\n",
       "    </tr>\n",
       "    <tr>\n",
       "      <th>G</th>\n",
       "      <td>0.811257</td>\n",
       "      <td>0.756369</td>\n",
       "      <td>-0.108973</td>\n",
       "    </tr>\n",
       "    <tr>\n",
       "      <th>H</th>\n",
       "      <td>0.844488</td>\n",
       "      <td>-0.234484</td>\n",
       "      <td>0.987277</td>\n",
       "    </tr>\n",
       "    <tr>\n",
       "      <th>I</th>\n",
       "      <td>NaN</td>\n",
       "      <td>NaN</td>\n",
       "      <td>NaN</td>\n",
       "    </tr>\n",
       "  </tbody>\n",
       "</table>\n",
       "</div>"
      ],
      "text/plain": [
       "       col1      col2      col3\n",
       "A  1.281079  0.367448 -1.281153\n",
       "B  0.846867 -0.405940 -1.168294\n",
       "C       NaN       NaN       NaN\n",
       "D       NaN       NaN       NaN\n",
       "E -1.159418  0.444864  0.181723\n",
       "F  0.544106 -0.838843 -0.558220\n",
       "G  0.811257  0.756369 -0.108973\n",
       "H  0.844488 -0.234484  0.987277\n",
       "I       NaN       NaN       NaN"
      ]
     },
     "execution_count": 129,
     "metadata": {},
     "output_type": "execute_result"
    }
   ],
   "source": [
    "df"
   ]
  },
  {
   "cell_type": "code",
   "execution_count": null,
   "id": "42fe9cd6",
   "metadata": {},
   "outputs": [],
   "source": []
  },
  {
   "cell_type": "code",
   "execution_count": null,
   "id": "4d363cb9",
   "metadata": {},
   "outputs": [],
   "source": [
    "#Forwward Method - pad/ffill\n",
    "#Backword Method - bfill/backfill"
   ]
  },
  {
   "cell_type": "code",
   "execution_count": 130,
   "id": "f63ded27",
   "metadata": {
    "scrolled": true
   },
   "outputs": [
    {
     "data": {
      "text/html": [
       "<div>\n",
       "<style scoped>\n",
       "    .dataframe tbody tr th:only-of-type {\n",
       "        vertical-align: middle;\n",
       "    }\n",
       "\n",
       "    .dataframe tbody tr th {\n",
       "        vertical-align: top;\n",
       "    }\n",
       "\n",
       "    .dataframe thead th {\n",
       "        text-align: right;\n",
       "    }\n",
       "</style>\n",
       "<table border=\"1\" class=\"dataframe\">\n",
       "  <thead>\n",
       "    <tr style=\"text-align: right;\">\n",
       "      <th></th>\n",
       "      <th>col1</th>\n",
       "      <th>col2</th>\n",
       "      <th>col3</th>\n",
       "    </tr>\n",
       "  </thead>\n",
       "  <tbody>\n",
       "    <tr>\n",
       "      <th>A</th>\n",
       "      <td>1.281079</td>\n",
       "      <td>0.367448</td>\n",
       "      <td>-1.281153</td>\n",
       "    </tr>\n",
       "    <tr>\n",
       "      <th>B</th>\n",
       "      <td>0.846867</td>\n",
       "      <td>-0.405940</td>\n",
       "      <td>-1.168294</td>\n",
       "    </tr>\n",
       "    <tr>\n",
       "      <th>C</th>\n",
       "      <td>NaN</td>\n",
       "      <td>NaN</td>\n",
       "      <td>NaN</td>\n",
       "    </tr>\n",
       "    <tr>\n",
       "      <th>D</th>\n",
       "      <td>NaN</td>\n",
       "      <td>NaN</td>\n",
       "      <td>NaN</td>\n",
       "    </tr>\n",
       "    <tr>\n",
       "      <th>E</th>\n",
       "      <td>-1.159418</td>\n",
       "      <td>0.444864</td>\n",
       "      <td>0.181723</td>\n",
       "    </tr>\n",
       "    <tr>\n",
       "      <th>F</th>\n",
       "      <td>0.544106</td>\n",
       "      <td>-0.838843</td>\n",
       "      <td>-0.558220</td>\n",
       "    </tr>\n",
       "    <tr>\n",
       "      <th>G</th>\n",
       "      <td>0.811257</td>\n",
       "      <td>0.756369</td>\n",
       "      <td>-0.108973</td>\n",
       "    </tr>\n",
       "    <tr>\n",
       "      <th>H</th>\n",
       "      <td>0.844488</td>\n",
       "      <td>-0.234484</td>\n",
       "      <td>0.987277</td>\n",
       "    </tr>\n",
       "    <tr>\n",
       "      <th>I</th>\n",
       "      <td>NaN</td>\n",
       "      <td>NaN</td>\n",
       "      <td>NaN</td>\n",
       "    </tr>\n",
       "  </tbody>\n",
       "</table>\n",
       "</div>"
      ],
      "text/plain": [
       "       col1      col2      col3\n",
       "A  1.281079  0.367448 -1.281153\n",
       "B  0.846867 -0.405940 -1.168294\n",
       "C       NaN       NaN       NaN\n",
       "D       NaN       NaN       NaN\n",
       "E -1.159418  0.444864  0.181723\n",
       "F  0.544106 -0.838843 -0.558220\n",
       "G  0.811257  0.756369 -0.108973\n",
       "H  0.844488 -0.234484  0.987277\n",
       "I       NaN       NaN       NaN"
      ]
     },
     "execution_count": 130,
     "metadata": {},
     "output_type": "execute_result"
    }
   ],
   "source": [
    "df"
   ]
  },
  {
   "cell_type": "code",
   "execution_count": 132,
   "id": "74e565f8",
   "metadata": {},
   "outputs": [
    {
     "data": {
      "text/html": [
       "<div>\n",
       "<style scoped>\n",
       "    .dataframe tbody tr th:only-of-type {\n",
       "        vertical-align: middle;\n",
       "    }\n",
       "\n",
       "    .dataframe tbody tr th {\n",
       "        vertical-align: top;\n",
       "    }\n",
       "\n",
       "    .dataframe thead th {\n",
       "        text-align: right;\n",
       "    }\n",
       "</style>\n",
       "<table border=\"1\" class=\"dataframe\">\n",
       "  <thead>\n",
       "    <tr style=\"text-align: right;\">\n",
       "      <th></th>\n",
       "      <th>col1</th>\n",
       "      <th>col2</th>\n",
       "      <th>col3</th>\n",
       "    </tr>\n",
       "  </thead>\n",
       "  <tbody>\n",
       "    <tr>\n",
       "      <th>A</th>\n",
       "      <td>1.281079</td>\n",
       "      <td>0.367448</td>\n",
       "      <td>-1.281153</td>\n",
       "    </tr>\n",
       "    <tr>\n",
       "      <th>B</th>\n",
       "      <td>0.846867</td>\n",
       "      <td>-0.405940</td>\n",
       "      <td>-1.168294</td>\n",
       "    </tr>\n",
       "    <tr>\n",
       "      <th>C</th>\n",
       "      <td>0.846867</td>\n",
       "      <td>-0.405940</td>\n",
       "      <td>-1.168294</td>\n",
       "    </tr>\n",
       "    <tr>\n",
       "      <th>D</th>\n",
       "      <td>0.846867</td>\n",
       "      <td>-0.405940</td>\n",
       "      <td>-1.168294</td>\n",
       "    </tr>\n",
       "    <tr>\n",
       "      <th>E</th>\n",
       "      <td>-1.159418</td>\n",
       "      <td>0.444864</td>\n",
       "      <td>0.181723</td>\n",
       "    </tr>\n",
       "    <tr>\n",
       "      <th>F</th>\n",
       "      <td>0.544106</td>\n",
       "      <td>-0.838843</td>\n",
       "      <td>-0.558220</td>\n",
       "    </tr>\n",
       "    <tr>\n",
       "      <th>G</th>\n",
       "      <td>0.811257</td>\n",
       "      <td>0.756369</td>\n",
       "      <td>-0.108973</td>\n",
       "    </tr>\n",
       "    <tr>\n",
       "      <th>H</th>\n",
       "      <td>0.844488</td>\n",
       "      <td>-0.234484</td>\n",
       "      <td>0.987277</td>\n",
       "    </tr>\n",
       "    <tr>\n",
       "      <th>I</th>\n",
       "      <td>0.844488</td>\n",
       "      <td>-0.234484</td>\n",
       "      <td>0.987277</td>\n",
       "    </tr>\n",
       "  </tbody>\n",
       "</table>\n",
       "</div>"
      ],
      "text/plain": [
       "       col1      col2      col3\n",
       "A  1.281079  0.367448 -1.281153\n",
       "B  0.846867 -0.405940 -1.168294\n",
       "C  0.846867 -0.405940 -1.168294\n",
       "D  0.846867 -0.405940 -1.168294\n",
       "E -1.159418  0.444864  0.181723\n",
       "F  0.544106 -0.838843 -0.558220\n",
       "G  0.811257  0.756369 -0.108973\n",
       "H  0.844488 -0.234484  0.987277\n",
       "I  0.844488 -0.234484  0.987277"
      ]
     },
     "execution_count": 132,
     "metadata": {},
     "output_type": "execute_result"
    }
   ],
   "source": [
    "df.fillna(method=\"pad\")  #<- It will give the same value as above line of NaN have\n",
    "#or you can write df.fillna(method=\"ffill\")"
   ]
  },
  {
   "cell_type": "code",
   "execution_count": 135,
   "id": "2758ea92",
   "metadata": {
    "scrolled": true
   },
   "outputs": [
    {
     "data": {
      "text/html": [
       "<div>\n",
       "<style scoped>\n",
       "    .dataframe tbody tr th:only-of-type {\n",
       "        vertical-align: middle;\n",
       "    }\n",
       "\n",
       "    .dataframe tbody tr th {\n",
       "        vertical-align: top;\n",
       "    }\n",
       "\n",
       "    .dataframe thead th {\n",
       "        text-align: right;\n",
       "    }\n",
       "</style>\n",
       "<table border=\"1\" class=\"dataframe\">\n",
       "  <thead>\n",
       "    <tr style=\"text-align: right;\">\n",
       "      <th></th>\n",
       "      <th>col1</th>\n",
       "      <th>col2</th>\n",
       "      <th>col3</th>\n",
       "    </tr>\n",
       "  </thead>\n",
       "  <tbody>\n",
       "    <tr>\n",
       "      <th>A</th>\n",
       "      <td>1.281079</td>\n",
       "      <td>0.367448</td>\n",
       "      <td>-1.281153</td>\n",
       "    </tr>\n",
       "    <tr>\n",
       "      <th>B</th>\n",
       "      <td>0.846867</td>\n",
       "      <td>-0.405940</td>\n",
       "      <td>-1.168294</td>\n",
       "    </tr>\n",
       "    <tr>\n",
       "      <th>C</th>\n",
       "      <td>-1.159418</td>\n",
       "      <td>0.444864</td>\n",
       "      <td>0.181723</td>\n",
       "    </tr>\n",
       "    <tr>\n",
       "      <th>D</th>\n",
       "      <td>-1.159418</td>\n",
       "      <td>0.444864</td>\n",
       "      <td>0.181723</td>\n",
       "    </tr>\n",
       "    <tr>\n",
       "      <th>E</th>\n",
       "      <td>-1.159418</td>\n",
       "      <td>0.444864</td>\n",
       "      <td>0.181723</td>\n",
       "    </tr>\n",
       "    <tr>\n",
       "      <th>F</th>\n",
       "      <td>0.544106</td>\n",
       "      <td>-0.838843</td>\n",
       "      <td>-0.558220</td>\n",
       "    </tr>\n",
       "    <tr>\n",
       "      <th>G</th>\n",
       "      <td>0.811257</td>\n",
       "      <td>0.756369</td>\n",
       "      <td>-0.108973</td>\n",
       "    </tr>\n",
       "    <tr>\n",
       "      <th>H</th>\n",
       "      <td>0.844488</td>\n",
       "      <td>-0.234484</td>\n",
       "      <td>0.987277</td>\n",
       "    </tr>\n",
       "    <tr>\n",
       "      <th>I</th>\n",
       "      <td>NaN</td>\n",
       "      <td>NaN</td>\n",
       "      <td>NaN</td>\n",
       "    </tr>\n",
       "  </tbody>\n",
       "</table>\n",
       "</div>"
      ],
      "text/plain": [
       "       col1      col2      col3\n",
       "A  1.281079  0.367448 -1.281153\n",
       "B  0.846867 -0.405940 -1.168294\n",
       "C -1.159418  0.444864  0.181723\n",
       "D -1.159418  0.444864  0.181723\n",
       "E -1.159418  0.444864  0.181723\n",
       "F  0.544106 -0.838843 -0.558220\n",
       "G  0.811257  0.756369 -0.108973\n",
       "H  0.844488 -0.234484  0.987277\n",
       "I       NaN       NaN       NaN"
      ]
     },
     "execution_count": 135,
     "metadata": {},
     "output_type": "execute_result"
    }
   ],
   "source": [
    "df.fillna(method=\"bfill\")  #<- it will take the values of below row of NaN values\n",
    "#or you can write df.fillna(method=\"backfill\")"
   ]
  },
  {
   "cell_type": "code",
   "execution_count": 145,
   "id": "be71b1f0",
   "metadata": {
    "scrolled": true
   },
   "outputs": [],
   "source": [
    "df.loc[\"C\"][0] = 5"
   ]
  },
  {
   "cell_type": "code",
   "execution_count": 146,
   "id": "cf2b5558",
   "metadata": {},
   "outputs": [
    {
     "data": {
      "text/html": [
       "<div>\n",
       "<style scoped>\n",
       "    .dataframe tbody tr th:only-of-type {\n",
       "        vertical-align: middle;\n",
       "    }\n",
       "\n",
       "    .dataframe tbody tr th {\n",
       "        vertical-align: top;\n",
       "    }\n",
       "\n",
       "    .dataframe thead th {\n",
       "        text-align: right;\n",
       "    }\n",
       "</style>\n",
       "<table border=\"1\" class=\"dataframe\">\n",
       "  <thead>\n",
       "    <tr style=\"text-align: right;\">\n",
       "      <th></th>\n",
       "      <th>col1</th>\n",
       "      <th>col2</th>\n",
       "      <th>col3</th>\n",
       "    </tr>\n",
       "  </thead>\n",
       "  <tbody>\n",
       "    <tr>\n",
       "      <th>A</th>\n",
       "      <td>1.281079</td>\n",
       "      <td>0.367448</td>\n",
       "      <td>-1.281153</td>\n",
       "    </tr>\n",
       "    <tr>\n",
       "      <th>B</th>\n",
       "      <td>0.846867</td>\n",
       "      <td>-0.405940</td>\n",
       "      <td>-1.168294</td>\n",
       "    </tr>\n",
       "    <tr>\n",
       "      <th>C</th>\n",
       "      <td>5.000000</td>\n",
       "      <td>NaN</td>\n",
       "      <td>NaN</td>\n",
       "    </tr>\n",
       "    <tr>\n",
       "      <th>D</th>\n",
       "      <td>NaN</td>\n",
       "      <td>NaN</td>\n",
       "      <td>NaN</td>\n",
       "    </tr>\n",
       "    <tr>\n",
       "      <th>E</th>\n",
       "      <td>-1.159418</td>\n",
       "      <td>0.444864</td>\n",
       "      <td>0.181723</td>\n",
       "    </tr>\n",
       "    <tr>\n",
       "      <th>F</th>\n",
       "      <td>0.544106</td>\n",
       "      <td>-0.838843</td>\n",
       "      <td>-0.558220</td>\n",
       "    </tr>\n",
       "    <tr>\n",
       "      <th>G</th>\n",
       "      <td>0.811257</td>\n",
       "      <td>0.756369</td>\n",
       "      <td>-0.108973</td>\n",
       "    </tr>\n",
       "    <tr>\n",
       "      <th>H</th>\n",
       "      <td>0.844488</td>\n",
       "      <td>-0.234484</td>\n",
       "      <td>0.987277</td>\n",
       "    </tr>\n",
       "    <tr>\n",
       "      <th>I</th>\n",
       "      <td>NaN</td>\n",
       "      <td>NaN</td>\n",
       "      <td>NaN</td>\n",
       "    </tr>\n",
       "  </tbody>\n",
       "</table>\n",
       "</div>"
      ],
      "text/plain": [
       "       col1      col2      col3\n",
       "A  1.281079  0.367448 -1.281153\n",
       "B  0.846867 -0.405940 -1.168294\n",
       "C  5.000000       NaN       NaN\n",
       "D       NaN       NaN       NaN\n",
       "E -1.159418  0.444864  0.181723\n",
       "F  0.544106 -0.838843 -0.558220\n",
       "G  0.811257  0.756369 -0.108973\n",
       "H  0.844488 -0.234484  0.987277\n",
       "I       NaN       NaN       NaN"
      ]
     },
     "execution_count": 146,
     "metadata": {},
     "output_type": "execute_result"
    }
   ],
   "source": [
    "df"
   ]
  },
  {
   "cell_type": "code",
   "execution_count": 147,
   "id": "f7279131",
   "metadata": {
    "scrolled": true
   },
   "outputs": [
    {
     "data": {
      "text/html": [
       "<div>\n",
       "<style scoped>\n",
       "    .dataframe tbody tr th:only-of-type {\n",
       "        vertical-align: middle;\n",
       "    }\n",
       "\n",
       "    .dataframe tbody tr th {\n",
       "        vertical-align: top;\n",
       "    }\n",
       "\n",
       "    .dataframe thead th {\n",
       "        text-align: right;\n",
       "    }\n",
       "</style>\n",
       "<table border=\"1\" class=\"dataframe\">\n",
       "  <thead>\n",
       "    <tr style=\"text-align: right;\">\n",
       "      <th></th>\n",
       "      <th>col1</th>\n",
       "      <th>col2</th>\n",
       "      <th>col3</th>\n",
       "    </tr>\n",
       "  </thead>\n",
       "  <tbody>\n",
       "    <tr>\n",
       "      <th>A</th>\n",
       "      <td>1.281079</td>\n",
       "      <td>0.367448</td>\n",
       "      <td>-1.281153</td>\n",
       "    </tr>\n",
       "    <tr>\n",
       "      <th>B</th>\n",
       "      <td>0.846867</td>\n",
       "      <td>-0.405940</td>\n",
       "      <td>-1.168294</td>\n",
       "    </tr>\n",
       "    <tr>\n",
       "      <th>C</th>\n",
       "      <td>5.000000</td>\n",
       "      <td>5.000000</td>\n",
       "      <td>5.000000</td>\n",
       "    </tr>\n",
       "    <tr>\n",
       "      <th>D</th>\n",
       "      <td>NaN</td>\n",
       "      <td>NaN</td>\n",
       "      <td>NaN</td>\n",
       "    </tr>\n",
       "    <tr>\n",
       "      <th>E</th>\n",
       "      <td>-1.159418</td>\n",
       "      <td>0.444864</td>\n",
       "      <td>0.181723</td>\n",
       "    </tr>\n",
       "    <tr>\n",
       "      <th>F</th>\n",
       "      <td>0.544106</td>\n",
       "      <td>-0.838843</td>\n",
       "      <td>-0.558220</td>\n",
       "    </tr>\n",
       "    <tr>\n",
       "      <th>G</th>\n",
       "      <td>0.811257</td>\n",
       "      <td>0.756369</td>\n",
       "      <td>-0.108973</td>\n",
       "    </tr>\n",
       "    <tr>\n",
       "      <th>H</th>\n",
       "      <td>0.844488</td>\n",
       "      <td>-0.234484</td>\n",
       "      <td>0.987277</td>\n",
       "    </tr>\n",
       "    <tr>\n",
       "      <th>I</th>\n",
       "      <td>NaN</td>\n",
       "      <td>NaN</td>\n",
       "      <td>NaN</td>\n",
       "    </tr>\n",
       "  </tbody>\n",
       "</table>\n",
       "</div>"
      ],
      "text/plain": [
       "       col1      col2      col3\n",
       "A  1.281079  0.367448 -1.281153\n",
       "B  0.846867 -0.405940 -1.168294\n",
       "C  5.000000  5.000000  5.000000\n",
       "D       NaN       NaN       NaN\n",
       "E -1.159418  0.444864  0.181723\n",
       "F  0.544106 -0.838843 -0.558220\n",
       "G  0.811257  0.756369 -0.108973\n",
       "H  0.844488 -0.234484  0.987277\n",
       "I       NaN       NaN       NaN"
      ]
     },
     "execution_count": 147,
     "metadata": {},
     "output_type": "execute_result"
    }
   ],
   "source": [
    "df.fillna(method=\"pad\",axis=1)  #<- The previous value of column is NaN, so upcoming next column value in same row will be also NaN\n",
    "# It will fill from row"
   ]
  },
  {
   "cell_type": "code",
   "execution_count": 149,
   "id": "c666521a",
   "metadata": {},
   "outputs": [
    {
     "data": {
      "text/html": [
       "<div>\n",
       "<style scoped>\n",
       "    .dataframe tbody tr th:only-of-type {\n",
       "        vertical-align: middle;\n",
       "    }\n",
       "\n",
       "    .dataframe tbody tr th {\n",
       "        vertical-align: top;\n",
       "    }\n",
       "\n",
       "    .dataframe thead th {\n",
       "        text-align: right;\n",
       "    }\n",
       "</style>\n",
       "<table border=\"1\" class=\"dataframe\">\n",
       "  <thead>\n",
       "    <tr style=\"text-align: right;\">\n",
       "      <th></th>\n",
       "      <th>col1</th>\n",
       "      <th>col2</th>\n",
       "      <th>col3</th>\n",
       "    </tr>\n",
       "  </thead>\n",
       "  <tbody>\n",
       "    <tr>\n",
       "      <th>A</th>\n",
       "      <td>1.281079</td>\n",
       "      <td>0.367448</td>\n",
       "      <td>-1.281153</td>\n",
       "    </tr>\n",
       "    <tr>\n",
       "      <th>B</th>\n",
       "      <td>0.846867</td>\n",
       "      <td>-0.405940</td>\n",
       "      <td>-1.168294</td>\n",
       "    </tr>\n",
       "    <tr>\n",
       "      <th>C</th>\n",
       "      <td>5.000000</td>\n",
       "      <td>NaN</td>\n",
       "      <td>NaN</td>\n",
       "    </tr>\n",
       "    <tr>\n",
       "      <th>D</th>\n",
       "      <td>NaN</td>\n",
       "      <td>NaN</td>\n",
       "      <td>NaN</td>\n",
       "    </tr>\n",
       "    <tr>\n",
       "      <th>E</th>\n",
       "      <td>-1.159418</td>\n",
       "      <td>0.444864</td>\n",
       "      <td>0.181723</td>\n",
       "    </tr>\n",
       "    <tr>\n",
       "      <th>F</th>\n",
       "      <td>0.544106</td>\n",
       "      <td>-0.838843</td>\n",
       "      <td>-0.558220</td>\n",
       "    </tr>\n",
       "    <tr>\n",
       "      <th>G</th>\n",
       "      <td>0.811257</td>\n",
       "      <td>0.756369</td>\n",
       "      <td>-0.108973</td>\n",
       "    </tr>\n",
       "    <tr>\n",
       "      <th>H</th>\n",
       "      <td>0.844488</td>\n",
       "      <td>-0.234484</td>\n",
       "      <td>0.987277</td>\n",
       "    </tr>\n",
       "    <tr>\n",
       "      <th>I</th>\n",
       "      <td>NaN</td>\n",
       "      <td>NaN</td>\n",
       "      <td>NaN</td>\n",
       "    </tr>\n",
       "  </tbody>\n",
       "</table>\n",
       "</div>"
      ],
      "text/plain": [
       "       col1      col2      col3\n",
       "A  1.281079  0.367448 -1.281153\n",
       "B  0.846867 -0.405940 -1.168294\n",
       "C  5.000000       NaN       NaN\n",
       "D       NaN       NaN       NaN\n",
       "E -1.159418  0.444864  0.181723\n",
       "F  0.544106 -0.838843 -0.558220\n",
       "G  0.811257  0.756369 -0.108973\n",
       "H  0.844488 -0.234484  0.987277\n",
       "I       NaN       NaN       NaN"
      ]
     },
     "execution_count": 149,
     "metadata": {},
     "output_type": "execute_result"
    }
   ],
   "source": [
    "df.fillna(method=\"bfill\",axis=1)   #<- it will take the value from the next column and since the next column has also NaN value, then it will also remain NaN"
   ]
  },
  {
   "cell_type": "code",
   "execution_count": null,
   "id": "47119205",
   "metadata": {},
   "outputs": [],
   "source": []
  },
  {
   "cell_type": "code",
   "execution_count": null,
   "id": "768b90fa",
   "metadata": {},
   "outputs": [],
   "source": []
  },
  {
   "cell_type": "markdown",
   "id": "45db4427",
   "metadata": {},
   "source": [
    "# dropna()\n",
    "It will drop all that row which contain the NaN value\n",
    "Most offly Never try to drop any data bcoz it will reduce the efficiency of our data analyzing"
   ]
  },
  {
   "cell_type": "code",
   "execution_count": null,
   "id": "051a4983",
   "metadata": {},
   "outputs": [],
   "source": [
    "the more will be data, the more will be accuracy and efficiency"
   ]
  },
  {
   "cell_type": "code",
   "execution_count": 150,
   "id": "9b996452",
   "metadata": {},
   "outputs": [
    {
     "data": {
      "text/html": [
       "<div>\n",
       "<style scoped>\n",
       "    .dataframe tbody tr th:only-of-type {\n",
       "        vertical-align: middle;\n",
       "    }\n",
       "\n",
       "    .dataframe tbody tr th {\n",
       "        vertical-align: top;\n",
       "    }\n",
       "\n",
       "    .dataframe thead th {\n",
       "        text-align: right;\n",
       "    }\n",
       "</style>\n",
       "<table border=\"1\" class=\"dataframe\">\n",
       "  <thead>\n",
       "    <tr style=\"text-align: right;\">\n",
       "      <th></th>\n",
       "      <th>col1</th>\n",
       "      <th>col2</th>\n",
       "      <th>col3</th>\n",
       "    </tr>\n",
       "  </thead>\n",
       "  <tbody>\n",
       "    <tr>\n",
       "      <th>A</th>\n",
       "      <td>1.281079</td>\n",
       "      <td>0.367448</td>\n",
       "      <td>-1.281153</td>\n",
       "    </tr>\n",
       "    <tr>\n",
       "      <th>B</th>\n",
       "      <td>0.846867</td>\n",
       "      <td>-0.405940</td>\n",
       "      <td>-1.168294</td>\n",
       "    </tr>\n",
       "    <tr>\n",
       "      <th>C</th>\n",
       "      <td>5.000000</td>\n",
       "      <td>NaN</td>\n",
       "      <td>NaN</td>\n",
       "    </tr>\n",
       "    <tr>\n",
       "      <th>D</th>\n",
       "      <td>NaN</td>\n",
       "      <td>NaN</td>\n",
       "      <td>NaN</td>\n",
       "    </tr>\n",
       "    <tr>\n",
       "      <th>E</th>\n",
       "      <td>-1.159418</td>\n",
       "      <td>0.444864</td>\n",
       "      <td>0.181723</td>\n",
       "    </tr>\n",
       "    <tr>\n",
       "      <th>F</th>\n",
       "      <td>0.544106</td>\n",
       "      <td>-0.838843</td>\n",
       "      <td>-0.558220</td>\n",
       "    </tr>\n",
       "    <tr>\n",
       "      <th>G</th>\n",
       "      <td>0.811257</td>\n",
       "      <td>0.756369</td>\n",
       "      <td>-0.108973</td>\n",
       "    </tr>\n",
       "    <tr>\n",
       "      <th>H</th>\n",
       "      <td>0.844488</td>\n",
       "      <td>-0.234484</td>\n",
       "      <td>0.987277</td>\n",
       "    </tr>\n",
       "    <tr>\n",
       "      <th>I</th>\n",
       "      <td>NaN</td>\n",
       "      <td>NaN</td>\n",
       "      <td>NaN</td>\n",
       "    </tr>\n",
       "  </tbody>\n",
       "</table>\n",
       "</div>"
      ],
      "text/plain": [
       "       col1      col2      col3\n",
       "A  1.281079  0.367448 -1.281153\n",
       "B  0.846867 -0.405940 -1.168294\n",
       "C  5.000000       NaN       NaN\n",
       "D       NaN       NaN       NaN\n",
       "E -1.159418  0.444864  0.181723\n",
       "F  0.544106 -0.838843 -0.558220\n",
       "G  0.811257  0.756369 -0.108973\n",
       "H  0.844488 -0.234484  0.987277\n",
       "I       NaN       NaN       NaN"
      ]
     },
     "execution_count": 150,
     "metadata": {},
     "output_type": "execute_result"
    }
   ],
   "source": [
    "df"
   ]
  },
  {
   "cell_type": "code",
   "execution_count": 151,
   "id": "d3678d12",
   "metadata": {},
   "outputs": [
    {
     "data": {
      "text/html": [
       "<div>\n",
       "<style scoped>\n",
       "    .dataframe tbody tr th:only-of-type {\n",
       "        vertical-align: middle;\n",
       "    }\n",
       "\n",
       "    .dataframe tbody tr th {\n",
       "        vertical-align: top;\n",
       "    }\n",
       "\n",
       "    .dataframe thead th {\n",
       "        text-align: right;\n",
       "    }\n",
       "</style>\n",
       "<table border=\"1\" class=\"dataframe\">\n",
       "  <thead>\n",
       "    <tr style=\"text-align: right;\">\n",
       "      <th></th>\n",
       "      <th>col1</th>\n",
       "      <th>col2</th>\n",
       "      <th>col3</th>\n",
       "    </tr>\n",
       "  </thead>\n",
       "  <tbody>\n",
       "    <tr>\n",
       "      <th>A</th>\n",
       "      <td>1.281079</td>\n",
       "      <td>0.367448</td>\n",
       "      <td>-1.281153</td>\n",
       "    </tr>\n",
       "    <tr>\n",
       "      <th>B</th>\n",
       "      <td>0.846867</td>\n",
       "      <td>-0.405940</td>\n",
       "      <td>-1.168294</td>\n",
       "    </tr>\n",
       "    <tr>\n",
       "      <th>E</th>\n",
       "      <td>-1.159418</td>\n",
       "      <td>0.444864</td>\n",
       "      <td>0.181723</td>\n",
       "    </tr>\n",
       "    <tr>\n",
       "      <th>F</th>\n",
       "      <td>0.544106</td>\n",
       "      <td>-0.838843</td>\n",
       "      <td>-0.558220</td>\n",
       "    </tr>\n",
       "    <tr>\n",
       "      <th>G</th>\n",
       "      <td>0.811257</td>\n",
       "      <td>0.756369</td>\n",
       "      <td>-0.108973</td>\n",
       "    </tr>\n",
       "    <tr>\n",
       "      <th>H</th>\n",
       "      <td>0.844488</td>\n",
       "      <td>-0.234484</td>\n",
       "      <td>0.987277</td>\n",
       "    </tr>\n",
       "  </tbody>\n",
       "</table>\n",
       "</div>"
      ],
      "text/plain": [
       "       col1      col2      col3\n",
       "A  1.281079  0.367448 -1.281153\n",
       "B  0.846867 -0.405940 -1.168294\n",
       "E -1.159418  0.444864  0.181723\n",
       "F  0.544106 -0.838843 -0.558220\n",
       "G  0.811257  0.756369 -0.108973\n",
       "H  0.844488 -0.234484  0.987277"
      ]
     },
     "execution_count": 151,
     "metadata": {},
     "output_type": "execute_result"
    }
   ],
   "source": [
    "df.dropna()  #<- It will drop all the NaN value contain rows"
   ]
  },
  {
   "cell_type": "code",
   "execution_count": 152,
   "id": "c6487465",
   "metadata": {},
   "outputs": [
    {
     "data": {
      "text/html": [
       "<div>\n",
       "<style scoped>\n",
       "    .dataframe tbody tr th:only-of-type {\n",
       "        vertical-align: middle;\n",
       "    }\n",
       "\n",
       "    .dataframe tbody tr th {\n",
       "        vertical-align: top;\n",
       "    }\n",
       "\n",
       "    .dataframe thead th {\n",
       "        text-align: right;\n",
       "    }\n",
       "</style>\n",
       "<table border=\"1\" class=\"dataframe\">\n",
       "  <thead>\n",
       "    <tr style=\"text-align: right;\">\n",
       "      <th></th>\n",
       "    </tr>\n",
       "  </thead>\n",
       "  <tbody>\n",
       "    <tr>\n",
       "      <th>A</th>\n",
       "    </tr>\n",
       "    <tr>\n",
       "      <th>B</th>\n",
       "    </tr>\n",
       "    <tr>\n",
       "      <th>C</th>\n",
       "    </tr>\n",
       "    <tr>\n",
       "      <th>D</th>\n",
       "    </tr>\n",
       "    <tr>\n",
       "      <th>E</th>\n",
       "    </tr>\n",
       "    <tr>\n",
       "      <th>F</th>\n",
       "    </tr>\n",
       "    <tr>\n",
       "      <th>G</th>\n",
       "    </tr>\n",
       "    <tr>\n",
       "      <th>H</th>\n",
       "    </tr>\n",
       "    <tr>\n",
       "      <th>I</th>\n",
       "    </tr>\n",
       "  </tbody>\n",
       "</table>\n",
       "</div>"
      ],
      "text/plain": [
       "Empty DataFrame\n",
       "Columns: []\n",
       "Index: [A, B, C, D, E, F, G, H, I]"
      ]
     },
     "execution_count": 152,
     "metadata": {},
     "output_type": "execute_result"
    }
   ],
   "source": [
    "df.dropna(1)  #<- here, this 1 will be delete all the NaN value contains columns. so, that's why it will be empty"
   ]
  },
  {
   "cell_type": "code",
   "execution_count": null,
   "id": "7497f93e",
   "metadata": {},
   "outputs": [],
   "source": []
  },
  {
   "cell_type": "markdown",
   "id": "379ab841",
   "metadata": {},
   "source": [
    "# Replacing values"
   ]
  },
  {
   "cell_type": "code",
   "execution_count": 155,
   "id": "c94a4962",
   "metadata": {},
   "outputs": [],
   "source": [
    "df=pd.DataFrame({\"Apples\":[0,95,105,75],\"Grapes\":[110,45,95,0]})"
   ]
  },
  {
   "cell_type": "code",
   "execution_count": null,
   "id": "65ca3755",
   "metadata": {},
   "outputs": [],
   "source": [
    "df=pd.DataFrame({\"Apples\":[0,89,67,56],\"Grapes\":[23,45,65,43x]})"
   ]
  },
  {
   "cell_type": "code",
   "execution_count": 156,
   "id": "31375a5f",
   "metadata": {},
   "outputs": [
    {
     "data": {
      "text/html": [
       "<div>\n",
       "<style scoped>\n",
       "    .dataframe tbody tr th:only-of-type {\n",
       "        vertical-align: middle;\n",
       "    }\n",
       "\n",
       "    .dataframe tbody tr th {\n",
       "        vertical-align: top;\n",
       "    }\n",
       "\n",
       "    .dataframe thead th {\n",
       "        text-align: right;\n",
       "    }\n",
       "</style>\n",
       "<table border=\"1\" class=\"dataframe\">\n",
       "  <thead>\n",
       "    <tr style=\"text-align: right;\">\n",
       "      <th></th>\n",
       "      <th>Apples</th>\n",
       "      <th>Grapes</th>\n",
       "    </tr>\n",
       "  </thead>\n",
       "  <tbody>\n",
       "    <tr>\n",
       "      <th>0</th>\n",
       "      <td>0</td>\n",
       "      <td>110</td>\n",
       "    </tr>\n",
       "    <tr>\n",
       "      <th>1</th>\n",
       "      <td>95</td>\n",
       "      <td>45</td>\n",
       "    </tr>\n",
       "    <tr>\n",
       "      <th>2</th>\n",
       "      <td>105</td>\n",
       "      <td>95</td>\n",
       "    </tr>\n",
       "    <tr>\n",
       "      <th>3</th>\n",
       "      <td>75</td>\n",
       "      <td>0</td>\n",
       "    </tr>\n",
       "  </tbody>\n",
       "</table>\n",
       "</div>"
      ],
      "text/plain": [
       "   Apples  Grapes\n",
       "0       0     110\n",
       "1      95      45\n",
       "2     105      95\n",
       "3      75       0"
      ]
     },
     "execution_count": 156,
     "metadata": {},
     "output_type": "execute_result"
    }
   ],
   "source": [
    "df"
   ]
  },
  {
   "cell_type": "code",
   "execution_count": 158,
   "id": "39a92a32",
   "metadata": {},
   "outputs": [
    {
     "data": {
      "text/html": [
       "<div>\n",
       "<style scoped>\n",
       "    .dataframe tbody tr th:only-of-type {\n",
       "        vertical-align: middle;\n",
       "    }\n",
       "\n",
       "    .dataframe tbody tr th {\n",
       "        vertical-align: top;\n",
       "    }\n",
       "\n",
       "    .dataframe thead th {\n",
       "        text-align: right;\n",
       "    }\n",
       "</style>\n",
       "<table border=\"1\" class=\"dataframe\">\n",
       "  <thead>\n",
       "    <tr style=\"text-align: right;\">\n",
       "      <th></th>\n",
       "      <th>Apples</th>\n",
       "      <th>Grapes</th>\n",
       "    </tr>\n",
       "  </thead>\n",
       "  <tbody>\n",
       "    <tr>\n",
       "      <th>0</th>\n",
       "      <td>69</td>\n",
       "      <td>110</td>\n",
       "    </tr>\n",
       "    <tr>\n",
       "      <th>1</th>\n",
       "      <td>125</td>\n",
       "      <td>45</td>\n",
       "    </tr>\n",
       "    <tr>\n",
       "      <th>2</th>\n",
       "      <td>105</td>\n",
       "      <td>125</td>\n",
       "    </tr>\n",
       "    <tr>\n",
       "      <th>3</th>\n",
       "      <td>75</td>\n",
       "      <td>69</td>\n",
       "    </tr>\n",
       "  </tbody>\n",
       "</table>\n",
       "</div>"
      ],
      "text/plain": [
       "   Apples  Grapes\n",
       "0      69     110\n",
       "1     125      45\n",
       "2     105     125\n",
       "3      75      69"
      ]
     },
     "execution_count": 158,
     "metadata": {},
     "output_type": "execute_result"
    }
   ],
   "source": [
    "df.replace({0:69,95:125}) #<- it will change the values of data from the rows also it will not change permanently\n",
    "# It changes from all 95 to 125 and all 0 to 69"
   ]
  },
  {
   "cell_type": "code",
   "execution_count": null,
   "id": "7b8537b6",
   "metadata": {},
   "outputs": [],
   "source": []
  },
  {
   "cell_type": "code",
   "execution_count": 161,
   "id": "e8b72a02",
   "metadata": {},
   "outputs": [],
   "source": [
    "df=pd.DataFrame(np.random.randn(5,3),\n",
    "               index=[\"A\",\"C\",\"E\",\"B\",\"D\"],\n",
    "               columns=[\"Col1\",\"Col2\",\"Col3\"])"
   ]
  },
  {
   "cell_type": "code",
   "execution_count": 162,
   "id": "ce40c54e",
   "metadata": {},
   "outputs": [
    {
     "data": {
      "text/html": [
       "<div>\n",
       "<style scoped>\n",
       "    .dataframe tbody tr th:only-of-type {\n",
       "        vertical-align: middle;\n",
       "    }\n",
       "\n",
       "    .dataframe tbody tr th {\n",
       "        vertical-align: top;\n",
       "    }\n",
       "\n",
       "    .dataframe thead th {\n",
       "        text-align: right;\n",
       "    }\n",
       "</style>\n",
       "<table border=\"1\" class=\"dataframe\">\n",
       "  <thead>\n",
       "    <tr style=\"text-align: right;\">\n",
       "      <th></th>\n",
       "      <th>Col1</th>\n",
       "      <th>Col2</th>\n",
       "      <th>Col3</th>\n",
       "    </tr>\n",
       "  </thead>\n",
       "  <tbody>\n",
       "    <tr>\n",
       "      <th>A</th>\n",
       "      <td>0.944880</td>\n",
       "      <td>-0.408818</td>\n",
       "      <td>-0.424686</td>\n",
       "    </tr>\n",
       "    <tr>\n",
       "      <th>C</th>\n",
       "      <td>1.514090</td>\n",
       "      <td>0.003734</td>\n",
       "      <td>-0.831930</td>\n",
       "    </tr>\n",
       "    <tr>\n",
       "      <th>E</th>\n",
       "      <td>-0.437477</td>\n",
       "      <td>1.017236</td>\n",
       "      <td>-0.333719</td>\n",
       "    </tr>\n",
       "    <tr>\n",
       "      <th>B</th>\n",
       "      <td>-0.517032</td>\n",
       "      <td>-0.416187</td>\n",
       "      <td>-0.501874</td>\n",
       "    </tr>\n",
       "    <tr>\n",
       "      <th>D</th>\n",
       "      <td>-0.642225</td>\n",
       "      <td>1.477938</td>\n",
       "      <td>1.067335</td>\n",
       "    </tr>\n",
       "  </tbody>\n",
       "</table>\n",
       "</div>"
      ],
      "text/plain": [
       "       Col1      Col2      Col3\n",
       "A  0.944880 -0.408818 -0.424686\n",
       "C  1.514090  0.003734 -0.831930\n",
       "E -0.437477  1.017236 -0.333719\n",
       "B -0.517032 -0.416187 -0.501874\n",
       "D -0.642225  1.477938  1.067335"
      ]
     },
     "execution_count": 162,
     "metadata": {},
     "output_type": "execute_result"
    }
   ],
   "source": [
    "df"
   ]
  },
  {
   "cell_type": "code",
   "execution_count": 163,
   "id": "f204f50b",
   "metadata": {},
   "outputs": [
    {
     "data": {
      "text/html": [
       "<div>\n",
       "<style scoped>\n",
       "    .dataframe tbody tr th:only-of-type {\n",
       "        vertical-align: middle;\n",
       "    }\n",
       "\n",
       "    .dataframe tbody tr th {\n",
       "        vertical-align: top;\n",
       "    }\n",
       "\n",
       "    .dataframe thead th {\n",
       "        text-align: right;\n",
       "    }\n",
       "</style>\n",
       "<table border=\"1\" class=\"dataframe\">\n",
       "  <thead>\n",
       "    <tr style=\"text-align: right;\">\n",
       "      <th></th>\n",
       "      <th>Col1</th>\n",
       "      <th>Col2</th>\n",
       "      <th>Col3</th>\n",
       "    </tr>\n",
       "  </thead>\n",
       "  <tbody>\n",
       "    <tr>\n",
       "      <th>A</th>\n",
       "      <td>0.944880</td>\n",
       "      <td>-0.408818</td>\n",
       "      <td>-0.424686</td>\n",
       "    </tr>\n",
       "    <tr>\n",
       "      <th>C</th>\n",
       "      <td>1.514090</td>\n",
       "      <td>0.003734</td>\n",
       "      <td>-0.831930</td>\n",
       "    </tr>\n",
       "    <tr>\n",
       "      <th>E</th>\n",
       "      <td>-0.437477</td>\n",
       "      <td>1.017236</td>\n",
       "      <td>-0.333719</td>\n",
       "    </tr>\n",
       "    <tr>\n",
       "      <th>B</th>\n",
       "      <td>-0.517032</td>\n",
       "      <td>-0.416187</td>\n",
       "      <td>-0.501874</td>\n",
       "    </tr>\n",
       "    <tr>\n",
       "      <th>D</th>\n",
       "      <td>-0.642225</td>\n",
       "      <td>1.477938</td>\n",
       "      <td>1.067335</td>\n",
       "    </tr>\n",
       "  </tbody>\n",
       "</table>\n",
       "</div>"
      ],
      "text/plain": [
       "       Col1      Col2      Col3\n",
       "A  0.944880 -0.408818 -0.424686\n",
       "C  1.514090  0.003734 -0.831930\n",
       "E -0.437477  1.017236 -0.333719\n",
       "B -0.517032 -0.416187 -0.501874\n",
       "D -0.642225  1.477938  1.067335"
      ]
     },
     "execution_count": 163,
     "metadata": {},
     "output_type": "execute_result"
    }
   ],
   "source": [
    "df.replace({1.514090: 25, 0.944880 : 80 })\n",
    "#Here , this is not changed bcoz there for replace you have to enter the same data of column ehcih you want to change\n",
    "# But at here,we have taken the value from float function and its values is more larger, but here in data table , it shoes only 6 number after point. so we don't know the exactly data. That's why it won't be changed"
   ]
  },
  {
   "cell_type": "code",
   "execution_count": null,
   "id": "df4cc2a5",
   "metadata": {},
   "outputs": [],
   "source": [
    "# for changing that float random values, you have to first round off it, and then you have to print it"
   ]
  },
  {
   "cell_type": "code",
   "execution_count": 164,
   "id": "5b32dfd6",
   "metadata": {},
   "outputs": [
    {
     "data": {
      "text/html": [
       "<div>\n",
       "<style scoped>\n",
       "    .dataframe tbody tr th:only-of-type {\n",
       "        vertical-align: middle;\n",
       "    }\n",
       "\n",
       "    .dataframe tbody tr th {\n",
       "        vertical-align: top;\n",
       "    }\n",
       "\n",
       "    .dataframe thead th {\n",
       "        text-align: right;\n",
       "    }\n",
       "</style>\n",
       "<table border=\"1\" class=\"dataframe\">\n",
       "  <thead>\n",
       "    <tr style=\"text-align: right;\">\n",
       "      <th></th>\n",
       "      <th>Col1</th>\n",
       "      <th>Col2</th>\n",
       "      <th>Col3</th>\n",
       "    </tr>\n",
       "  </thead>\n",
       "  <tbody>\n",
       "    <tr>\n",
       "      <th>A</th>\n",
       "      <td>0.9449</td>\n",
       "      <td>-0.4088</td>\n",
       "      <td>-0.4247</td>\n",
       "    </tr>\n",
       "    <tr>\n",
       "      <th>C</th>\n",
       "      <td>1.5141</td>\n",
       "      <td>0.0037</td>\n",
       "      <td>-0.8319</td>\n",
       "    </tr>\n",
       "    <tr>\n",
       "      <th>E</th>\n",
       "      <td>-0.4375</td>\n",
       "      <td>1.0172</td>\n",
       "      <td>-0.3337</td>\n",
       "    </tr>\n",
       "    <tr>\n",
       "      <th>B</th>\n",
       "      <td>-0.5170</td>\n",
       "      <td>-0.4162</td>\n",
       "      <td>-0.5019</td>\n",
       "    </tr>\n",
       "    <tr>\n",
       "      <th>D</th>\n",
       "      <td>-0.6422</td>\n",
       "      <td>1.4779</td>\n",
       "      <td>1.0673</td>\n",
       "    </tr>\n",
       "  </tbody>\n",
       "</table>\n",
       "</div>"
      ],
      "text/plain": [
       "     Col1    Col2    Col3\n",
       "A  0.9449 -0.4088 -0.4247\n",
       "C  1.5141  0.0037 -0.8319\n",
       "E -0.4375  1.0172 -0.3337\n",
       "B -0.5170 -0.4162 -0.5019\n",
       "D -0.6422  1.4779  1.0673"
      ]
     },
     "execution_count": 164,
     "metadata": {},
     "output_type": "execute_result"
    }
   ],
   "source": [
    "df.round(4)  #<- it will round off the values for 4 numbers"
   ]
  },
  {
   "cell_type": "code",
   "execution_count": null,
   "id": "76aeb1c5",
   "metadata": {},
   "outputs": [],
   "source": []
  },
  {
   "cell_type": "code",
   "execution_count": null,
   "id": "04f777ea",
   "metadata": {},
   "outputs": [],
   "source": []
  },
  {
   "cell_type": "code",
   "execution_count": 169,
   "id": "46062782",
   "metadata": {},
   "outputs": [],
   "source": [
    "df=pd.DataFrame({\"Apples\":[50,95,105,75],\"Grapes\":[110,45,99,0]})"
   ]
  },
  {
   "cell_type": "code",
   "execution_count": 170,
   "id": "10e43a53",
   "metadata": {},
   "outputs": [
    {
     "data": {
      "text/html": [
       "<div>\n",
       "<style scoped>\n",
       "    .dataframe tbody tr th:only-of-type {\n",
       "        vertical-align: middle;\n",
       "    }\n",
       "\n",
       "    .dataframe tbody tr th {\n",
       "        vertical-align: top;\n",
       "    }\n",
       "\n",
       "    .dataframe thead th {\n",
       "        text-align: right;\n",
       "    }\n",
       "</style>\n",
       "<table border=\"1\" class=\"dataframe\">\n",
       "  <thead>\n",
       "    <tr style=\"text-align: right;\">\n",
       "      <th></th>\n",
       "      <th>Apples</th>\n",
       "      <th>Grapes</th>\n",
       "    </tr>\n",
       "  </thead>\n",
       "  <tbody>\n",
       "    <tr>\n",
       "      <th>0</th>\n",
       "      <td>50</td>\n",
       "      <td>110</td>\n",
       "    </tr>\n",
       "    <tr>\n",
       "      <th>1</th>\n",
       "      <td>95</td>\n",
       "      <td>45</td>\n",
       "    </tr>\n",
       "    <tr>\n",
       "      <th>2</th>\n",
       "      <td>105</td>\n",
       "      <td>99</td>\n",
       "    </tr>\n",
       "    <tr>\n",
       "      <th>3</th>\n",
       "      <td>75</td>\n",
       "      <td>0</td>\n",
       "    </tr>\n",
       "  </tbody>\n",
       "</table>\n",
       "</div>"
      ],
      "text/plain": [
       "   Apples  Grapes\n",
       "0      50     110\n",
       "1      95      45\n",
       "2     105      99\n",
       "3      75       0"
      ]
     },
     "execution_count": 170,
     "metadata": {},
     "output_type": "execute_result"
    }
   ],
   "source": [
    "df"
   ]
  },
  {
   "cell_type": "code",
   "execution_count": null,
   "id": "1005bcaa",
   "metadata": {},
   "outputs": [],
   "source": [
    "# suppose that you have to change the value 105 to 90 without using replace function"
   ]
  },
  {
   "cell_type": "code",
   "execution_count": 171,
   "id": "1c0b6a3d",
   "metadata": {},
   "outputs": [],
   "source": [
    "df[\"Apples\"].loc[2] = 90   #or df.Apples.loc[2] = 90"
   ]
  },
  {
   "cell_type": "code",
   "execution_count": 172,
   "id": "9cdc5ead",
   "metadata": {},
   "outputs": [],
   "source": [
    "df.Apples.loc[3]=50"
   ]
  },
  {
   "cell_type": "code",
   "execution_count": 173,
   "id": "2876a8fd",
   "metadata": {},
   "outputs": [
    {
     "data": {
      "text/html": [
       "<div>\n",
       "<style scoped>\n",
       "    .dataframe tbody tr th:only-of-type {\n",
       "        vertical-align: middle;\n",
       "    }\n",
       "\n",
       "    .dataframe tbody tr th {\n",
       "        vertical-align: top;\n",
       "    }\n",
       "\n",
       "    .dataframe thead th {\n",
       "        text-align: right;\n",
       "    }\n",
       "</style>\n",
       "<table border=\"1\" class=\"dataframe\">\n",
       "  <thead>\n",
       "    <tr style=\"text-align: right;\">\n",
       "      <th></th>\n",
       "      <th>Apples</th>\n",
       "      <th>Grapes</th>\n",
       "    </tr>\n",
       "  </thead>\n",
       "  <tbody>\n",
       "    <tr>\n",
       "      <th>0</th>\n",
       "      <td>50</td>\n",
       "      <td>110</td>\n",
       "    </tr>\n",
       "    <tr>\n",
       "      <th>1</th>\n",
       "      <td>95</td>\n",
       "      <td>45</td>\n",
       "    </tr>\n",
       "    <tr>\n",
       "      <th>2</th>\n",
       "      <td>90</td>\n",
       "      <td>99</td>\n",
       "    </tr>\n",
       "    <tr>\n",
       "      <th>3</th>\n",
       "      <td>50</td>\n",
       "      <td>0</td>\n",
       "    </tr>\n",
       "  </tbody>\n",
       "</table>\n",
       "</div>"
      ],
      "text/plain": [
       "   Apples  Grapes\n",
       "0      50     110\n",
       "1      95      45\n",
       "2      90      99\n",
       "3      50       0"
      ]
     },
     "execution_count": 173,
     "metadata": {},
     "output_type": "execute_result"
    }
   ],
   "source": [
    "df"
   ]
  },
  {
   "cell_type": "code",
   "execution_count": null,
   "id": "7138ffa7",
   "metadata": {},
   "outputs": [],
   "source": []
  },
  {
   "cell_type": "code",
   "execution_count": null,
   "id": "3491ff2f",
   "metadata": {},
   "outputs": [],
   "source": []
  },
  {
   "cell_type": "code",
   "execution_count": null,
   "id": "bdb7190d",
   "metadata": {},
   "outputs": [],
   "source": []
  },
  {
   "cell_type": "markdown",
   "id": "6e0e435e",
   "metadata": {},
   "source": [
    "# Handle Duplicates Values"
   ]
  },
  {
   "cell_type": "code",
   "execution_count": null,
   "id": "a1075388",
   "metadata": {},
   "outputs": [],
   "source": []
  },
  {
   "cell_type": "code",
   "execution_count": null,
   "id": "f735ea66",
   "metadata": {},
   "outputs": [],
   "source": [
    "check the duplicate values - duplicated()"
   ]
  },
  {
   "cell_type": "code",
   "execution_count": 174,
   "id": "4ae8f966",
   "metadata": {},
   "outputs": [
    {
     "data": {
      "text/html": [
       "<div>\n",
       "<style scoped>\n",
       "    .dataframe tbody tr th:only-of-type {\n",
       "        vertical-align: middle;\n",
       "    }\n",
       "\n",
       "    .dataframe tbody tr th {\n",
       "        vertical-align: top;\n",
       "    }\n",
       "\n",
       "    .dataframe thead th {\n",
       "        text-align: right;\n",
       "    }\n",
       "</style>\n",
       "<table border=\"1\" class=\"dataframe\">\n",
       "  <thead>\n",
       "    <tr style=\"text-align: right;\">\n",
       "      <th></th>\n",
       "      <th>Apples</th>\n",
       "      <th>Grapes</th>\n",
       "    </tr>\n",
       "  </thead>\n",
       "  <tbody>\n",
       "    <tr>\n",
       "      <th>0</th>\n",
       "      <td>50</td>\n",
       "      <td>110</td>\n",
       "    </tr>\n",
       "    <tr>\n",
       "      <th>1</th>\n",
       "      <td>95</td>\n",
       "      <td>45</td>\n",
       "    </tr>\n",
       "    <tr>\n",
       "      <th>2</th>\n",
       "      <td>90</td>\n",
       "      <td>99</td>\n",
       "    </tr>\n",
       "    <tr>\n",
       "      <th>3</th>\n",
       "      <td>50</td>\n",
       "      <td>0</td>\n",
       "    </tr>\n",
       "  </tbody>\n",
       "</table>\n",
       "</div>"
      ],
      "text/plain": [
       "   Apples  Grapes\n",
       "0      50     110\n",
       "1      95      45\n",
       "2      90      99\n",
       "3      50       0"
      ]
     },
     "execution_count": 174,
     "metadata": {},
     "output_type": "execute_result"
    }
   ],
   "source": [
    "df"
   ]
  },
  {
   "cell_type": "code",
   "execution_count": 133,
   "id": "ec6954eb",
   "metadata": {},
   "outputs": [
    {
     "data": {
      "text/plain": [
       "0    False\n",
       "1    False\n",
       "2    False\n",
       "3    False\n",
       "dtype: bool"
      ]
     },
     "execution_count": 133,
     "metadata": {},
     "output_type": "execute_result"
    }
   ],
   "source": [
    "df.duplicated()  #here there is no same values in same row, so every line will be false"
   ]
  },
  {
   "cell_type": "code",
   "execution_count": 135,
   "id": "ff1e6eee",
   "metadata": {},
   "outputs": [
    {
     "data": {
      "text/html": [
       "<div>\n",
       "<style scoped>\n",
       "    .dataframe tbody tr th:only-of-type {\n",
       "        vertical-align: middle;\n",
       "    }\n",
       "\n",
       "    .dataframe tbody tr th {\n",
       "        vertical-align: top;\n",
       "    }\n",
       "\n",
       "    .dataframe thead th {\n",
       "        text-align: right;\n",
       "    }\n",
       "</style>\n",
       "<table border=\"1\" class=\"dataframe\">\n",
       "  <thead>\n",
       "    <tr style=\"text-align: right;\">\n",
       "      <th></th>\n",
       "      <th>Apples</th>\n",
       "      <th>Grapes</th>\n",
       "    </tr>\n",
       "  </thead>\n",
       "  <tbody>\n",
       "    <tr>\n",
       "      <th>0</th>\n",
       "      <td>50</td>\n",
       "      <td>110</td>\n",
       "    </tr>\n",
       "    <tr>\n",
       "      <th>1</th>\n",
       "      <td>95</td>\n",
       "      <td>45</td>\n",
       "    </tr>\n",
       "    <tr>\n",
       "      <th>2</th>\n",
       "      <td>90</td>\n",
       "      <td>99</td>\n",
       "    </tr>\n",
       "    <tr>\n",
       "      <th>3</th>\n",
       "      <td>50</td>\n",
       "      <td>0</td>\n",
       "    </tr>\n",
       "  </tbody>\n",
       "</table>\n",
       "</div>"
      ],
      "text/plain": [
       "   Apples  Grapes\n",
       "0      50     110\n",
       "1      95      45\n",
       "2      90      99\n",
       "3      50       0"
      ]
     },
     "execution_count": 135,
     "metadata": {},
     "output_type": "execute_result"
    }
   ],
   "source": [
    "df"
   ]
  },
  {
   "cell_type": "code",
   "execution_count": 176,
   "id": "3b668375",
   "metadata": {},
   "outputs": [
    {
     "data": {
      "text/plain": [
       "0    False\n",
       "1    False\n",
       "2    False\n",
       "3     True\n",
       "dtype: bool"
      ]
     },
     "execution_count": 176,
     "metadata": {},
     "output_type": "execute_result"
    }
   ],
   "source": [
    "df.duplicated(subset=[\"Apples\"])"
   ]
  },
  {
   "cell_type": "code",
   "execution_count": 134,
   "id": "c0bb1469",
   "metadata": {},
   "outputs": [
    {
     "data": {
      "text/plain": [
       "0    False\n",
       "1    False\n",
       "2    False\n",
       "3     True\n",
       "dtype: bool"
      ]
     },
     "execution_count": 134,
     "metadata": {},
     "output_type": "execute_result"
    }
   ],
   "source": [
    "df.duplicated(subset=[\"Apples\"])   #<- It will check every values of columns and if there will be same value, then it will give true\n",
    "# here, in Apples the first and last word has same values, so it will give true in last"
   ]
  },
  {
   "cell_type": "code",
   "execution_count": null,
   "id": "1cced1e3",
   "metadata": {},
   "outputs": [],
   "source": []
  },
  {
   "cell_type": "code",
   "execution_count": null,
   "id": "9a01938a",
   "metadata": {},
   "outputs": [],
   "source": []
  },
  {
   "cell_type": "markdown",
   "id": "04b08acb",
   "metadata": {},
   "source": [
    "# Remove duplicate value - drop_duplicates()"
   ]
  },
  {
   "cell_type": "code",
   "execution_count": 177,
   "id": "1c32c91a",
   "metadata": {},
   "outputs": [
    {
     "data": {
      "text/html": [
       "<div>\n",
       "<style scoped>\n",
       "    .dataframe tbody tr th:only-of-type {\n",
       "        vertical-align: middle;\n",
       "    }\n",
       "\n",
       "    .dataframe tbody tr th {\n",
       "        vertical-align: top;\n",
       "    }\n",
       "\n",
       "    .dataframe thead th {\n",
       "        text-align: right;\n",
       "    }\n",
       "</style>\n",
       "<table border=\"1\" class=\"dataframe\">\n",
       "  <thead>\n",
       "    <tr style=\"text-align: right;\">\n",
       "      <th></th>\n",
       "      <th>Apples</th>\n",
       "      <th>Grapes</th>\n",
       "    </tr>\n",
       "  </thead>\n",
       "  <tbody>\n",
       "    <tr>\n",
       "      <th>0</th>\n",
       "      <td>50</td>\n",
       "      <td>110</td>\n",
       "    </tr>\n",
       "    <tr>\n",
       "      <th>1</th>\n",
       "      <td>95</td>\n",
       "      <td>45</td>\n",
       "    </tr>\n",
       "    <tr>\n",
       "      <th>2</th>\n",
       "      <td>90</td>\n",
       "      <td>99</td>\n",
       "    </tr>\n",
       "    <tr>\n",
       "      <th>3</th>\n",
       "      <td>50</td>\n",
       "      <td>0</td>\n",
       "    </tr>\n",
       "  </tbody>\n",
       "</table>\n",
       "</div>"
      ],
      "text/plain": [
       "   Apples  Grapes\n",
       "0      50     110\n",
       "1      95      45\n",
       "2      90      99\n",
       "3      50       0"
      ]
     },
     "execution_count": 177,
     "metadata": {},
     "output_type": "execute_result"
    }
   ],
   "source": [
    "df"
   ]
  },
  {
   "cell_type": "code",
   "execution_count": 178,
   "id": "9fc254d5",
   "metadata": {},
   "outputs": [
    {
     "data": {
      "text/html": [
       "<div>\n",
       "<style scoped>\n",
       "    .dataframe tbody tr th:only-of-type {\n",
       "        vertical-align: middle;\n",
       "    }\n",
       "\n",
       "    .dataframe tbody tr th {\n",
       "        vertical-align: top;\n",
       "    }\n",
       "\n",
       "    .dataframe thead th {\n",
       "        text-align: right;\n",
       "    }\n",
       "</style>\n",
       "<table border=\"1\" class=\"dataframe\">\n",
       "  <thead>\n",
       "    <tr style=\"text-align: right;\">\n",
       "      <th></th>\n",
       "      <th>Apples</th>\n",
       "      <th>Grapes</th>\n",
       "    </tr>\n",
       "  </thead>\n",
       "  <tbody>\n",
       "    <tr>\n",
       "      <th>0</th>\n",
       "      <td>50</td>\n",
       "      <td>110</td>\n",
       "    </tr>\n",
       "    <tr>\n",
       "      <th>1</th>\n",
       "      <td>95</td>\n",
       "      <td>45</td>\n",
       "    </tr>\n",
       "    <tr>\n",
       "      <th>2</th>\n",
       "      <td>90</td>\n",
       "      <td>99</td>\n",
       "    </tr>\n",
       "  </tbody>\n",
       "</table>\n",
       "</div>"
      ],
      "text/plain": [
       "   Apples  Grapes\n",
       "0      50     110\n",
       "1      95      45\n",
       "2      90      99"
      ]
     },
     "execution_count": 178,
     "metadata": {},
     "output_type": "execute_result"
    }
   ],
   "source": [
    "df.drop_duplicates(subset=[\"Apples\"])"
   ]
  },
  {
   "cell_type": "code",
   "execution_count": 179,
   "id": "455bb9a9",
   "metadata": {},
   "outputs": [
    {
     "data": {
      "text/html": [
       "<div>\n",
       "<style scoped>\n",
       "    .dataframe tbody tr th:only-of-type {\n",
       "        vertical-align: middle;\n",
       "    }\n",
       "\n",
       "    .dataframe tbody tr th {\n",
       "        vertical-align: top;\n",
       "    }\n",
       "\n",
       "    .dataframe thead th {\n",
       "        text-align: right;\n",
       "    }\n",
       "</style>\n",
       "<table border=\"1\" class=\"dataframe\">\n",
       "  <thead>\n",
       "    <tr style=\"text-align: right;\">\n",
       "      <th></th>\n",
       "      <th>Apples</th>\n",
       "      <th>Grapes</th>\n",
       "    </tr>\n",
       "  </thead>\n",
       "  <tbody>\n",
       "    <tr>\n",
       "      <th>0</th>\n",
       "      <td>50</td>\n",
       "      <td>110</td>\n",
       "    </tr>\n",
       "    <tr>\n",
       "      <th>1</th>\n",
       "      <td>95</td>\n",
       "      <td>45</td>\n",
       "    </tr>\n",
       "    <tr>\n",
       "      <th>2</th>\n",
       "      <td>90</td>\n",
       "      <td>99</td>\n",
       "    </tr>\n",
       "    <tr>\n",
       "      <th>3</th>\n",
       "      <td>50</td>\n",
       "      <td>0</td>\n",
       "    </tr>\n",
       "  </tbody>\n",
       "</table>\n",
       "</div>"
      ],
      "text/plain": [
       "   Apples  Grapes\n",
       "0      50     110\n",
       "1      95      45\n",
       "2      90      99\n",
       "3      50       0"
      ]
     },
     "execution_count": 179,
     "metadata": {},
     "output_type": "execute_result"
    }
   ],
   "source": [
    "df"
   ]
  },
  {
   "cell_type": "code",
   "execution_count": null,
   "id": "a421b0b8",
   "metadata": {},
   "outputs": [],
   "source": []
  },
  {
   "cell_type": "code",
   "execution_count": null,
   "id": "deed7202",
   "metadata": {},
   "outputs": [],
   "source": []
  },
  {
   "cell_type": "code",
   "execution_count": null,
   "id": "afa892e6",
   "metadata": {},
   "outputs": [],
   "source": [
    "Import /Export a dataset"
   ]
  },
  {
   "cell_type": "code",
   "execution_count": 140,
   "id": "2b4fe970",
   "metadata": {},
   "outputs": [],
   "source": [
    "data=\"Link of the data or csv file\"\n",
    "df=pd.read_csv(data)"
   ]
  },
  {
   "cell_type": "code",
   "execution_count": null,
   "id": "6f0ab8c6",
   "metadata": {},
   "outputs": [],
   "source": []
  },
  {
   "cell_type": "code",
   "execution_count": null,
   "id": "4386a06e",
   "metadata": {},
   "outputs": [],
   "source": [
    "df.to_csv(\"name_of_the_new_file with location\")"
   ]
  },
  {
   "cell_type": "code",
   "execution_count": 185,
   "id": "377278f4",
   "metadata": {},
   "outputs": [],
   "source": [
    "df.to_csv(\"C:/Users/Hello/Desktop/new.csv\")"
   ]
  },
  {
   "cell_type": "code",
   "execution_count": 146,
   "id": "4f8adbef",
   "metadata": {},
   "outputs": [
    {
     "name": "stdout",
     "output_type": "stream",
     "text": [
      "<class 'pandas.core.frame.DataFrame'>\n",
      "RangeIndex: 4 entries, 0 to 3\n",
      "Data columns (total 2 columns):\n",
      " #   Column  Non-Null Count  Dtype\n",
      "---  ------  --------------  -----\n",
      " 0   Apples  4 non-null      int64\n",
      " 1   Grapes  4 non-null      int64\n",
      "dtypes: int64(2)\n",
      "memory usage: 192.0 bytes\n"
     ]
    }
   ],
   "source": [
    "df.info()  #<- it gives all the information about the DataFrame"
   ]
  },
  {
   "cell_type": "code",
   "execution_count": 147,
   "id": "15a131eb",
   "metadata": {},
   "outputs": [
    {
     "data": {
      "text/plain": [
       "pandas.core.frame.DataFrame"
      ]
     },
     "execution_count": 147,
     "metadata": {},
     "output_type": "execute_result"
    }
   ],
   "source": [
    "type(df)"
   ]
  },
  {
   "cell_type": "code",
   "execution_count": null,
   "id": "c9d7a2e9",
   "metadata": {},
   "outputs": [],
   "source": []
  },
  {
   "cell_type": "code",
   "execution_count": null,
   "id": "74c39d0e",
   "metadata": {},
   "outputs": [],
   "source": []
  },
  {
   "cell_type": "code",
   "execution_count": null,
   "id": "393c1731",
   "metadata": {},
   "outputs": [],
   "source": []
  },
  {
   "cell_type": "code",
   "execution_count": null,
   "id": "22b6ac3b",
   "metadata": {},
   "outputs": [],
   "source": []
  },
  {
   "cell_type": "code",
   "execution_count": null,
   "id": "1d908c59",
   "metadata": {},
   "outputs": [],
   "source": []
  },
  {
   "cell_type": "code",
   "execution_count": null,
   "id": "c82a3f0f",
   "metadata": {},
   "outputs": [],
   "source": [
    "\n"
   ]
  },
  {
   "cell_type": "code",
   "execution_count": 35,
   "id": "729571ec",
   "metadata": {},
   "outputs": [
    {
     "data": {
      "application/javascript": [
       "IPython.notebook.set_autosave_interval(120000)"
      ]
     },
     "metadata": {},
     "output_type": "display_data"
    },
    {
     "name": "stdout",
     "output_type": "stream",
     "text": [
      "Autosaving every 120 seconds\n"
     ]
    }
   ],
   "source": [
    "%autosave 120"
   ]
  }
 ],
 "metadata": {
  "kernelspec": {
   "display_name": "Python 3",
   "language": "python",
   "name": "python3"
  },
  "language_info": {
   "codemirror_mode": {
    "name": "ipython",
    "version": 3
   },
   "file_extension": ".py",
   "mimetype": "text/x-python",
   "name": "python",
   "nbconvert_exporter": "python",
   "pygments_lexer": "ipython3",
   "version": "3.9.5"
  }
 },
 "nbformat": 4,
 "nbformat_minor": 5
}
