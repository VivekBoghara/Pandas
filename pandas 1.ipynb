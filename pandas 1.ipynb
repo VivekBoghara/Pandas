{
 "cells": [
  {
   "cell_type": "markdown",
   "id": "c9d74299",
   "metadata": {},
   "source": [
    "# Pandas - Data Manipulation Tool\n",
    "\n",
    "It's a Python library that is used while you are working with the datasets\n",
    "  \n",
    "     It has some functions\n",
    "     1.Analyze\n",
    "     2.Cleaning\n",
    "     3.Explore\n",
    "     4.Manipulation"
   ]
  },
  {
   "cell_type": "markdown",
   "id": "aa746a20",
   "metadata": {},
   "source": [
    "# Why pandas?\n",
    "\n",
    "It allows us to analyze big data"
   ]
  },
  {
   "cell_type": "code",
   "execution_count": null,
   "id": "b93cd4e1",
   "metadata": {},
   "outputs": [],
   "source": [
    "MS Excel -> 10 million"
   ]
  },
  {
   "cell_type": "code",
   "execution_count": 3,
   "id": "d359d7fa",
   "metadata": {},
   "outputs": [],
   "source": [
    "# insta.xlxs has almost 100 trillion datapoints\n",
    "# so Excel can't handle this . So for this data pandas and python are used\n",
    "# It is used clean messy datasets and then make it readable and relevant"
   ]
  },
  {
   "cell_type": "code",
   "execution_count": null,
   "id": "e77419c6",
   "metadata": {},
   "outputs": [],
   "source": [
    "NaN <- It means null value for python "
   ]
  },
  {
   "cell_type": "code",
   "execution_count": null,
   "id": "b415f11e",
   "metadata": {},
   "outputs": [],
   "source": [
    "datasets -> table(Row & Column)\n",
    "datapoimt -> particular row"
   ]
  },
  {
   "cell_type": "markdown",
   "id": "29459d28",
   "metadata": {},
   "source": [
    "# Pandas Data Structure\n",
    "1.Series\n",
    "2.Dataframes  <- The mostly using data structure in industry is Dataframe. \n",
    "3.Panel\n",
    "\n",
    "Pandas DS are very fast because the DS are built on the Numpy array."
   ]
  },
  {
   "cell_type": "markdown",
   "id": "6ebfe5b5",
   "metadata": {},
   "source": [
    "1. Series -> 1 Dimension <- 1-column\n",
    "2. Dataframes -> 2-Dimensions <- 2-Rows & columns\n",
    "3. Panel -> 3 Dimensions <- 3  \n",
    "Here, The panel is in 3 dimension and it's hard to make a graph of 3 Dimension device. So, it is not mostly used in industries"
   ]
  },
  {
   "cell_type": "code",
   "execution_count": null,
   "id": "b6ee3844",
   "metadata": {},
   "outputs": [],
   "source": []
  },
  {
   "cell_type": "code",
   "execution_count": 1,
   "id": "21fe7db9",
   "metadata": {},
   "outputs": [],
   "source": [
    "import pandas as pd"
   ]
  },
  {
   "cell_type": "code",
   "execution_count": 2,
   "id": "5eb63480",
   "metadata": {},
   "outputs": [
    {
     "data": {
      "text/plain": [
       "'1.2.4'"
      ]
     },
     "execution_count": 2,
     "metadata": {},
     "output_type": "execute_result"
    }
   ],
   "source": [
    "pd.__version__"
   ]
  },
  {
   "cell_type": "markdown",
   "id": "3f8afea8",
   "metadata": {},
   "source": [
    "# Series\n",
    "1. It is a 1D array like DS\n",
    "2.[1,2,3,4,5,6,7,8] -> column"
   ]
  },
  {
   "cell_type": "code",
   "execution_count": null,
   "id": "989e1b40",
   "metadata": {},
   "outputs": [],
   "source": [
    "SYNTAX : pd.series(data, index, dtype)"
   ]
  },
  {
   "cell_type": "code",
   "execution_count": null,
   "id": "3aaf1d28",
   "metadata": {},
   "outputs": [],
   "source": [
    "# You can create a series by using various input datas such as\n",
    "1. Array\n",
    "2. Dict\n",
    "3. Scalar value"
   ]
  },
  {
   "cell_type": "code",
   "execution_count": null,
   "id": "105ef774",
   "metadata": {},
   "outputs": [],
   "source": []
  },
  {
   "cell_type": "markdown",
   "id": "17307bc3",
   "metadata": {},
   "source": [
    "# Creating an empty series"
   ]
  },
  {
   "cell_type": "code",
   "execution_count": 3,
   "id": "90fcf1fb",
   "metadata": {},
   "outputs": [
    {
     "name": "stderr",
     "output_type": "stream",
     "text": [
      "<ipython-input-3-b65245d9df32>:1: DeprecationWarning: The default dtype for empty Series will be 'object' instead of 'float64' in a future version. Specify a dtype explicitly to silence this warning.\n",
      "  s=pd.Series()\n"
     ]
    }
   ],
   "source": [
    "s=pd.Series()"
   ]
  },
  {
   "cell_type": "code",
   "execution_count": 4,
   "id": "738ae379",
   "metadata": {},
   "outputs": [
    {
     "data": {
      "text/plain": [
       "Series([], dtype: float64)"
      ]
     },
     "execution_count": 4,
     "metadata": {},
     "output_type": "execute_result"
    }
   ],
   "source": [
    "s"
   ]
  },
  {
   "cell_type": "code",
   "execution_count": null,
   "id": "8f93fa74",
   "metadata": {},
   "outputs": [],
   "source": []
  },
  {
   "cell_type": "markdown",
   "id": "19b77b7c",
   "metadata": {},
   "source": [
    "# Creating a series using numpy array"
   ]
  },
  {
   "cell_type": "code",
   "execution_count": 5,
   "id": "38b768d1",
   "metadata": {},
   "outputs": [],
   "source": [
    "import numpy as np\n",
    "data = np.array([12,45,32,89])\n",
    "s=pd.Series(data)"
   ]
  },
  {
   "cell_type": "code",
   "execution_count": 7,
   "id": "d20b0806",
   "metadata": {},
   "outputs": [
    {
     "data": {
      "text/plain": [
       "0    12\n",
       "1    45\n",
       "2    32\n",
       "3    89\n",
       "dtype: int32"
      ]
     },
     "execution_count": 7,
     "metadata": {},
     "output_type": "execute_result"
    }
   ],
   "source": [
    "s    # <- The first values shows the index of series values and you can change the index value of the python"
   ]
  },
  {
   "cell_type": "code",
   "execution_count": null,
   "id": "e331f5e2",
   "metadata": {},
   "outputs": [],
   "source": [
    "in pandas if I have to call any \n",
    "row -> you can access it through index value and \n",
    "column -> You can access it by column name"
   ]
  },
  {
   "cell_type": "code",
   "execution_count": 13,
   "id": "cdfd6ef6",
   "metadata": {},
   "outputs": [],
   "source": [
    "import numpy as np\n",
    "data = np.array([12,45,32,89])\n",
    "s=pd.Series(data,index=[100,101,102,103])"
   ]
  },
  {
   "cell_type": "code",
   "execution_count": 14,
   "id": "e2cb5d80",
   "metadata": {},
   "outputs": [
    {
     "data": {
      "text/plain": [
       "100    12\n",
       "101    45\n",
       "102    32\n",
       "103    89\n",
       "dtype: int32"
      ]
     },
     "execution_count": 14,
     "metadata": {},
     "output_type": "execute_result"
    }
   ],
   "source": [
    "s  #<- Here, you can see that we have changed the value of Series"
   ]
  },
  {
   "cell_type": "code",
   "execution_count": null,
   "id": "69b92bf0",
   "metadata": {},
   "outputs": [],
   "source": []
  },
  {
   "cell_type": "markdown",
   "id": "31aabe50",
   "metadata": {},
   "source": [
    "# creating a series using dictionary"
   ]
  },
  {
   "cell_type": "code",
   "execution_count": 15,
   "id": "8b7bee2b",
   "metadata": {},
   "outputs": [],
   "source": [
    "data={\n",
    "    \"a\": 10,\n",
    "    \"b\": 40,\n",
    "    \"c\": 90,\n",
    "    \"d\": 95\n",
    "}\n",
    "s= pd.Series(data)"
   ]
  },
  {
   "cell_type": "code",
   "execution_count": 16,
   "id": "d105c92a",
   "metadata": {},
   "outputs": [
    {
     "data": {
      "text/plain": [
       "a    10\n",
       "b    40\n",
       "c    90\n",
       "d    95\n",
       "dtype: int64"
      ]
     },
     "execution_count": 16,
     "metadata": {},
     "output_type": "execute_result"
    }
   ],
   "source": [
    "s    #<-- here, the keys of dictionary becomes the index of the series"
   ]
  },
  {
   "cell_type": "code",
   "execution_count": 15,
   "id": "d1eb66c0",
   "metadata": {},
   "outputs": [],
   "source": [
    "data={\n",
    "    \"a\": 10,\n",
    "    \"b\": 40,\n",
    "    \"c\": 90,\n",
    "    \"d\": 95\n",
    "}\n",
    "s= pd.Series(data, index=[\"f\",\"z\",\"h\",\"m\"]) #<- It takesthese value as index but not return any value. it returns as NaN\n",
    "# Here, this is happened bcoz, in dictionary, the values are directly connceted with keys, so if try to change it in series, it will not happen"
   ]
  },
  {
   "cell_type": "code",
   "execution_count": 16,
   "id": "7e2c1752",
   "metadata": {},
   "outputs": [
    {
     "data": {
      "text/plain": [
       "f   NaN\n",
       "z   NaN\n",
       "h   NaN\n",
       "m   NaN\n",
       "dtype: float64"
      ]
     },
     "execution_count": 16,
     "metadata": {},
     "output_type": "execute_result"
    }
   ],
   "source": [
    "s"
   ]
  },
  {
   "cell_type": "code",
   "execution_count": 19,
   "id": "37cf372f",
   "metadata": {},
   "outputs": [],
   "source": [
    "data={\n",
    "    \"a\": 10,\n",
    "    \"b\": 40,\n",
    "    \"c\": 90,\n",
    "    \"d\": 95\n",
    "}\n",
    "s= pd.Series(data,index=[\"c\",\"d\",\"e\",\"b\",\"a\"])"
   ]
  },
  {
   "cell_type": "code",
   "execution_count": 20,
   "id": "1a4e911f",
   "metadata": {},
   "outputs": [
    {
     "data": {
      "text/plain": [
       "c    90.0\n",
       "d    95.0\n",
       "e     NaN\n",
       "b    40.0\n",
       "a    10.0\n",
       "dtype: float64"
      ]
     },
     "execution_count": 20,
     "metadata": {},
     "output_type": "execute_result"
    }
   ],
   "source": [
    "s   #<- e has no value, so it give NaN"
   ]
  },
  {
   "cell_type": "code",
   "execution_count": null,
   "id": "40dfb9c2",
   "metadata": {},
   "outputs": [],
   "source": []
  },
  {
   "cell_type": "markdown",
   "id": "e8117961",
   "metadata": {},
   "source": [
    "# CRUD operation\n",
    "C -> creating a Series using the scalar value"
   ]
  },
  {
   "cell_type": "code",
   "execution_count": 22,
   "id": "ba3f3368",
   "metadata": {},
   "outputs": [],
   "source": [
    "data = 99  #<- It is a scalar value\n",
    "s= pd.Series(data, index=[101,102,103,104])  <- #It will gives the smae values to every indexs"
   ]
  },
  {
   "cell_type": "code",
   "execution_count": 23,
   "id": "401169b8",
   "metadata": {},
   "outputs": [
    {
     "data": {
      "text/plain": [
       "101    99\n",
       "102    99\n",
       "103    99\n",
       "104    99\n",
       "dtype: int64"
      ]
     },
     "execution_count": 23,
     "metadata": {},
     "output_type": "execute_result"
    }
   ],
   "source": [
    "s"
   ]
  },
  {
   "cell_type": "code",
   "execution_count": null,
   "id": "094552e1",
   "metadata": {},
   "outputs": [],
   "source": []
  },
  {
   "cell_type": "markdown",
   "id": "5c35a758",
   "metadata": {},
   "source": [
    "# U -> Updation\n",
    "1.Accessing the data from the pandas series DS"
   ]
  },
  {
   "cell_type": "code",
   "execution_count": 21,
   "id": "6a7842d3",
   "metadata": {},
   "outputs": [],
   "source": [
    "data=np.array([30,-7,65,-0.4,98,57,-21,10,89])\n",
    "s=pd.Series(data)"
   ]
  },
  {
   "cell_type": "code",
   "execution_count": 22,
   "id": "9194be55",
   "metadata": {},
   "outputs": [
    {
     "data": {
      "text/plain": [
       "0    30.0\n",
       "1    -7.0\n",
       "2    65.0\n",
       "3    -0.4\n",
       "4    98.0\n",
       "5    57.0\n",
       "6   -21.0\n",
       "7    10.0\n",
       "8    89.0\n",
       "dtype: float64"
      ]
     },
     "execution_count": 22,
     "metadata": {},
     "output_type": "execute_result"
    }
   ],
   "source": [
    "s"
   ]
  },
  {
   "cell_type": "code",
   "execution_count": 25,
   "id": "505b87b0",
   "metadata": {},
   "outputs": [
    {
     "data": {
      "text/plain": [
       "98.0"
      ]
     },
     "execution_count": 25,
     "metadata": {},
     "output_type": "execute_result"
    }
   ],
   "source": [
    "s[4]   #<- we use index number as same as array or list for watch the value at given index in row"
   ]
  },
  {
   "cell_type": "code",
   "execution_count": 26,
   "id": "6e603ac7",
   "metadata": {},
   "outputs": [
    {
     "data": {
      "text/plain": [
       "0    30.0\n",
       "1    -7.0\n",
       "2    65.0\n",
       "dtype: float64"
      ]
     },
     "execution_count": 26,
     "metadata": {},
     "output_type": "execute_result"
    }
   ],
   "source": [
    "# For find thw first 3 value of the series\n",
    "s[0:3]"
   ]
  },
  {
   "cell_type": "code",
   "execution_count": 28,
   "id": "8b725ba1",
   "metadata": {},
   "outputs": [
    {
     "data": {
      "text/plain": [
       "0    30.0\n",
       "1    -7.0\n",
       "2    65.0\n",
       "dtype: float64"
      ]
     },
     "execution_count": 28,
     "metadata": {},
     "output_type": "execute_result"
    }
   ],
   "source": [
    "s[:3]"
   ]
  },
  {
   "cell_type": "code",
   "execution_count": 31,
   "id": "e179ebb3",
   "metadata": {},
   "outputs": [
    {
     "data": {
      "text/plain": [
       "6   -21.0\n",
       "7    10.0\n",
       "8    89.0\n",
       "dtype: float64"
      ]
     },
     "execution_count": 31,
     "metadata": {},
     "output_type": "execute_result"
    }
   ],
   "source": [
    "# for find the values of last 3 rows\n",
    "s[6:]"
   ]
  },
  {
   "cell_type": "code",
   "execution_count": 35,
   "id": "a8dc8e00",
   "metadata": {},
   "outputs": [
    {
     "data": {
      "text/plain": [
       "6   -21.0\n",
       "7    10.0\n",
       "8    89.0\n",
       "dtype: float64"
      ]
     },
     "execution_count": 35,
     "metadata": {},
     "output_type": "execute_result"
    }
   ],
   "source": [
    "# You can also use negative index here for finding the value\n",
    "s[-3:]"
   ]
  },
  {
   "cell_type": "code",
   "execution_count": 31,
   "id": "9f8d1a71",
   "metadata": {},
   "outputs": [],
   "source": [
    "data={\n",
    "    \"A\":56,\n",
    "    \"B\":78,\n",
    "    \"C\":96,\n",
    "    \"D\":35\n",
    "}\n",
    "s=pd.Series(data,index=[\"a\",\"b\",\"C\",\"D\"])"
   ]
  },
  {
   "cell_type": "code",
   "execution_count": 32,
   "id": "515bb07a",
   "metadata": {},
   "outputs": [
    {
     "data": {
      "text/plain": [
       "a     NaN\n",
       "b     NaN\n",
       "C    96.0\n",
       "D    35.0\n",
       "dtype: float64"
      ]
     },
     "execution_count": 32,
     "metadata": {},
     "output_type": "execute_result"
    }
   ],
   "source": [
    "s"
   ]
  },
  {
   "cell_type": "code",
   "execution_count": 35,
   "id": "d9b75c74",
   "metadata": {},
   "outputs": [],
   "source": [
    "data=[85,64,96,45,26]\n",
    "s=pd.Series(data,index=[\"d\",\"f\",\"g\",\"h\",\"g\"])  #It will print both value with the same index"
   ]
  },
  {
   "cell_type": "code",
   "execution_count": 36,
   "id": "c71b037f",
   "metadata": {},
   "outputs": [
    {
     "data": {
      "text/plain": [
       "d    85\n",
       "f    64\n",
       "g    96\n",
       "h    45\n",
       "g    26\n",
       "dtype: int64"
      ]
     },
     "execution_count": 36,
     "metadata": {},
     "output_type": "execute_result"
    }
   ],
   "source": [
    "s"
   ]
  },
  {
   "cell_type": "code",
   "execution_count": 38,
   "id": "b7a8be46",
   "metadata": {},
   "outputs": [
    {
     "data": {
      "text/plain": [
       "g    96\n",
       "g    26\n",
       "dtype: int64"
      ]
     },
     "execution_count": 38,
     "metadata": {},
     "output_type": "execute_result"
    }
   ],
   "source": [
    "s[\"g\"]"
   ]
  },
  {
   "cell_type": "code",
   "execution_count": 39,
   "id": "72054049",
   "metadata": {},
   "outputs": [],
   "source": [
    "data={\n",
    "    \"a\": 10,\n",
    "    \"b\": 40,\n",
    "    \"c\": 90,\n",
    "    \"d\": 95\n",
    "}\n",
    "s= pd.Series(data,index=[\"c\",\"d\",\"e\",\"b\",\"a\"])"
   ]
  },
  {
   "cell_type": "code",
   "execution_count": 40,
   "id": "e274c737",
   "metadata": {},
   "outputs": [
    {
     "data": {
      "text/plain": [
       "c    90.0\n",
       "d    95.0\n",
       "e     NaN\n",
       "b    40.0\n",
       "a    10.0\n",
       "dtype: float64"
      ]
     },
     "execution_count": 40,
     "metadata": {},
     "output_type": "execute_result"
    }
   ],
   "source": [
    "s"
   ]
  },
  {
   "cell_type": "code",
   "execution_count": 42,
   "id": "b5132bb0",
   "metadata": {},
   "outputs": [
    {
     "data": {
      "text/plain": [
       "c    90.0\n",
       "b    40.0\n",
       "dtype: float64"
      ]
     },
     "execution_count": 42,
     "metadata": {},
     "output_type": "execute_result"
    }
   ],
   "source": [
    "s[[\"c\",\"b\"]]  #<- you can use this method for call multiple values from index"
   ]
  },
  {
   "cell_type": "code",
   "execution_count": 87,
   "id": "2ed00d0c",
   "metadata": {},
   "outputs": [
    {
     "data": {
      "text/plain": [
       "d    95.0\n",
       "c    90.0\n",
       "dtype: float64"
      ]
     },
     "execution_count": 87,
     "metadata": {},
     "output_type": "execute_result"
    }
   ],
   "source": [
    "s[{\"c\",\"d\"}]  #<- you can also use above method as same but in just curely bracket"
   ]
  },
  {
   "cell_type": "code",
   "execution_count": 43,
   "id": "993f6f9f",
   "metadata": {},
   "outputs": [
    {
     "data": {
      "text/plain": [
       "Index(['c', 'd', 'e', 'b', 'a'], dtype='object')"
      ]
     },
     "execution_count": 43,
     "metadata": {},
     "output_type": "execute_result"
    }
   ],
   "source": [
    "s.index"
   ]
  },
  {
   "cell_type": "code",
   "execution_count": 88,
   "id": "6a1fc25f",
   "metadata": {},
   "outputs": [
    {
     "name": "stdout",
     "output_type": "stream",
     "text": [
      "40.0\n",
      "10.0\n"
     ]
    }
   ],
   "source": [
    "for i in s.index:\n",
    "    if i==\"a\" or i==\"b\":\n",
    "        print(s[i])"
   ]
  },
  {
   "cell_type": "code",
   "execution_count": 89,
   "id": "4f3235a2",
   "metadata": {},
   "outputs": [
    {
     "data": {
      "text/plain": [
       "c    90.0\n",
       "d    95.0\n",
       "e     NaN\n",
       "b    40.0\n",
       "a    10.0\n",
       "dtype: float64"
      ]
     },
     "execution_count": 89,
     "metadata": {},
     "output_type": "execute_result"
    }
   ],
   "source": [
    "s"
   ]
  },
  {
   "cell_type": "code",
   "execution_count": 91,
   "id": "4d64e3ac",
   "metadata": {},
   "outputs": [],
   "source": [
    "s[\"e\"]=85.5   #<- it will assign the value to at index \"e\""
   ]
  },
  {
   "cell_type": "code",
   "execution_count": 92,
   "id": "3be9ac98",
   "metadata": {},
   "outputs": [
    {
     "data": {
      "text/plain": [
       "c    90.0\n",
       "d    95.0\n",
       "e    85.5\n",
       "b    40.0\n",
       "a    10.0\n",
       "dtype: float64"
      ]
     },
     "execution_count": 92,
     "metadata": {},
     "output_type": "execute_result"
    }
   ],
   "source": [
    "s"
   ]
  },
  {
   "cell_type": "code",
   "execution_count": null,
   "id": "7bf94a5f",
   "metadata": {},
   "outputs": [],
   "source": []
  },
  {
   "cell_type": "markdown",
   "id": "69c4dc66",
   "metadata": {},
   "source": [
    "# Boolean Masking\n",
    "\n",
    "    0 -> False\n",
    "    1 -> True"
   ]
  },
  {
   "cell_type": "code",
   "execution_count": 93,
   "id": "3c2b7b83",
   "metadata": {},
   "outputs": [
    {
     "data": {
      "text/plain": [
       "c    90.0\n",
       "d    95.0\n",
       "e    85.5\n",
       "b    40.0\n",
       "a    10.0\n",
       "dtype: float64"
      ]
     },
     "execution_count": 93,
     "metadata": {},
     "output_type": "execute_result"
    }
   ],
   "source": [
    "s"
   ]
  },
  {
   "cell_type": "code",
   "execution_count": 94,
   "id": "def69f0f",
   "metadata": {},
   "outputs": [
    {
     "data": {
      "text/plain": [
       "c     True\n",
       "d     True\n",
       "e     True\n",
       "b    False\n",
       "a    False\n",
       "dtype: bool"
      ]
     },
     "execution_count": 94,
     "metadata": {},
     "output_type": "execute_result"
    }
   ],
   "source": [
    "s>50"
   ]
  },
  {
   "cell_type": "code",
   "execution_count": 95,
   "id": "ca181d37",
   "metadata": {},
   "outputs": [
    {
     "data": {
      "text/plain": [
       "c    90.0\n",
       "d    95.0\n",
       "e    85.5\n",
       "dtype: float64"
      ]
     },
     "execution_count": 95,
     "metadata": {},
     "output_type": "execute_result"
    }
   ],
   "source": [
    "s[s>50]    #It returns only that values which are true in series"
   ]
  },
  {
   "cell_type": "code",
   "execution_count": 97,
   "id": "987d32ff",
   "metadata": {},
   "outputs": [
    {
     "data": {
      "text/plain": [
       "d    95.0\n",
       "dtype: float64"
      ]
     },
     "execution_count": 97,
     "metadata": {},
     "output_type": "execute_result"
    }
   ],
   "source": [
    "s[s>90]"
   ]
  },
  {
   "cell_type": "code",
   "execution_count": 47,
   "id": "871a64ff",
   "metadata": {},
   "outputs": [
    {
     "ename": "ValueError",
     "evalue": "The truth value of a Series is ambiguous. Use a.empty, a.bool(), a.item(), a.any() or a.all().",
     "output_type": "error",
     "traceback": [
      "\u001b[1;31m---------------------------------------------------------------------------\u001b[0m",
      "\u001b[1;31mValueError\u001b[0m                                Traceback (most recent call last)",
      "\u001b[1;32m<ipython-input-47-cfc9edc6b475>\u001b[0m in \u001b[0;36m<module>\u001b[1;34m\u001b[0m\n\u001b[1;32m----> 1\u001b[1;33m \u001b[0ms\u001b[0m\u001b[1;33m[\u001b[0m\u001b[0ms\u001b[0m\u001b[1;33m>\u001b[0m\u001b[1;36m90\u001b[0m \u001b[1;32mor\u001b[0m \u001b[0ms\u001b[0m\u001b[1;33m>\u001b[0m\u001b[1;36m10\u001b[0m\u001b[1;33m]\u001b[0m    \u001b[1;31m#It gives value error means you can't add multiple condition like that\u001b[0m\u001b[1;33m\u001b[0m\u001b[1;33m\u001b[0m\u001b[0m\n\u001b[0m",
      "\u001b[1;32m~\\anaconda3\\lib\\site-packages\\pandas\\core\\generic.py\u001b[0m in \u001b[0;36m__nonzero__\u001b[1;34m(self)\u001b[0m\n\u001b[0;32m   1440\u001b[0m     \u001b[1;33m@\u001b[0m\u001b[0mfinal\u001b[0m\u001b[1;33m\u001b[0m\u001b[1;33m\u001b[0m\u001b[0m\n\u001b[0;32m   1441\u001b[0m     \u001b[1;32mdef\u001b[0m \u001b[0m__nonzero__\u001b[0m\u001b[1;33m(\u001b[0m\u001b[0mself\u001b[0m\u001b[1;33m)\u001b[0m\u001b[1;33m:\u001b[0m\u001b[1;33m\u001b[0m\u001b[1;33m\u001b[0m\u001b[0m\n\u001b[1;32m-> 1442\u001b[1;33m         raise ValueError(\n\u001b[0m\u001b[0;32m   1443\u001b[0m             \u001b[1;34mf\"The truth value of a {type(self).__name__} is ambiguous. \"\u001b[0m\u001b[1;33m\u001b[0m\u001b[1;33m\u001b[0m\u001b[0m\n\u001b[0;32m   1444\u001b[0m             \u001b[1;34m\"Use a.empty, a.bool(), a.item(), a.any() or a.all().\"\u001b[0m\u001b[1;33m\u001b[0m\u001b[1;33m\u001b[0m\u001b[0m\n",
      "\u001b[1;31mValueError\u001b[0m: The truth value of a Series is ambiguous. Use a.empty, a.bool(), a.item(), a.any() or a.all()."
     ]
    }
   ],
   "source": [
    "s[s>90 or s>10]    #It gives value error means you can't add multiple condition like that"
   ]
  },
  {
   "cell_type": "code",
   "execution_count": 48,
   "id": "83522e63",
   "metadata": {},
   "outputs": [
    {
     "data": {
      "text/plain": [
       "c    90.0\n",
       "d    95.0\n",
       "e     NaN\n",
       "b    40.0\n",
       "a    10.0\n",
       "dtype: float64"
      ]
     },
     "execution_count": 48,
     "metadata": {},
     "output_type": "execute_result"
    }
   ],
   "source": [
    "s"
   ]
  },
  {
   "cell_type": "code",
   "execution_count": 111,
   "id": "38d0e33c",
   "metadata": {},
   "outputs": [
    {
     "data": {
      "text/plain": [
       "(5,)"
      ]
     },
     "execution_count": 111,
     "metadata": {},
     "output_type": "execute_result"
    }
   ],
   "source": [
    "s.shape   # There are total 5 values in the s and also remember that, series have only 1 dimension. So, it will give only 1 values in dimension "
   ]
  },
  {
   "cell_type": "code",
   "execution_count": 112,
   "id": "405efcbd",
   "metadata": {},
   "outputs": [
    {
     "data": {
      "text/plain": [
       "1"
      ]
     },
     "execution_count": 112,
     "metadata": {},
     "output_type": "execute_result"
    }
   ],
   "source": [
    "s.ndim"
   ]
  },
  {
   "cell_type": "code",
   "execution_count": 113,
   "id": "39727bc3",
   "metadata": {},
   "outputs": [
    {
     "data": {
      "text/plain": [
       "5"
      ]
     },
     "execution_count": 113,
     "metadata": {},
     "output_type": "execute_result"
    }
   ],
   "source": [
    "s.size  #<- it returns the total no. of elements inside the series"
   ]
  },
  {
   "cell_type": "code",
   "execution_count": 49,
   "id": "fb814ed6",
   "metadata": {},
   "outputs": [
    {
     "data": {
      "text/plain": [
       "Index(['c', 'd', 'e', 'b', 'a'], dtype='object')"
      ]
     },
     "execution_count": 49,
     "metadata": {},
     "output_type": "execute_result"
    }
   ],
   "source": [
    "s.index  #It gives all the index of s"
   ]
  },
  {
   "cell_type": "code",
   "execution_count": 51,
   "id": "06426679",
   "metadata": {},
   "outputs": [
    {
     "data": {
      "text/plain": [
       "array([90., 95., nan, 40., 10.])"
      ]
     },
     "execution_count": 51,
     "metadata": {},
     "output_type": "execute_result"
    }
   ],
   "source": [
    "s.values  #It gives the values of s\n",
    "\n",
    "# Decimal - 3 , 4, 5 ,6987\n",
    "# Double - 5.6\n",
    "# Float - 5.6888888"
   ]
  },
  {
   "cell_type": "code",
   "execution_count": 116,
   "id": "e61ed32d",
   "metadata": {},
   "outputs": [
    {
     "data": {
      "text/plain": [
       "False"
      ]
     },
     "execution_count": 116,
     "metadata": {},
     "output_type": "execute_result"
    }
   ],
   "source": [
    "\"10.0\" in s.values  #<- It will return false bcoz it is string"
   ]
  },
  {
   "cell_type": "code",
   "execution_count": 69,
   "id": "17d91784",
   "metadata": {},
   "outputs": [
    {
     "data": {
      "text/plain": [
       "True"
      ]
     },
     "execution_count": 69,
     "metadata": {},
     "output_type": "execute_result"
    }
   ],
   "source": [
    "10.0 in s.values"
   ]
  },
  {
   "cell_type": "code",
   "execution_count": 71,
   "id": "8fd64d1f",
   "metadata": {},
   "outputs": [
    {
     "data": {
      "text/plain": [
       "True"
      ]
     },
     "execution_count": 71,
     "metadata": {},
     "output_type": "execute_result"
    }
   ],
   "source": [
    "90 in s.values"
   ]
  },
  {
   "cell_type": "code",
   "execution_count": 70,
   "id": "f441fe5c",
   "metadata": {},
   "outputs": [
    {
     "data": {
      "text/plain": [
       "True"
      ]
     },
     "execution_count": 70,
     "metadata": {},
     "output_type": "execute_result"
    }
   ],
   "source": [
    "\"a\" in s  # You can directly connect with index, but not with values"
   ]
  },
  {
   "cell_type": "code",
   "execution_count": null,
   "id": "641c8932",
   "metadata": {},
   "outputs": [],
   "source": []
  },
  {
   "cell_type": "markdown",
   "id": "d2cfe82b",
   "metadata": {},
   "source": [
    "# Delete"
   ]
  },
  {
   "cell_type": "code",
   "execution_count": 73,
   "id": "b0cdc372",
   "metadata": {},
   "outputs": [
    {
     "data": {
      "text/plain": [
       "c    90.0\n",
       "d    95.0\n",
       "e     NaN\n",
       "b    40.0\n",
       "a    10.0\n",
       "dtype: float64"
      ]
     },
     "execution_count": 73,
     "metadata": {},
     "output_type": "execute_result"
    }
   ],
   "source": [
    "s"
   ]
  },
  {
   "cell_type": "code",
   "execution_count": 74,
   "id": "a495c546",
   "metadata": {},
   "outputs": [
    {
     "data": {
      "text/plain": [
       "c    90.0\n",
       "d    95.0\n",
       "e     NaN\n",
       "b    40.0\n",
       "dtype: float64"
      ]
     },
     "execution_count": 74,
     "metadata": {},
     "output_type": "execute_result"
    }
   ],
   "source": [
    "s.drop(\"a\")  #<- It will not effect on real s. This is temporary delete"
   ]
  },
  {
   "cell_type": "code",
   "execution_count": 75,
   "id": "b8a9d58e",
   "metadata": {},
   "outputs": [
    {
     "data": {
      "text/plain": [
       "c    90.0\n",
       "d    95.0\n",
       "e     NaN\n",
       "b    40.0\n",
       "a    10.0\n",
       "dtype: float64"
      ]
     },
     "execution_count": 75,
     "metadata": {},
     "output_type": "execute_result"
    }
   ],
   "source": [
    "s    "
   ]
  },
  {
   "cell_type": "code",
   "execution_count": 76,
   "id": "e5bd8189",
   "metadata": {},
   "outputs": [],
   "source": [
    "s.drop(\"e\",inplace=True)    #<- it will permanently delete the the index a from s"
   ]
  },
  {
   "cell_type": "code",
   "execution_count": 77,
   "id": "ec6278c4",
   "metadata": {},
   "outputs": [
    {
     "data": {
      "text/plain": [
       "c    90.0\n",
       "d    95.0\n",
       "b    40.0\n",
       "a    10.0\n",
       "dtype: float64"
      ]
     },
     "execution_count": 77,
     "metadata": {},
     "output_type": "execute_result"
    }
   ],
   "source": [
    "s"
   ]
  },
  {
   "cell_type": "code",
   "execution_count": 78,
   "id": "465f9fb3",
   "metadata": {},
   "outputs": [
    {
     "data": {
      "text/plain": [
       "d    95.0\n",
       "a    10.0\n",
       "dtype: float64"
      ]
     },
     "execution_count": 78,
     "metadata": {},
     "output_type": "execute_result"
    }
   ],
   "source": [
    "s.drop([\"c\",\"b\"])"
   ]
  },
  {
   "cell_type": "code",
   "execution_count": 79,
   "id": "fab6a857",
   "metadata": {},
   "outputs": [],
   "source": [
    "s.drop([\"c\",\"d\"],inplace=True)"
   ]
  },
  {
   "cell_type": "code",
   "execution_count": 80,
   "id": "ca601096",
   "metadata": {},
   "outputs": [
    {
     "data": {
      "text/plain": [
       "b    40.0\n",
       "a    10.0\n",
       "dtype: float64"
      ]
     },
     "execution_count": 80,
     "metadata": {},
     "output_type": "execute_result"
    }
   ],
   "source": [
    "s"
   ]
  },
  {
   "cell_type": "code",
   "execution_count": null,
   "id": "8cea9eea",
   "metadata": {},
   "outputs": [],
   "source": []
  },
  {
   "cell_type": "code",
   "execution_count": 81,
   "id": "732e8848",
   "metadata": {},
   "outputs": [],
   "source": [
    "del s  #<- It will permanenently delete the series s"
   ]
  },
  {
   "cell_type": "code",
   "execution_count": 82,
   "id": "34f8d928",
   "metadata": {},
   "outputs": [
    {
     "ename": "NameError",
     "evalue": "name 's' is not defined",
     "output_type": "error",
     "traceback": [
      "\u001b[1;31m---------------------------------------------------------------------------\u001b[0m",
      "\u001b[1;31mNameError\u001b[0m                                 Traceback (most recent call last)",
      "\u001b[1;32m<ipython-input-82-ded5ba42480f>\u001b[0m in \u001b[0;36m<module>\u001b[1;34m\u001b[0m\n\u001b[1;32m----> 1\u001b[1;33m \u001b[0ms\u001b[0m\u001b[1;33m\u001b[0m\u001b[1;33m\u001b[0m\u001b[0m\n\u001b[0m",
      "\u001b[1;31mNameError\u001b[0m: name 's' is not defined"
     ]
    }
   ],
   "source": [
    "s"
   ]
  },
  {
   "cell_type": "code",
   "execution_count": 87,
   "id": "2ba64013",
   "metadata": {},
   "outputs": [],
   "source": [
    "data={\n",
    "    \"a\": 10,\n",
    "    \"b\": 40,\n",
    "    \"c\": 90,\n",
    "    \"d\": 95\n",
    "}\n",
    "s= pd.Series(data,index=[\"c\",\"d\",\"e\",\"b\",\"a\"])"
   ]
  },
  {
   "cell_type": "code",
   "execution_count": 88,
   "id": "bc2b44d5",
   "metadata": {},
   "outputs": [
    {
     "data": {
      "text/plain": [
       "c    90.0\n",
       "d    95.0\n",
       "e     NaN\n",
       "b    40.0\n",
       "a    10.0\n",
       "dtype: float64"
      ]
     },
     "execution_count": 88,
     "metadata": {},
     "output_type": "execute_result"
    }
   ],
   "source": [
    "s"
   ]
  },
  {
   "cell_type": "code",
   "execution_count": 89,
   "id": "a5a367b6",
   "metadata": {},
   "outputs": [
    {
     "data": {
      "text/plain": [
       "c    92.0\n",
       "d    97.0\n",
       "e     NaN\n",
       "b    42.0\n",
       "a    12.0\n",
       "dtype: float64"
      ]
     },
     "execution_count": 89,
     "metadata": {},
     "output_type": "execute_result"
    }
   ],
   "source": [
    "s+2    #<- it doesn't effect on real value of s"
   ]
  },
  {
   "cell_type": "code",
   "execution_count": 90,
   "id": "ed876413",
   "metadata": {},
   "outputs": [
    {
     "data": {
      "text/plain": [
       "c    88.0\n",
       "d    93.0\n",
       "e     NaN\n",
       "b    38.0\n",
       "a     8.0\n",
       "dtype: float64"
      ]
     },
     "execution_count": 90,
     "metadata": {},
     "output_type": "execute_result"
    }
   ],
   "source": [
    "s-2"
   ]
  },
  {
   "cell_type": "code",
   "execution_count": 91,
   "id": "1a87d0c7",
   "metadata": {},
   "outputs": [
    {
     "data": {
      "text/plain": [
       "c    180.0\n",
       "d    190.0\n",
       "e      NaN\n",
       "b     80.0\n",
       "a     20.0\n",
       "dtype: float64"
      ]
     },
     "execution_count": 91,
     "metadata": {},
     "output_type": "execute_result"
    }
   ],
   "source": [
    "s*2"
   ]
  },
  {
   "cell_type": "code",
   "execution_count": 141,
   "id": "0fbc94fe",
   "metadata": {},
   "outputs": [
    {
     "data": {
      "text/plain": [
       "c    9.0\n",
       "d    9.5\n",
       "e    NaN\n",
       "b    4.0\n",
       "a    1.0\n",
       "dtype: float64"
      ]
     },
     "execution_count": 141,
     "metadata": {},
     "output_type": "execute_result"
    }
   ],
   "source": [
    "s/10"
   ]
  },
  {
   "cell_type": "code",
   "execution_count": 142,
   "id": "2e530d96",
   "metadata": {},
   "outputs": [
    {
     "data": {
      "text/plain": [
       "c    8100.0\n",
       "d    9025.0\n",
       "e       NaN\n",
       "b    1600.0\n",
       "a     100.0\n",
       "dtype: float64"
      ]
     },
     "execution_count": 142,
     "metadata": {},
     "output_type": "execute_result"
    }
   ],
   "source": [
    "s**2"
   ]
  },
  {
   "cell_type": "code",
   "execution_count": 92,
   "id": "7b82dbba",
   "metadata": {},
   "outputs": [
    {
     "data": {
      "text/plain": [
       "c    8100.0\n",
       "d    9025.0\n",
       "e       NaN\n",
       "b    1600.0\n",
       "a     100.0\n",
       "dtype: float64"
      ]
     },
     "execution_count": 92,
     "metadata": {},
     "output_type": "execute_result"
    }
   ],
   "source": [
    "np.power(s,2)   #<- np can be used here, bcoz panda library is made based on numpy"
   ]
  },
  {
   "cell_type": "code",
   "execution_count": 93,
   "id": "012097a8",
   "metadata": {},
   "outputs": [
    {
     "data": {
      "text/plain": [
       "c    1.220403e+39\n",
       "d    1.811239e+41\n",
       "e             NaN\n",
       "b    2.353853e+17\n",
       "a    2.202647e+04\n",
       "dtype: float64"
      ]
     },
     "execution_count": 93,
     "metadata": {},
     "output_type": "execute_result"
    }
   ],
   "source": [
    "np.exp(s)   #<- It gives the exponential form of s"
   ]
  },
  {
   "cell_type": "code",
   "execution_count": 94,
   "id": "a44d33f0",
   "metadata": {},
   "outputs": [],
   "source": [
    "s.drop(\"e\",inplace=True)"
   ]
  },
  {
   "cell_type": "code",
   "execution_count": 100,
   "id": "18183bde",
   "metadata": {},
   "outputs": [
    {
     "data": {
      "text/plain": [
       "c    90.0\n",
       "d    95.0\n",
       "b    40.0\n",
       "a    10.0\n",
       "dtype: float64"
      ]
     },
     "execution_count": 100,
     "metadata": {},
     "output_type": "execute_result"
    }
   ],
   "source": [
    "s"
   ]
  },
  {
   "cell_type": "code",
   "execution_count": 101,
   "id": "190287c7",
   "metadata": {},
   "outputs": [
    {
     "data": {
      "text/plain": [
       "array([-0.63004624+0.j        , -0.21275466+0.36206264j,\n",
       "       -0.21275466-0.36206264j])"
      ]
     },
     "execution_count": 101,
     "metadata": {},
     "output_type": "execute_result"
    }
   ],
   "source": [
    "np.roots(s)"
   ]
  },
  {
   "cell_type": "code",
   "execution_count": 99,
   "id": "c6512f94",
   "metadata": {},
   "outputs": [
    {
     "data": {
      "text/plain": [
       "c    9.486833\n",
       "d    9.746794\n",
       "b    6.324555\n",
       "a    3.162278\n",
       "dtype: float64"
      ]
     },
     "execution_count": 99,
     "metadata": {},
     "output_type": "execute_result"
    }
   ],
   "source": [
    "s**(1/2)"
   ]
  },
  {
   "cell_type": "code",
   "execution_count": null,
   "id": "394bd05c",
   "metadata": {},
   "outputs": [],
   "source": []
  },
  {
   "cell_type": "code",
   "execution_count": null,
   "id": "76e70a19",
   "metadata": {},
   "outputs": [],
   "source": []
  },
  {
   "cell_type": "code",
   "execution_count": null,
   "id": "f98a3755",
   "metadata": {},
   "outputs": [],
   "source": []
  },
  {
   "cell_type": "code",
   "execution_count": null,
   "id": "200c8409",
   "metadata": {},
   "outputs": [],
   "source": []
  },
  {
   "cell_type": "code",
   "execution_count": null,
   "id": "1a6e408b",
   "metadata": {},
   "outputs": [],
   "source": []
  },
  {
   "cell_type": "code",
   "execution_count": null,
   "id": "b282222c",
   "metadata": {},
   "outputs": [],
   "source": []
  },
  {
   "cell_type": "code",
   "execution_count": null,
   "id": "ae5f9bd7",
   "metadata": {},
   "outputs": [],
   "source": []
  },
  {
   "cell_type": "code",
   "execution_count": null,
   "id": "50d85c24",
   "metadata": {},
   "outputs": [],
   "source": []
  },
  {
   "cell_type": "code",
   "execution_count": null,
   "id": "74657a54",
   "metadata": {},
   "outputs": [],
   "source": []
  },
  {
   "cell_type": "code",
   "execution_count": null,
   "id": "0da477b2",
   "metadata": {},
   "outputs": [],
   "source": []
  },
  {
   "cell_type": "code",
   "execution_count": 2,
   "id": "64c04ef9",
   "metadata": {},
   "outputs": [
    {
     "data": {
      "application/javascript": [
       "IPython.notebook.set_autosave_interval(120000)"
      ]
     },
     "metadata": {},
     "output_type": "display_data"
    },
    {
     "name": "stdout",
     "output_type": "stream",
     "text": [
      "Autosaving every 120 seconds\n"
     ]
    }
   ],
   "source": [
    "%autosave 120"
   ]
  }
 ],
 "metadata": {
  "kernelspec": {
   "display_name": "Python 3",
   "language": "python",
   "name": "python3"
  },
  "language_info": {
   "codemirror_mode": {
    "name": "ipython",
    "version": 3
   },
   "file_extension": ".py",
   "mimetype": "text/x-python",
   "name": "python",
   "nbconvert_exporter": "python",
   "pygments_lexer": "ipython3",
   "version": "3.9.5"
  }
 },
 "nbformat": 4,
 "nbformat_minor": 5
}
